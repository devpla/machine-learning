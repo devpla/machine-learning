{
 "cells": [
  {
   "cell_type": "markdown",
   "metadata": {
    "id": "tv8Ppf_U-xAK"
   },
   "source": [
    "# 01. k-최근접 이웃 (k-NN)\n",
    "작성일 : 2020-09-28\n",
    "- - -"
   ]
  },
  {
   "cell_type": "markdown",
   "metadata": {
    "id": "OutZlSvQhFQ8"
   },
   "source": [
    "**K-최근접 이웃**(k-NN, k-Nearest Neighbors) 알고리즘은 **특정공간내에서 입력과 제일 근접한 k개의 요소를 찾아, 더 많이 일치하는 것으로 분류하는 알고리즘**이다."
   ]
  },
  {
   "cell_type": "markdown",
   "metadata": {
    "id": "gLUbntCwnp24"
   },
   "source": [
    "## 1.1 원리\n",
    "\n",
    "|사회적인 관점|공간적인 관점|\n",
    "|--|--|\n",
    "|- 비슷한 사람끼리 모이는 성질 <br> - 비슷한 취향의 사람끼리 모여서 동호회를 만든다. <br> - 비슷한 부류의 계층의 사람끼리 친분을 맺기도 한다. | - 가구점 <br> - 맛집 <br> - 한약방| "
   ]
  },
  {
   "cell_type": "markdown",
   "metadata": {
    "id": "oMh13lylv9lo"
   },
   "source": [
    "<br>"
   ]
  },
  {
   "cell_type": "markdown",
   "metadata": {
    "id": "vHSaDnhd_E1N"
   },
   "source": [
    "## 1.2 거리계산 알고리즘\n",
    "- 유클리드 거리 (Euclidean distance)\n",
    "- 두 점 사이의 거리\n",
    "\n",
    "```\n",
    "1. 수직선\n",
    "\n",
    "----|------------|---------\n",
    "    a            b  \n",
    "    큰값 - 작은값\n",
    "    |b - a|\n",
    "\n",
    "2. 평면 \n",
    "\n",
    "    p(x1,x2) q(x2,y2)\n",
    "    math.sqrt((x1-x2)**2 + (y1-y2) **2)\n",
    "```\n",
    "\n"
   ]
  },
  {
   "cell_type": "markdown",
   "metadata": {
    "id": "EfAG_yah_VKS"
   },
   "source": [
    "## 1.3 k-NN 알고리즘\n",
    "- 유클리드 거리계산을 해서 오름차순으로 정렬\n",
    "- k = 3일 경우 가장 가까운 거리의 3개 선택, 이를 다수결로 분류\n",
    "- 가장 중요한 것은 k값. k값을 어떻게 주느냐에 따라 분류가 달라진다.\n",
    "- k값은 홀수로 하는 것이 일반적"
   ]
  },
  {
   "cell_type": "markdown",
   "metadata": {
    "id": "XMqgXLUcfixA"
   },
   "source": [
    "![knn](https://miro.medium.com/max/810/0*QyWp7J6eSz0tayc0.png)"
   ]
  },
  {
   "cell_type": "markdown",
   "metadata": {
    "id": "sVUOlSc1_YL6"
   },
   "source": [
    "[문제1] 거리계산을 한 후 가장 가까운 3개만 추출해주세요."
   ]
  },
  {
   "cell_type": "code",
   "execution_count": null,
   "metadata": {
    "id": "7pDxTjMdAFMB"
   },
   "outputs": [],
   "source": [
    "point = [2,1]\n",
    "pointlst = [(1,1),(1,0),(2,0),(0,1),(2,2),(1,5),(2,3)]"
   ]
  },
  {
   "cell_type": "code",
   "execution_count": null,
   "metadata": {
    "id": "UYlgzIeqAIpc"
   },
   "outputs": [],
   "source": [
    "import math\n",
    "dislst = []\n",
    "for i in pointlst:\n",
    "    x, y = i\n",
    "    dis = math.sqrt((2 - x)**2 + (1 - y)**2)\n",
    "    dislst.append(dis)"
   ]
  },
  {
   "cell_type": "code",
   "execution_count": null,
   "metadata": {
    "colab": {
     "base_uri": "https://localhost:8080/",
     "height": 74
    },
    "id": "LceeRzWZAJwj",
    "outputId": "2fc6eb5e-bb5f-4730-836b-e706be0a6116"
   },
   "outputs": [
    {
     "name": "stdout",
     "output_type": "stream",
     "text": [
      "(1, 1)\n",
      "(2, 0)\n",
      "(2, 2)\n"
     ]
    }
   ],
   "source": [
    "num = 0\n",
    "for i in dislst:\n",
    "    if i == min(dislst):\n",
    "        print(pointlst[num])\n",
    "    num += 1"
   ]
  },
  {
   "cell_type": "markdown",
   "metadata": {
    "id": "GgLpwfYvgOaF"
   },
   "source": [
    "<br>"
   ]
  },
  {
   "cell_type": "markdown",
   "metadata": {
    "id": "XdS6RjNMAMOr"
   },
   "source": [
    "[해설1]"
   ]
  },
  {
   "cell_type": "code",
   "execution_count": null,
   "metadata": {
    "id": "8mRnYjjdAK87"
   },
   "outputs": [],
   "source": [
    "import numpy as np\n",
    "import operator\n",
    "\n",
    "result = []\n",
    "for i in pointlst:\n",
    "    result.append(np.sqrt((point[0] - i[0])**2 + ((point[1] - i[1])**2)))"
   ]
  },
  {
   "cell_type": "code",
   "execution_count": null,
   "metadata": {
    "colab": {
     "base_uri": "https://localhost:8080/",
     "height": 36
    },
    "id": "5Tvm7vvMASGS",
    "outputId": "8a78af38-dbb2-4852-a3b2-9cb711e39c40"
   },
   "outputs": [
    {
     "data": {
      "text/plain": [
       "[1.0, 1.0, 1.0, 1.4142135623730951, 2.0, 2.0, 4.123105625617661]"
      ]
     },
     "execution_count": 5,
     "metadata": {
      "tags": []
     },
     "output_type": "execute_result"
    }
   ],
   "source": [
    "result.sort()   # 리스트에 정렬하여 적용\n",
    "sorted(result)  # 정렬한 값 미리보기"
   ]
  },
  {
   "cell_type": "code",
   "execution_count": null,
   "metadata": {
    "colab": {
     "base_uri": "https://localhost:8080/",
     "height": 74
    },
    "id": "TRY0KPTeATHA",
    "outputId": "e6f9afa3-b8d5-48b5-bb2e-fac6f28638ac"
   },
   "outputs": [
    {
     "name": "stdout",
     "output_type": "stream",
     "text": [
      "(1, 1)\n",
      "(1, 0)\n",
      "(2, 0)\n"
     ]
    }
   ],
   "source": [
    "for i in np.argsort(result)[:3]: # 데이터 정렬하여 인덱스 반환\n",
    "    print(pointlst[i])"
   ]
  },
  {
   "cell_type": "markdown",
   "metadata": {
    "id": "KKPs0ERXGrpg"
   },
   "source": [
    "### 참고 | 자료형 별 연산\n"
   ]
  },
  {
   "cell_type": "markdown",
   "metadata": {
    "id": "7I_cpCUmg2hR"
   },
   "source": [
    "#### (1) list\n",
    "리스트 형식으로 연산을 하기 위해서는 인덱싱 필요"
   ]
  },
  {
   "cell_type": "code",
   "execution_count": null,
   "metadata": {
    "colab": {
     "base_uri": "https://localhost:8080/",
     "height": 36
    },
    "id": "dpUb8pe4AWxC",
    "outputId": "aba13555-3ef3-450b-85b7-c9a1d559595f"
   },
   "outputs": [
    {
     "data": {
      "text/plain": [
       "1"
      ]
     },
     "execution_count": 7,
     "metadata": {
      "tags": []
     },
     "output_type": "execute_result"
    }
   ],
   "source": [
    "point[0] - pointlst[0][0]"
   ]
  },
  {
   "cell_type": "code",
   "execution_count": null,
   "metadata": {
    "colab": {
     "base_uri": "https://localhost:8080/",
     "height": 36
    },
    "id": "gZe-GGTuAW1F",
    "outputId": "1ebb0bcd-8538-41ba-cedd-bacad8219c9e"
   },
   "outputs": [
    {
     "data": {
      "text/plain": [
       "0"
      ]
     },
     "execution_count": 8,
     "metadata": {
      "tags": []
     },
     "output_type": "execute_result"
    }
   ],
   "source": [
    "point[1] - pointlst[0][1]"
   ]
  },
  {
   "cell_type": "markdown",
   "metadata": {
    "id": "FfTyiI53G6P9"
   },
   "source": [
    "#### (2) array\n",
    "array로 변환할 경우"
   ]
  },
  {
   "cell_type": "code",
   "execution_count": null,
   "metadata": {
    "colab": {
     "base_uri": "https://localhost:8080/",
     "height": 150
    },
    "id": "w-6oKel8AW4c",
    "outputId": "02a64850-caee-4f46-e121-e9e72f3c0b12"
   },
   "outputs": [
    {
     "data": {
      "text/plain": [
       "array([[ 1,  0],\n",
       "       [ 1,  1],\n",
       "       [ 0,  1],\n",
       "       [ 2,  0],\n",
       "       [ 0, -1],\n",
       "       [ 1, -4],\n",
       "       [ 0, -2]])"
      ]
     },
     "execution_count": 9,
     "metadata": {
      "tags": []
     },
     "output_type": "execute_result"
    }
   ],
   "source": [
    "np.array(point) - np.array(pointlst)"
   ]
  },
  {
   "cell_type": "markdown",
   "metadata": {
    "id": "vLBPfouiHAlA"
   },
   "source": [
    "##### broadcasting\n",
    "shape이 맞지 않을 경우 자동으로 broadcasting 작업이 돌아간다."
   ]
  },
  {
   "cell_type": "code",
   "execution_count": null,
   "metadata": {
    "colab": {
     "base_uri": "https://localhost:8080/",
     "height": 36
    },
    "id": "wum5jXfyAW7m",
    "outputId": "3d5a2d4d-cad1-4370-f550-5cfcb6321669"
   },
   "outputs": [
    {
     "data": {
      "text/plain": [
       "(2,)"
      ]
     },
     "execution_count": 10,
     "metadata": {
      "tags": []
     },
     "output_type": "execute_result"
    }
   ],
   "source": [
    "np.array(point).shape"
   ]
  },
  {
   "cell_type": "code",
   "execution_count": null,
   "metadata": {
    "colab": {
     "base_uri": "https://localhost:8080/",
     "height": 36
    },
    "id": "wWQRotw_AW_R",
    "outputId": "312cfde2-34d2-4c2d-b8ff-2dae86a252b2"
   },
   "outputs": [
    {
     "data": {
      "text/plain": [
       "(7, 2)"
      ]
     },
     "execution_count": 11,
     "metadata": {
      "tags": []
     },
     "output_type": "execute_result"
    }
   ],
   "source": [
    "np.array(pointlst).shape"
   ]
  },
  {
   "cell_type": "code",
   "execution_count": null,
   "metadata": {
    "colab": {
     "base_uri": "https://localhost:8080/",
     "height": 55
    },
    "id": "w5jVXHMSHEg1",
    "outputId": "faeeb7d0-406a-4f4c-f43e-20e4245a29ce"
   },
   "outputs": [
    {
     "data": {
      "text/plain": [
       "array([1.        , 1.41421356, 1.        , 2.        , 1.        ,\n",
       "       4.12310563, 2.        ])"
      ]
     },
     "execution_count": 12,
     "metadata": {
      "tags": []
     },
     "output_type": "execute_result"
    }
   ],
   "source": [
    "point1 = np.array(point)\n",
    "point2 = np.array(pointlst)\n",
    "dist = np.sqrt(np.sum(pow(point1 - point2, 2), axis = 1))\n",
    "dist"
   ]
  },
  {
   "cell_type": "code",
   "execution_count": null,
   "metadata": {
    "colab": {
     "base_uri": "https://localhost:8080/",
     "height": 74
    },
    "id": "M_QxtTjPHFYv",
    "outputId": "ce0f3fd2-588a-41ed-dcca-0bb26ea7f01b"
   },
   "outputs": [
    {
     "name": "stdout",
     "output_type": "stream",
     "text": [
      "(1, 1)\n",
      "(2, 0)\n",
      "(2, 2)\n"
     ]
    }
   ],
   "source": [
    "for i in dist.argsort()[:3]:\n",
    "    print(pointlst[i])"
   ]
  },
  {
   "cell_type": "markdown",
   "metadata": {
    "id": "HjJJpClEHIjI"
   },
   "source": [
    "#### (3) dictionary"
   ]
  },
  {
   "cell_type": "code",
   "execution_count": null,
   "metadata": {
    "colab": {
     "base_uri": "https://localhost:8080/",
     "height": 150
    },
    "id": "G1KBDzUfHGcA",
    "outputId": "29a5254e-e996-4f1f-cc09-ddc4f96f6dd3"
   },
   "outputs": [
    {
     "data": {
      "text/plain": [
       "{(0, 1): 2.0,\n",
       " (1, 0): 1.4142135623730951,\n",
       " (1, 1): 1.0,\n",
       " (1, 5): 4.123105625617661,\n",
       " (2, 0): 1.0,\n",
       " (2, 2): 1.0,\n",
       " (2, 3): 2.0}"
      ]
     },
     "execution_count": 14,
     "metadata": {
      "tags": []
     },
     "output_type": "execute_result"
    }
   ],
   "source": [
    "dic = {}\n",
    "for i in pointlst:\n",
    "    d = np.sqrt(sum((np.array(point) - np.array(i))**2))\n",
    "    dic[i] = d\n",
    "dic"
   ]
  },
  {
   "cell_type": "code",
   "execution_count": null,
   "metadata": {
    "colab": {
     "base_uri": "https://localhost:8080/",
     "height": 150
    },
    "id": "iI3LAKOkHMkG",
    "outputId": "6a6231f4-cc92-42c0-fce6-734bc327ba98"
   },
   "outputs": [
    {
     "data": {
      "text/plain": [
       "[((1, 1), 1.0),\n",
       " ((2, 0), 1.0),\n",
       " ((2, 2), 1.0),\n",
       " ((1, 0), 1.4142135623730951),\n",
       " ((0, 1), 2.0),\n",
       " ((2, 3), 2.0),\n",
       " ((1, 5), 4.123105625617661)]"
      ]
     },
     "execution_count": 15,
     "metadata": {
      "tags": []
     },
     "output_type": "execute_result"
    }
   ],
   "source": [
    "import operator\n",
    "sort_dic = sorted(dic.items(),key = operator.itemgetter(1))\n",
    "sort_dic"
   ]
  },
  {
   "cell_type": "code",
   "execution_count": null,
   "metadata": {
    "colab": {
     "base_uri": "https://localhost:8080/",
     "height": 36
    },
    "id": "mG21FJQSHNkt",
    "outputId": "604b33f3-63d0-45ad-95c3-98256ab7ad93"
   },
   "outputs": [
    {
     "data": {
      "text/plain": [
       "[(1, 1), (2, 0), (2, 2)]"
      ]
     },
     "execution_count": 16,
     "metadata": {
      "tags": []
     },
     "output_type": "execute_result"
    }
   ],
   "source": [
    "res = []\n",
    "for key in sort_dic:\n",
    "    if len(res) < 3:\n",
    "        res.append(key[0])\n",
    "res"
   ]
  },
  {
   "cell_type": "markdown",
   "metadata": {
    "id": "rAzBjHTsIdd6"
   },
   "source": [
    "<br/>  "
   ]
  },
  {
   "cell_type": "markdown",
   "metadata": {
    "id": "pPsB_fQuHvTA"
   },
   "source": [
    "### k-NN의 원리 이해\n",
    "```\n",
    " 재료   단맛   아삭한맛   종류     거리\n",
    "-------------------------------------------------------\n",
    "포도     8      5      과일    sqrt((6-8)**2 + (4-5)**2) = 2.23606797749979\n",
    "콩      3      7      채소    sqrt((6-3)**2 + (4-7)**2) = 4.242640687119285\n",
    "견과     3      6     단백질    sqrt((6-3)**2 + (4-6)**2) = 3.605551275463989\n",
    "오렌지    7      3      과일    sqrt((6-7)**2 + (4-3)**2) = 1.4142135623730951\n",
    "```\n",
    "\n",
    "- 토마토 : 단맛 6, 아삭한맛 4\n",
    "\n",
    "- k = 1\n",
    "  - 오렌지와 토마토 거리는 1.4로 가까운 이웃하여 과일로 분류\n",
    "\n",
    "- k = 3\n",
    "  - 오렌지, 포도, 견과 세가지 사이에서 다수결로 정한다.\n",
    "  - 종류가 과일, 과일, 단백질 중에 다수결로 과일로 분류한다.  \n",
    "<br/> \n"
   ]
  },
  {
   "cell_type": "markdown",
   "metadata": {
    "id": "wMStK4M_CUyg"
   },
   "source": [
    "[문제2] food.csv 읽어들인 후 토마토 단맛 6, 아삭한맛 4를 이용해서 거리계산한 dist 컬럼에 입력해주세요. dist 컬럼의 값을 오름차순으로 rank 컬럼에 추가해주세요.\n"
   ]
  },
  {
   "cell_type": "code",
   "execution_count": null,
   "metadata": {
    "colab": {
     "base_uri": "https://localhost:8080/",
     "height": 514
    },
    "id": "O3mnPOglC5WW",
    "outputId": "432afac3-2c34-4006-c7ab-599a0cf0357f"
   },
   "outputs": [
    {
     "data": {
      "text/html": [
       "<div>\n",
       "<style scoped>\n",
       "    .dataframe tbody tr th:only-of-type {\n",
       "        vertical-align: middle;\n",
       "    }\n",
       "\n",
       "    .dataframe tbody tr th {\n",
       "        vertical-align: top;\n",
       "    }\n",
       "\n",
       "    .dataframe thead th {\n",
       "        text-align: right;\n",
       "    }\n",
       "</style>\n",
       "<table border=\"1\" class=\"dataframe\">\n",
       "  <thead>\n",
       "    <tr style=\"text-align: right;\">\n",
       "      <th></th>\n",
       "      <th>ingredient</th>\n",
       "      <th>sweetness</th>\n",
       "      <th>crunchiness</th>\n",
       "      <th>class</th>\n",
       "    </tr>\n",
       "  </thead>\n",
       "  <tbody>\n",
       "    <tr>\n",
       "      <th>0</th>\n",
       "      <td>apple</td>\n",
       "      <td>10</td>\n",
       "      <td>9</td>\n",
       "      <td>Fruits</td>\n",
       "    </tr>\n",
       "    <tr>\n",
       "      <th>1</th>\n",
       "      <td>bacon</td>\n",
       "      <td>1</td>\n",
       "      <td>4</td>\n",
       "      <td>Proteins</td>\n",
       "    </tr>\n",
       "    <tr>\n",
       "      <th>2</th>\n",
       "      <td>banana</td>\n",
       "      <td>10</td>\n",
       "      <td>1</td>\n",
       "      <td>Fruits</td>\n",
       "    </tr>\n",
       "    <tr>\n",
       "      <th>3</th>\n",
       "      <td>carrot</td>\n",
       "      <td>7</td>\n",
       "      <td>10</td>\n",
       "      <td>Vegetables</td>\n",
       "    </tr>\n",
       "    <tr>\n",
       "      <th>4</th>\n",
       "      <td>celery</td>\n",
       "      <td>3</td>\n",
       "      <td>10</td>\n",
       "      <td>Vegetables</td>\n",
       "    </tr>\n",
       "    <tr>\n",
       "      <th>5</th>\n",
       "      <td>cheese</td>\n",
       "      <td>1</td>\n",
       "      <td>1</td>\n",
       "      <td>Proteins</td>\n",
       "    </tr>\n",
       "    <tr>\n",
       "      <th>6</th>\n",
       "      <td>cucumber</td>\n",
       "      <td>2</td>\n",
       "      <td>8</td>\n",
       "      <td>Vegetables</td>\n",
       "    </tr>\n",
       "    <tr>\n",
       "      <th>7</th>\n",
       "      <td>fish</td>\n",
       "      <td>3</td>\n",
       "      <td>1</td>\n",
       "      <td>Proteins</td>\n",
       "    </tr>\n",
       "    <tr>\n",
       "      <th>8</th>\n",
       "      <td>grape</td>\n",
       "      <td>8</td>\n",
       "      <td>5</td>\n",
       "      <td>Fruits</td>\n",
       "    </tr>\n",
       "    <tr>\n",
       "      <th>9</th>\n",
       "      <td>green bean</td>\n",
       "      <td>3</td>\n",
       "      <td>7</td>\n",
       "      <td>Vegetables</td>\n",
       "    </tr>\n",
       "    <tr>\n",
       "      <th>10</th>\n",
       "      <td>lettuce</td>\n",
       "      <td>1</td>\n",
       "      <td>9</td>\n",
       "      <td>Vegetables</td>\n",
       "    </tr>\n",
       "    <tr>\n",
       "      <th>11</th>\n",
       "      <td>nuts</td>\n",
       "      <td>3</td>\n",
       "      <td>6</td>\n",
       "      <td>Proteins</td>\n",
       "    </tr>\n",
       "    <tr>\n",
       "      <th>12</th>\n",
       "      <td>orange</td>\n",
       "      <td>7</td>\n",
       "      <td>3</td>\n",
       "      <td>Fruits</td>\n",
       "    </tr>\n",
       "    <tr>\n",
       "      <th>13</th>\n",
       "      <td>pear</td>\n",
       "      <td>10</td>\n",
       "      <td>7</td>\n",
       "      <td>Fruits</td>\n",
       "    </tr>\n",
       "    <tr>\n",
       "      <th>14</th>\n",
       "      <td>shrimp</td>\n",
       "      <td>2</td>\n",
       "      <td>3</td>\n",
       "      <td>Proteins</td>\n",
       "    </tr>\n",
       "  </tbody>\n",
       "</table>\n",
       "</div>"
      ],
      "text/plain": [
       "    ingredient  sweetness  crunchiness       class\n",
       "0        apple         10            9      Fruits\n",
       "1        bacon          1            4    Proteins\n",
       "2       banana         10            1      Fruits\n",
       "3       carrot          7           10  Vegetables\n",
       "4       celery          3           10  Vegetables\n",
       "5       cheese          1            1    Proteins\n",
       "6     cucumber          2            8  Vegetables\n",
       "7         fish          3            1    Proteins\n",
       "8        grape          8            5      Fruits\n",
       "9   green bean          3            7  Vegetables\n",
       "10     lettuce          1            9  Vegetables\n",
       "11        nuts          3            6    Proteins\n",
       "12      orange          7            3      Fruits\n",
       "13        pear         10            7      Fruits\n",
       "14      shrimp          2            3    Proteins"
      ]
     },
     "execution_count": 35,
     "metadata": {
      "tags": []
     },
     "output_type": "execute_result"
    }
   ],
   "source": [
    "import pandas as pd\n",
    "food = pd.read_csv(\"c:/data/food.csv\")\n",
    "food"
   ]
  },
  {
   "cell_type": "markdown",
   "metadata": {
    "id": "-T0X2fs-LJrZ"
   },
   "source": [
    "- feature : 예측, 분류를 하기 위해서 사용되는 입력변수. 독립변수, 설명변수라고도 한다.  \n",
    "종속변수에 영향을 주는 변수들 (sweetness, crunchiness)\n",
    "- 종속변수 : 영향을 받는 변수 (class) → 레이블"
   ]
  },
  {
   "cell_type": "markdown",
   "metadata": {
    "id": "nQ9KwWaah9ts"
   },
   "source": [
    "(1) Series로 풀기"
   ]
  },
  {
   "cell_type": "code",
   "execution_count": null,
   "metadata": {
    "colab": {
     "base_uri": "https://localhost:8080/",
     "height": 36
    },
    "id": "PCFpH1BtMoSG",
    "outputId": "b47ed46f-fd9e-4a0f-dcab-4213da59b2e3"
   },
   "outputs": [
    {
     "data": {
      "text/plain": [
       "pandas.core.series.Series"
      ]
     },
     "execution_count": 20,
     "metadata": {
      "tags": []
     },
     "output_type": "execute_result"
    }
   ],
   "source": [
    "tomato = [6,4]\n",
    "dist = ((tomato[0] - food.sweetness)**2 + (tomato[1] - food.crunchiness)**2)**(1/2)\n",
    "type(dist)"
   ]
  },
  {
   "cell_type": "code",
   "execution_count": null,
   "metadata": {
    "colab": {
     "base_uri": "https://localhost:8080/",
     "height": 514
    },
    "id": "xWB2VtDdM31k",
    "outputId": "a43007f6-5b82-4edb-b175-929af752e2d6"
   },
   "outputs": [
    {
     "data": {
      "text/html": [
       "<div>\n",
       "<style scoped>\n",
       "    .dataframe tbody tr th:only-of-type {\n",
       "        vertical-align: middle;\n",
       "    }\n",
       "\n",
       "    .dataframe tbody tr th {\n",
       "        vertical-align: top;\n",
       "    }\n",
       "\n",
       "    .dataframe thead th {\n",
       "        text-align: right;\n",
       "    }\n",
       "</style>\n",
       "<table border=\"1\" class=\"dataframe\">\n",
       "  <thead>\n",
       "    <tr style=\"text-align: right;\">\n",
       "      <th></th>\n",
       "      <th>ingredient</th>\n",
       "      <th>sweetness</th>\n",
       "      <th>crunchiness</th>\n",
       "      <th>class</th>\n",
       "      <th>dist</th>\n",
       "    </tr>\n",
       "  </thead>\n",
       "  <tbody>\n",
       "    <tr>\n",
       "      <th>12</th>\n",
       "      <td>orange</td>\n",
       "      <td>7</td>\n",
       "      <td>3</td>\n",
       "      <td>Fruits</td>\n",
       "      <td>1.414214</td>\n",
       "    </tr>\n",
       "    <tr>\n",
       "      <th>8</th>\n",
       "      <td>grape</td>\n",
       "      <td>8</td>\n",
       "      <td>5</td>\n",
       "      <td>Fruits</td>\n",
       "      <td>2.236068</td>\n",
       "    </tr>\n",
       "    <tr>\n",
       "      <th>11</th>\n",
       "      <td>nuts</td>\n",
       "      <td>3</td>\n",
       "      <td>6</td>\n",
       "      <td>Proteins</td>\n",
       "      <td>3.605551</td>\n",
       "    </tr>\n",
       "    <tr>\n",
       "      <th>14</th>\n",
       "      <td>shrimp</td>\n",
       "      <td>2</td>\n",
       "      <td>3</td>\n",
       "      <td>Proteins</td>\n",
       "      <td>4.123106</td>\n",
       "    </tr>\n",
       "    <tr>\n",
       "      <th>7</th>\n",
       "      <td>fish</td>\n",
       "      <td>3</td>\n",
       "      <td>1</td>\n",
       "      <td>Proteins</td>\n",
       "      <td>4.242641</td>\n",
       "    </tr>\n",
       "    <tr>\n",
       "      <th>9</th>\n",
       "      <td>green bean</td>\n",
       "      <td>3</td>\n",
       "      <td>7</td>\n",
       "      <td>Vegetables</td>\n",
       "      <td>4.242641</td>\n",
       "    </tr>\n",
       "    <tr>\n",
       "      <th>1</th>\n",
       "      <td>bacon</td>\n",
       "      <td>1</td>\n",
       "      <td>4</td>\n",
       "      <td>Proteins</td>\n",
       "      <td>5.000000</td>\n",
       "    </tr>\n",
       "    <tr>\n",
       "      <th>2</th>\n",
       "      <td>banana</td>\n",
       "      <td>10</td>\n",
       "      <td>1</td>\n",
       "      <td>Fruits</td>\n",
       "      <td>5.000000</td>\n",
       "    </tr>\n",
       "    <tr>\n",
       "      <th>13</th>\n",
       "      <td>pear</td>\n",
       "      <td>10</td>\n",
       "      <td>7</td>\n",
       "      <td>Fruits</td>\n",
       "      <td>5.000000</td>\n",
       "    </tr>\n",
       "    <tr>\n",
       "      <th>6</th>\n",
       "      <td>cucumber</td>\n",
       "      <td>2</td>\n",
       "      <td>8</td>\n",
       "      <td>Vegetables</td>\n",
       "      <td>5.656854</td>\n",
       "    </tr>\n",
       "    <tr>\n",
       "      <th>5</th>\n",
       "      <td>cheese</td>\n",
       "      <td>1</td>\n",
       "      <td>1</td>\n",
       "      <td>Proteins</td>\n",
       "      <td>5.830952</td>\n",
       "    </tr>\n",
       "    <tr>\n",
       "      <th>3</th>\n",
       "      <td>carrot</td>\n",
       "      <td>7</td>\n",
       "      <td>10</td>\n",
       "      <td>Vegetables</td>\n",
       "      <td>6.082763</td>\n",
       "    </tr>\n",
       "    <tr>\n",
       "      <th>0</th>\n",
       "      <td>apple</td>\n",
       "      <td>10</td>\n",
       "      <td>9</td>\n",
       "      <td>Fruits</td>\n",
       "      <td>6.403124</td>\n",
       "    </tr>\n",
       "    <tr>\n",
       "      <th>4</th>\n",
       "      <td>celery</td>\n",
       "      <td>3</td>\n",
       "      <td>10</td>\n",
       "      <td>Vegetables</td>\n",
       "      <td>6.708204</td>\n",
       "    </tr>\n",
       "    <tr>\n",
       "      <th>10</th>\n",
       "      <td>lettuce</td>\n",
       "      <td>1</td>\n",
       "      <td>9</td>\n",
       "      <td>Vegetables</td>\n",
       "      <td>7.071068</td>\n",
       "    </tr>\n",
       "  </tbody>\n",
       "</table>\n",
       "</div>"
      ],
      "text/plain": [
       "    ingredient  sweetness  crunchiness       class      dist\n",
       "12      orange          7            3      Fruits  1.414214\n",
       "8        grape          8            5      Fruits  2.236068\n",
       "11        nuts          3            6    Proteins  3.605551\n",
       "14      shrimp          2            3    Proteins  4.123106\n",
       "7         fish          3            1    Proteins  4.242641\n",
       "9   green bean          3            7  Vegetables  4.242641\n",
       "1        bacon          1            4    Proteins  5.000000\n",
       "2       banana         10            1      Fruits  5.000000\n",
       "13        pear         10            7      Fruits  5.000000\n",
       "6     cucumber          2            8  Vegetables  5.656854\n",
       "5       cheese          1            1    Proteins  5.830952\n",
       "3       carrot          7           10  Vegetables  6.082763\n",
       "0        apple         10            9      Fruits  6.403124\n",
       "4       celery          3           10  Vegetables  6.708204\n",
       "10     lettuce          1            9  Vegetables  7.071068"
      ]
     },
     "execution_count": 21,
     "metadata": {
      "tags": []
     },
     "output_type": "execute_result"
    }
   ],
   "source": [
    "food1 = pd.read_csv(\"c:/data/food.csv\")\n",
    "data = pd.merge(food1, pd.DataFrame({\"dist\":dist}),left_index = True, right_index=True)\n",
    "data.sort_values(by = \"dist\", ascending = True)"
   ]
  },
  {
   "cell_type": "code",
   "execution_count": null,
   "metadata": {
    "colab": {
     "base_uri": "https://localhost:8080/",
     "height": 142
    },
    "id": "HB-I06_xN40z",
    "outputId": "102c8da2-26c6-4718-bc14-db8517be3c66"
   },
   "outputs": [
    {
     "data": {
      "text/html": [
       "<div>\n",
       "<style scoped>\n",
       "    .dataframe tbody tr th:only-of-type {\n",
       "        vertical-align: middle;\n",
       "    }\n",
       "\n",
       "    .dataframe tbody tr th {\n",
       "        vertical-align: top;\n",
       "    }\n",
       "\n",
       "    .dataframe thead th {\n",
       "        text-align: right;\n",
       "    }\n",
       "</style>\n",
       "<table border=\"1\" class=\"dataframe\">\n",
       "  <thead>\n",
       "    <tr style=\"text-align: right;\">\n",
       "      <th></th>\n",
       "      <th>ingredient</th>\n",
       "      <th>sweetness</th>\n",
       "      <th>crunchiness</th>\n",
       "      <th>class</th>\n",
       "      <th>dist</th>\n",
       "      <th>rank</th>\n",
       "    </tr>\n",
       "  </thead>\n",
       "  <tbody>\n",
       "    <tr>\n",
       "      <th>8</th>\n",
       "      <td>grape</td>\n",
       "      <td>8</td>\n",
       "      <td>5</td>\n",
       "      <td>Fruits</td>\n",
       "      <td>2.236068</td>\n",
       "      <td>2.0</td>\n",
       "    </tr>\n",
       "    <tr>\n",
       "      <th>11</th>\n",
       "      <td>nuts</td>\n",
       "      <td>3</td>\n",
       "      <td>6</td>\n",
       "      <td>Proteins</td>\n",
       "      <td>3.605551</td>\n",
       "      <td>3.0</td>\n",
       "    </tr>\n",
       "    <tr>\n",
       "      <th>12</th>\n",
       "      <td>orange</td>\n",
       "      <td>7</td>\n",
       "      <td>3</td>\n",
       "      <td>Fruits</td>\n",
       "      <td>1.414214</td>\n",
       "      <td>1.0</td>\n",
       "    </tr>\n",
       "  </tbody>\n",
       "</table>\n",
       "</div>"
      ],
      "text/plain": [
       "   ingredient  sweetness  crunchiness     class      dist  rank\n",
       "8       grape          8            5    Fruits  2.236068   2.0\n",
       "11       nuts          3            6  Proteins  3.605551   3.0\n",
       "12     orange          7            3    Fruits  1.414214   1.0"
      ]
     },
     "execution_count": 22,
     "metadata": {
      "tags": []
     },
     "output_type": "execute_result"
    }
   ],
   "source": [
    "data['rank'] = data['dist'].rank(ascending = True, method = 'dense')\n",
    "data[data['rank'] <= 3]"
   ]
  },
  {
   "cell_type": "code",
   "execution_count": null,
   "metadata": {
    "colab": {
     "base_uri": "https://localhost:8080/",
     "height": 55
    },
    "id": "S6D1e_ciOS1z",
    "outputId": "83b54068-56a9-4062-ab5f-649494bfc5c0"
   },
   "outputs": [
    {
     "data": {
      "text/plain": [
       "Fruits    2\n",
       "Name: class, dtype: int64"
      ]
     },
     "execution_count": 23,
     "metadata": {
      "tags": []
     },
     "output_type": "execute_result"
    }
   ],
   "source": [
    "x = data.loc[data['rank'] <= 3, 'class'].value_counts()[data.loc[data['rank'] <= 3, 'class'].value_counts() == data.loc[data['rank'] <= 3, 'class'].value_counts().max()]\n",
    "x"
   ]
  },
  {
   "cell_type": "code",
   "execution_count": null,
   "metadata": {
    "colab": {
     "base_uri": "https://localhost:8080/",
     "height": 36
    },
    "id": "7F2Dej3zPmbn",
    "outputId": "ed6cf466-f747-4383-a0ab-95203aee768f"
   },
   "outputs": [
    {
     "data": {
      "application/vnd.google.colaboratory.intrinsic+json": {
       "type": "string"
      },
      "text/plain": [
       "'Fruits'"
      ]
     },
     "execution_count": 24,
     "metadata": {
      "tags": []
     },
     "output_type": "execute_result"
    }
   ],
   "source": [
    "x.index[0]"
   ]
  },
  {
   "cell_type": "markdown",
   "metadata": {
    "id": "w14ki9TtQ_E9"
   },
   "source": [
    "(2) array로 풀기"
   ]
  },
  {
   "cell_type": "code",
   "execution_count": null,
   "metadata": {
    "colab": {
     "base_uri": "https://localhost:8080/",
     "height": 302
    },
    "id": "3xum2VMvQvtZ",
    "outputId": "96d4aa92-f7e0-42a3-f00b-4e5cb8f75af3"
   },
   "outputs": [
    {
     "data": {
      "text/plain": [
       "array([[10,  9],\n",
       "       [ 1,  4],\n",
       "       [10,  1],\n",
       "       [ 7, 10],\n",
       "       [ 3, 10],\n",
       "       [ 1,  1],\n",
       "       [ 2,  8],\n",
       "       [ 3,  1],\n",
       "       [ 8,  5],\n",
       "       [ 3,  7],\n",
       "       [ 1,  9],\n",
       "       [ 3,  6],\n",
       "       [ 7,  3],\n",
       "       [10,  7],\n",
       "       [ 2,  3]])"
      ]
     },
     "execution_count": 34,
     "metadata": {
      "tags": []
     },
     "output_type": "execute_result"
    }
   ],
   "source": [
    "food = pd.read_csv('c:/data/food.csv')\n",
    "x_train = np.array(food2.iloc[:,1:3])\n",
    "x_train"
   ]
  },
  {
   "cell_type": "code",
   "execution_count": null,
   "metadata": {
    "colab": {
     "base_uri": "https://localhost:8080/",
     "height": 36
    },
    "id": "yNv3meWLQv1D",
    "outputId": "75b8500d-506f-46df-fe17-9b78b56d84b5"
   },
   "outputs": [
    {
     "data": {
      "text/plain": [
       "(15, 2)"
      ]
     },
     "execution_count": 26,
     "metadata": {
      "tags": []
     },
     "output_type": "execute_result"
    }
   ],
   "source": [
    "x_train.shape"
   ]
  },
  {
   "cell_type": "code",
   "execution_count": null,
   "metadata": {
    "colab": {
     "base_uri": "https://localhost:8080/",
     "height": 36
    },
    "id": "SWCkmrztQv6k",
    "outputId": "64efd9ea-39e3-4b40-be42-a65145ee74f5"
   },
   "outputs": [
    {
     "data": {
      "text/plain": [
       "(1, 2)"
      ]
     },
     "execution_count": 27,
     "metadata": {
      "tags": []
     },
     "output_type": "execute_result"
    }
   ],
   "source": [
    "y = np.array([[6,4]])\n",
    "y.shape"
   ]
  },
  {
   "cell_type": "code",
   "execution_count": null,
   "metadata": {
    "colab": {
     "base_uri": "https://localhost:8080/",
     "height": 302
    },
    "id": "7Qvv5__mQv9X",
    "outputId": "6ec205f6-377a-4bf1-f230-a8c923945266"
   },
   "outputs": [
    {
     "data": {
      "text/plain": [
       "array([[ 4,  5],\n",
       "       [-5,  0],\n",
       "       [ 4, -3],\n",
       "       [ 1,  6],\n",
       "       [-3,  6],\n",
       "       [-5, -3],\n",
       "       [-4,  4],\n",
       "       [-3, -3],\n",
       "       [ 2,  1],\n",
       "       [-3,  3],\n",
       "       [-5,  5],\n",
       "       [-3,  2],\n",
       "       [ 1, -1],\n",
       "       [ 4,  3],\n",
       "       [-4, -1]])"
      ]
     },
     "execution_count": 28,
     "metadata": {
      "tags": []
     },
     "output_type": "execute_result"
    }
   ],
   "source": [
    "x_train - y"
   ]
  },
  {
   "cell_type": "code",
   "execution_count": null,
   "metadata": {
    "colab": {
     "base_uri": "https://localhost:8080/",
     "height": 514
    },
    "id": "-zbxgZmTQwAL",
    "outputId": "e658ea58-a209-4c5d-fb3d-0b56b3ddca00"
   },
   "outputs": [
    {
     "data": {
      "text/html": [
       "<div>\n",
       "<style scoped>\n",
       "    .dataframe tbody tr th:only-of-type {\n",
       "        vertical-align: middle;\n",
       "    }\n",
       "\n",
       "    .dataframe tbody tr th {\n",
       "        vertical-align: top;\n",
       "    }\n",
       "\n",
       "    .dataframe thead th {\n",
       "        text-align: right;\n",
       "    }\n",
       "</style>\n",
       "<table border=\"1\" class=\"dataframe\">\n",
       "  <thead>\n",
       "    <tr style=\"text-align: right;\">\n",
       "      <th></th>\n",
       "      <th>ingredient</th>\n",
       "      <th>sweetness</th>\n",
       "      <th>crunchiness</th>\n",
       "      <th>class</th>\n",
       "      <th>dist</th>\n",
       "    </tr>\n",
       "  </thead>\n",
       "  <tbody>\n",
       "    <tr>\n",
       "      <th>0</th>\n",
       "      <td>apple</td>\n",
       "      <td>10</td>\n",
       "      <td>9</td>\n",
       "      <td>Fruits</td>\n",
       "      <td>6.403124</td>\n",
       "    </tr>\n",
       "    <tr>\n",
       "      <th>1</th>\n",
       "      <td>bacon</td>\n",
       "      <td>1</td>\n",
       "      <td>4</td>\n",
       "      <td>Proteins</td>\n",
       "      <td>5.000000</td>\n",
       "    </tr>\n",
       "    <tr>\n",
       "      <th>2</th>\n",
       "      <td>banana</td>\n",
       "      <td>10</td>\n",
       "      <td>1</td>\n",
       "      <td>Fruits</td>\n",
       "      <td>5.000000</td>\n",
       "    </tr>\n",
       "    <tr>\n",
       "      <th>3</th>\n",
       "      <td>carrot</td>\n",
       "      <td>7</td>\n",
       "      <td>10</td>\n",
       "      <td>Vegetables</td>\n",
       "      <td>6.082763</td>\n",
       "    </tr>\n",
       "    <tr>\n",
       "      <th>4</th>\n",
       "      <td>celery</td>\n",
       "      <td>3</td>\n",
       "      <td>10</td>\n",
       "      <td>Vegetables</td>\n",
       "      <td>6.708204</td>\n",
       "    </tr>\n",
       "    <tr>\n",
       "      <th>5</th>\n",
       "      <td>cheese</td>\n",
       "      <td>1</td>\n",
       "      <td>1</td>\n",
       "      <td>Proteins</td>\n",
       "      <td>5.830952</td>\n",
       "    </tr>\n",
       "    <tr>\n",
       "      <th>6</th>\n",
       "      <td>cucumber</td>\n",
       "      <td>2</td>\n",
       "      <td>8</td>\n",
       "      <td>Vegetables</td>\n",
       "      <td>5.656854</td>\n",
       "    </tr>\n",
       "    <tr>\n",
       "      <th>7</th>\n",
       "      <td>fish</td>\n",
       "      <td>3</td>\n",
       "      <td>1</td>\n",
       "      <td>Proteins</td>\n",
       "      <td>4.242641</td>\n",
       "    </tr>\n",
       "    <tr>\n",
       "      <th>8</th>\n",
       "      <td>grape</td>\n",
       "      <td>8</td>\n",
       "      <td>5</td>\n",
       "      <td>Fruits</td>\n",
       "      <td>2.236068</td>\n",
       "    </tr>\n",
       "    <tr>\n",
       "      <th>9</th>\n",
       "      <td>green bean</td>\n",
       "      <td>3</td>\n",
       "      <td>7</td>\n",
       "      <td>Vegetables</td>\n",
       "      <td>4.242641</td>\n",
       "    </tr>\n",
       "    <tr>\n",
       "      <th>10</th>\n",
       "      <td>lettuce</td>\n",
       "      <td>1</td>\n",
       "      <td>9</td>\n",
       "      <td>Vegetables</td>\n",
       "      <td>7.071068</td>\n",
       "    </tr>\n",
       "    <tr>\n",
       "      <th>11</th>\n",
       "      <td>nuts</td>\n",
       "      <td>3</td>\n",
       "      <td>6</td>\n",
       "      <td>Proteins</td>\n",
       "      <td>3.605551</td>\n",
       "    </tr>\n",
       "    <tr>\n",
       "      <th>12</th>\n",
       "      <td>orange</td>\n",
       "      <td>7</td>\n",
       "      <td>3</td>\n",
       "      <td>Fruits</td>\n",
       "      <td>1.414214</td>\n",
       "    </tr>\n",
       "    <tr>\n",
       "      <th>13</th>\n",
       "      <td>pear</td>\n",
       "      <td>10</td>\n",
       "      <td>7</td>\n",
       "      <td>Fruits</td>\n",
       "      <td>5.000000</td>\n",
       "    </tr>\n",
       "    <tr>\n",
       "      <th>14</th>\n",
       "      <td>shrimp</td>\n",
       "      <td>2</td>\n",
       "      <td>3</td>\n",
       "      <td>Proteins</td>\n",
       "      <td>4.123106</td>\n",
       "    </tr>\n",
       "  </tbody>\n",
       "</table>\n",
       "</div>"
      ],
      "text/plain": [
       "    ingredient  sweetness  crunchiness       class      dist\n",
       "0        apple         10            9      Fruits  6.403124\n",
       "1        bacon          1            4    Proteins  5.000000\n",
       "2       banana         10            1      Fruits  5.000000\n",
       "3       carrot          7           10  Vegetables  6.082763\n",
       "4       celery          3           10  Vegetables  6.708204\n",
       "5       cheese          1            1    Proteins  5.830952\n",
       "6     cucumber          2            8  Vegetables  5.656854\n",
       "7         fish          3            1    Proteins  4.242641\n",
       "8        grape          8            5      Fruits  2.236068\n",
       "9   green bean          3            7  Vegetables  4.242641\n",
       "10     lettuce          1            9  Vegetables  7.071068\n",
       "11        nuts          3            6    Proteins  3.605551\n",
       "12      orange          7            3      Fruits  1.414214\n",
       "13        pear         10            7      Fruits  5.000000\n",
       "14      shrimp          2            3    Proteins  4.123106"
      ]
     },
     "execution_count": 29,
     "metadata": {
      "tags": []
     },
     "output_type": "execute_result"
    }
   ],
   "source": [
    "food['dist'] = np.sqrt(np.sum(pow(x_train-y,2), axis = 1))\n",
    "food"
   ]
  },
  {
   "cell_type": "markdown",
   "metadata": {
    "id": "vKB8OiqJSRBy"
   },
   "source": [
    "(3) Counter 이용"
   ]
  },
  {
   "cell_type": "code",
   "execution_count": null,
   "metadata": {
    "colab": {
     "base_uri": "https://localhost:8080/",
     "height": 93
    },
    "id": "ZQz8gDF_QwDH",
    "outputId": "1c1e212e-19b4-481a-ab78-842beabdae38"
   },
   "outputs": [
    {
     "data": {
      "text/plain": [
       "8       Fruits\n",
       "11    Proteins\n",
       "12      Fruits\n",
       "Name: class, dtype: object"
      ]
     },
     "execution_count": 30,
     "metadata": {
      "tags": []
     },
     "output_type": "execute_result"
    }
   ],
   "source": [
    "food['rank'] = food['dist'].rank(ascending=True, method = 'dense')\n",
    "food[food['rank'] <= 3]['class']"
   ]
  },
  {
   "cell_type": "code",
   "execution_count": null,
   "metadata": {
    "colab": {
     "base_uri": "https://localhost:8080/",
     "height": 36
    },
    "id": "zqkNMsewQwGA",
    "outputId": "f713f24a-fd6b-4ec7-8ed4-7a44a236d57d"
   },
   "outputs": [
    {
     "data": {
      "text/plain": [
       "[('Fruits', 2)]"
      ]
     },
     "execution_count": 31,
     "metadata": {
      "tags": []
     },
     "output_type": "execute_result"
    }
   ],
   "source": [
    "from collections import Counter\n",
    "Counter(food[food['rank'] <= 3]['class']).most_common(1) # counter 값 중 가장 빈도가 높은 n개만 출력하는 것."
   ]
  },
  {
   "cell_type": "code",
   "execution_count": null,
   "metadata": {
    "colab": {
     "base_uri": "https://localhost:8080/",
     "height": 36
    },
    "id": "1WvhR4kzQwIz",
    "outputId": "453f7d0d-a76d-420d-ac39-8db14dab011e"
   },
   "outputs": [
    {
     "data": {
      "application/vnd.google.colaboratory.intrinsic+json": {
       "type": "string"
      },
      "text/plain": [
       "'Fruits'"
      ]
     },
     "execution_count": 32,
     "metadata": {
      "tags": []
     },
     "output_type": "execute_result"
    }
   ],
   "source": [
    "Counter(food[food['rank'] <= 3]['class']).most_common(1)[0][0]"
   ]
  },
  {
   "cell_type": "markdown",
   "metadata": {
    "id": "6cJFPD5DaJ7h"
   },
   "source": [
    "<br/>  "
   ]
  }
 ],
 "metadata": {
  "colab": {
   "collapsed_sections": [],
   "name": "02_kNN알고리즘.ipynb",
   "provenance": [],
   "toc_visible": true
  },
  "kernelspec": {
   "display_name": "Python 3 (ipykernel)",
   "language": "python",
   "name": "python3"
  },
  "language_info": {
   "codemirror_mode": {
    "name": "ipython",
    "version": 3
   },
   "file_extension": ".py",
   "mimetype": "text/x-python",
   "name": "python",
   "nbconvert_exporter": "python",
   "pygments_lexer": "ipython3",
   "version": "3.9.6"
  },
  "toc": {
   "base_numbering": 1,
   "nav_menu": {},
   "number_sections": true,
   "sideBar": true,
   "skip_h1_title": false,
   "title_cell": "Table of Contents",
   "title_sidebar": "Contents",
   "toc_cell": false,
   "toc_position": {},
   "toc_section_display": true,
   "toc_window_display": false
  },
  "varInspector": {
   "cols": {
    "lenName": 16,
    "lenType": 16,
    "lenVar": 40
   },
   "kernels_config": {
    "python": {
     "delete_cmd_postfix": "",
     "delete_cmd_prefix": "del ",
     "library": "var_list.py",
     "varRefreshCmd": "print(var_dic_list())"
    },
    "r": {
     "delete_cmd_postfix": ") ",
     "delete_cmd_prefix": "rm(",
     "library": "var_list.r",
     "varRefreshCmd": "cat(var_dic_list()) "
    }
   },
   "types_to_exclude": [
    "module",
    "function",
    "builtin_function_or_method",
    "instance",
    "_Feature"
   ],
   "window_display": false
  }
 },
 "nbformat": 4,
 "nbformat_minor": 4
}
