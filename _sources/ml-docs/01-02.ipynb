{
 "cells": [
  {
   "cell_type": "markdown",
   "metadata": {
    "id": "GCaZ24u6RDWR"
   },
   "source": [
    "# Python | sklearn.neighbors\n",
    "작성일 : 2020-09-28\n",
    "\n",
    "---"
   ]
  },
  {
   "cell_type": "markdown",
   "metadata": {
    "id": "zy4b5KMLSo-X"
   },
   "source": [
    "## sklearn.neighbors"
   ]
  },
  {
   "cell_type": "code",
   "execution_count": 1,
   "metadata": {
    "colab": {
     "base_uri": "https://localhost:8080/",
     "height": 514
    },
    "id": "2p0_ZAGdRb7Y",
    "outputId": "9329b1c0-05e2-482b-9c65-3cc94386467f"
   },
   "outputs": [
    {
     "data": {
      "text/html": [
       "<div>\n",
       "<style scoped>\n",
       "    .dataframe tbody tr th:only-of-type {\n",
       "        vertical-align: middle;\n",
       "    }\n",
       "\n",
       "    .dataframe tbody tr th {\n",
       "        vertical-align: top;\n",
       "    }\n",
       "\n",
       "    .dataframe thead th {\n",
       "        text-align: right;\n",
       "    }\n",
       "</style>\n",
       "<table border=\"1\" class=\"dataframe\">\n",
       "  <thead>\n",
       "    <tr style=\"text-align: right;\">\n",
       "      <th></th>\n",
       "      <th>ingredient</th>\n",
       "      <th>sweetness</th>\n",
       "      <th>crunchiness</th>\n",
       "      <th>class</th>\n",
       "    </tr>\n",
       "  </thead>\n",
       "  <tbody>\n",
       "    <tr>\n",
       "      <th>0</th>\n",
       "      <td>apple</td>\n",
       "      <td>10</td>\n",
       "      <td>9</td>\n",
       "      <td>Fruits</td>\n",
       "    </tr>\n",
       "    <tr>\n",
       "      <th>1</th>\n",
       "      <td>bacon</td>\n",
       "      <td>1</td>\n",
       "      <td>4</td>\n",
       "      <td>Proteins</td>\n",
       "    </tr>\n",
       "    <tr>\n",
       "      <th>2</th>\n",
       "      <td>banana</td>\n",
       "      <td>10</td>\n",
       "      <td>1</td>\n",
       "      <td>Fruits</td>\n",
       "    </tr>\n",
       "    <tr>\n",
       "      <th>3</th>\n",
       "      <td>carrot</td>\n",
       "      <td>7</td>\n",
       "      <td>10</td>\n",
       "      <td>Vegetables</td>\n",
       "    </tr>\n",
       "    <tr>\n",
       "      <th>4</th>\n",
       "      <td>celery</td>\n",
       "      <td>3</td>\n",
       "      <td>10</td>\n",
       "      <td>Vegetables</td>\n",
       "    </tr>\n",
       "    <tr>\n",
       "      <th>5</th>\n",
       "      <td>cheese</td>\n",
       "      <td>1</td>\n",
       "      <td>1</td>\n",
       "      <td>Proteins</td>\n",
       "    </tr>\n",
       "    <tr>\n",
       "      <th>6</th>\n",
       "      <td>cucumber</td>\n",
       "      <td>2</td>\n",
       "      <td>8</td>\n",
       "      <td>Vegetables</td>\n",
       "    </tr>\n",
       "    <tr>\n",
       "      <th>7</th>\n",
       "      <td>fish</td>\n",
       "      <td>3</td>\n",
       "      <td>1</td>\n",
       "      <td>Proteins</td>\n",
       "    </tr>\n",
       "    <tr>\n",
       "      <th>8</th>\n",
       "      <td>grape</td>\n",
       "      <td>8</td>\n",
       "      <td>5</td>\n",
       "      <td>Fruits</td>\n",
       "    </tr>\n",
       "    <tr>\n",
       "      <th>9</th>\n",
       "      <td>green bean</td>\n",
       "      <td>3</td>\n",
       "      <td>7</td>\n",
       "      <td>Vegetables</td>\n",
       "    </tr>\n",
       "    <tr>\n",
       "      <th>10</th>\n",
       "      <td>lettuce</td>\n",
       "      <td>1</td>\n",
       "      <td>9</td>\n",
       "      <td>Vegetables</td>\n",
       "    </tr>\n",
       "    <tr>\n",
       "      <th>11</th>\n",
       "      <td>nuts</td>\n",
       "      <td>3</td>\n",
       "      <td>6</td>\n",
       "      <td>Proteins</td>\n",
       "    </tr>\n",
       "    <tr>\n",
       "      <th>12</th>\n",
       "      <td>orange</td>\n",
       "      <td>7</td>\n",
       "      <td>3</td>\n",
       "      <td>Fruits</td>\n",
       "    </tr>\n",
       "    <tr>\n",
       "      <th>13</th>\n",
       "      <td>pear</td>\n",
       "      <td>10</td>\n",
       "      <td>7</td>\n",
       "      <td>Fruits</td>\n",
       "    </tr>\n",
       "    <tr>\n",
       "      <th>14</th>\n",
       "      <td>shrimp</td>\n",
       "      <td>2</td>\n",
       "      <td>3</td>\n",
       "      <td>Proteins</td>\n",
       "    </tr>\n",
       "  </tbody>\n",
       "</table>\n",
       "</div>"
      ],
      "text/plain": [
       "    ingredient  sweetness  crunchiness       class\n",
       "0        apple         10            9      Fruits\n",
       "1        bacon          1            4    Proteins\n",
       "2       banana         10            1      Fruits\n",
       "3       carrot          7           10  Vegetables\n",
       "4       celery          3           10  Vegetables\n",
       "5       cheese          1            1    Proteins\n",
       "6     cucumber          2            8  Vegetables\n",
       "7         fish          3            1    Proteins\n",
       "8        grape          8            5      Fruits\n",
       "9   green bean          3            7  Vegetables\n",
       "10     lettuce          1            9  Vegetables\n",
       "11        nuts          3            6    Proteins\n",
       "12      orange          7            3      Fruits\n",
       "13        pear         10            7      Fruits\n",
       "14      shrimp          2            3    Proteins"
      ]
     },
     "execution_count": 1,
     "metadata": {
      "tags": []
     },
     "output_type": "execute_result"
    }
   ],
   "source": [
    "import pandas as pd\n",
    "food = pd.read_csv(\"c:/data/food.csv\")\n",
    "food"
   ]
  },
  {
   "cell_type": "code",
   "execution_count": 3,
   "metadata": {
    "colab": {
     "base_uri": "https://localhost:8080/",
     "height": 321
    },
    "id": "Ao6ibpyRYv-J",
    "outputId": "841cf444-6d49-4709-faf4-0c4745363a5e"
   },
   "outputs": [
    {
     "data": {
      "text/plain": [
       "0         Fruits\n",
       "1       Proteins\n",
       "2         Fruits\n",
       "3     Vegetables\n",
       "4     Vegetables\n",
       "5       Proteins\n",
       "6     Vegetables\n",
       "7       Proteins\n",
       "8         Fruits\n",
       "9     Vegetables\n",
       "10    Vegetables\n",
       "11      Proteins\n",
       "12        Fruits\n",
       "13        Fruits\n",
       "14      Proteins\n",
       "Name: class, dtype: object"
      ]
     },
     "execution_count": 3,
     "metadata": {
      "tags": []
     },
     "output_type": "execute_result"
    }
   ],
   "source": [
    "label = food['class']\n",
    "label"
   ]
  },
  {
   "cell_type": "code",
   "execution_count": 6,
   "metadata": {
    "colab": {
     "base_uri": "https://localhost:8080/",
     "height": 302
    },
    "id": "VvTk6ttYaI3_",
    "outputId": "14786bfa-3f6e-4020-bb4c-27e248c7fa70"
   },
   "outputs": [
    {
     "data": {
      "text/plain": [
       "array([[10,  9],\n",
       "       [ 1,  4],\n",
       "       [10,  1],\n",
       "       [ 7, 10],\n",
       "       [ 3, 10],\n",
       "       [ 1,  1],\n",
       "       [ 2,  8],\n",
       "       [ 3,  1],\n",
       "       [ 8,  5],\n",
       "       [ 3,  7],\n",
       "       [ 1,  9],\n",
       "       [ 3,  6],\n",
       "       [ 7,  3],\n",
       "       [10,  7],\n",
       "       [ 2,  3]])"
      ]
     },
     "execution_count": 6,
     "metadata": {
      "tags": []
     },
     "output_type": "execute_result"
    }
   ],
   "source": [
    "import numpy as np\n",
    "x_train = np.array(food.iloc[:,1:3])\n",
    "x_train"
   ]
  },
  {
   "cell_type": "code",
   "execution_count": 11,
   "metadata": {
    "colab": {
     "base_uri": "https://localhost:8080/",
     "height": 36
    },
    "id": "Wg9auPYvSTj9",
    "outputId": "d2a84d4b-3cb4-4edd-9c7d-3c7f0c0f6d1d"
   },
   "outputs": [
    {
     "data": {
      "text/plain": [
       "array([[6, 4]])"
      ]
     },
     "execution_count": 11,
     "metadata": {
      "tags": []
     },
     "output_type": "execute_result"
    }
   ],
   "source": [
    "y = np.array([[6,4]]) # 토마토 단맛 6, 아삭한맛 4\n",
    "y"
   ]
  },
  {
   "cell_type": "code",
   "execution_count": 1,
   "metadata": {
    "id": "JYmbRWWSqoub"
   },
   "outputs": [],
   "source": [
    "from sklearn.neighbors import KNeighborsClassifier\n",
    "clf = KNeighborsClassifier(n_neighbors=3)"
   ]
  },
  {
   "cell_type": "code",
   "execution_count": 8,
   "metadata": {
    "colab": {
     "base_uri": "https://localhost:8080/",
     "height": 74
    },
    "id": "H8xF_tHaQwLs",
    "outputId": "0eefa9cd-d63b-425c-fb6d-ce7a99104afa"
   },
   "outputs": [
    {
     "data": {
      "text/plain": [
       "KNeighborsClassifier(algorithm='auto', leaf_size=30, metric='minkowski',\n",
       "                     metric_params=None, n_jobs=None, n_neighbors=3, p=2,\n",
       "                     weights='uniform')"
      ]
     },
     "execution_count": 8,
     "metadata": {
      "tags": []
     },
     "output_type": "execute_result"
    }
   ],
   "source": [
    "clf.fit(x_train, label) # 학습 method"
   ]
  },
  {
   "cell_type": "code",
   "execution_count": 12,
   "metadata": {
    "colab": {
     "base_uri": "https://localhost:8080/",
     "height": 36
    },
    "id": "J4TusSHRayEe",
    "outputId": "49f8c3e6-22c4-48a6-97c8-4e524d8f0888"
   },
   "outputs": [
    {
     "data": {
      "text/plain": [
       "array(['Fruits'], dtype=object)"
      ]
     },
     "execution_count": 12,
     "metadata": {
      "tags": []
     },
     "output_type": "execute_result"
    }
   ],
   "source": [
    "clf.predict(y)"
   ]
  },
  {
   "cell_type": "code",
   "execution_count": 13,
   "metadata": {
    "colab": {
     "base_uri": "https://localhost:8080/",
     "height": 36
    },
    "id": "0P_TReHJa9JZ",
    "outputId": "8c55003b-0eba-4171-e270-180a9145c667"
   },
   "outputs": [
    {
     "data": {
      "application/vnd.google.colaboratory.intrinsic+json": {
       "type": "string"
      },
      "text/plain": [
       "'Fruits'"
      ]
     },
     "execution_count": 13,
     "metadata": {
      "tags": []
     },
     "output_type": "execute_result"
    }
   ],
   "source": [
    "clf.predict(y)[0]"
   ]
  },
  {
   "cell_type": "markdown",
   "metadata": {
    "id": "BHfGl-wDTH5J"
   },
   "source": [
    "<br>"
   ]
  },
  {
   "cell_type": "markdown",
   "metadata": {
    "id": "0R1xaC3UStQR"
   },
   "source": [
    "## 실습"
   ]
  },
  {
   "cell_type": "markdown",
   "metadata": {
    "id": "sSTeTaExdVjA"
   },
   "source": [
    "[문제3] 키, 몸무게에 따른 성별을 분류해주세요.\n",
    "\n",
    "```\n",
    "[[158,64],\n",
    " [170,86],\n",
    " [183,84],\n",
    " [191,80],\n",
    " [155,49],\n",
    " [163,59],\n",
    " [180,67],\n",
    " [158,54],\n",
    " [170,67]]\n",
    "\n",
    " ['male','male','male','male','female','female','female','female','female']\n",
    " ```\n",
    "\n",
    " `[155,70]` 성별을 분류해주세요.\n"
   ]
  },
  {
   "cell_type": "code",
   "execution_count": 14,
   "metadata": {
    "id": "Xc5p4J-CdUjr"
   },
   "outputs": [],
   "source": [
    "# sklearn.neighbors 사용\n",
    "\n",
    "x_train = np.array([[158,64],\n",
    " [170,86],\n",
    " [183,84],\n",
    " [191,80],\n",
    " [155,49],\n",
    " [163,59],\n",
    " [180,67],\n",
    " [158,54],\n",
    " [170,67]])\n",
    "\n",
    "label = ['male','male','male','male','female','female','female','female','female']\n",
    "\n",
    "y = np.array([[155,70]])"
   ]
  },
  {
   "cell_type": "code",
   "execution_count": 15,
   "metadata": {
    "colab": {
     "base_uri": "https://localhost:8080/",
     "height": 36
    },
    "id": "aq4CpugId9jk",
    "outputId": "9b1f496a-fdd0-47ea-fd46-36e205010bc1"
   },
   "outputs": [
    {
     "data": {
      "application/vnd.google.colaboratory.intrinsic+json": {
       "type": "string"
      },
      "text/plain": [
       "'female'"
      ]
     },
     "execution_count": 15,
     "metadata": {
      "tags": []
     },
     "output_type": "execute_result"
    }
   ],
   "source": [
    "clf = KNeighborsClassifier(n_neighbors=3)\n",
    "clf.fit(x_train, label)\n",
    "clf.predict(y)[0]"
   ]
  },
  {
   "cell_type": "code",
   "execution_count": 16,
   "metadata": {
    "colab": {
     "base_uri": "https://localhost:8080/",
     "height": 74
    },
    "id": "Hi07RHJVi-yO",
    "outputId": "ae54b7d5-0977-4eb4-af19-931e7c5da4c8"
   },
   "outputs": [
    {
     "name": "stdout",
     "output_type": "stream",
     "text": [
      "male\n",
      "female\n",
      "female\n"
     ]
    }
   ],
   "source": [
    "# 알고리즘 원리 이용\n",
    "\n",
    "dist = np.sqrt(np.sum(pow(x_train - y, 2), axis = 1))\n",
    "indices = dist.argsort()[:3]\n",
    "for i in indices:\n",
    "  print(label[i])"
   ]
  },
  {
   "cell_type": "code",
   "execution_count": 17,
   "metadata": {
    "colab": {
     "base_uri": "https://localhost:8080/",
     "height": 36
    },
    "id": "92fw1k6VkDF6",
    "outputId": "e005b84c-5b10-421a-8d3d-5f6902d2f5c3"
   },
   "outputs": [
    {
     "data": {
      "application/vnd.google.colaboratory.intrinsic+json": {
       "type": "string"
      },
      "text/plain": [
       "'female'"
      ]
     },
     "execution_count": 17,
     "metadata": {
      "tags": []
     },
     "output_type": "execute_result"
    }
   ],
   "source": [
    "label[indices[2]]"
   ]
  },
  {
   "cell_type": "code",
   "execution_count": 19,
   "metadata": {
    "colab": {
     "base_uri": "https://localhost:8080/",
     "height": 36
    },
    "id": "bvY1BfZYkFIW",
    "outputId": "5640ffdd-2c3b-4607-819e-b1ef2ce88b30"
   },
   "outputs": [
    {
     "data": {
      "application/vnd.google.colaboratory.intrinsic+json": {
       "type": "string"
      },
      "text/plain": [
       "'female'"
      ]
     },
     "execution_count": 19,
     "metadata": {
      "tags": []
     },
     "output_type": "execute_result"
    }
   ],
   "source": [
    "from collections import Counter\n",
    "\n",
    "result = np.take(label, indices)\n",
    "Counter(result).most_common(1)[0][0]"
   ]
  },
  {
   "cell_type": "markdown",
   "metadata": {
    "id": "4dpK8kz8l2fM"
   },
   "source": [
    "<br/>  \n"
   ]
  },
  {
   "cell_type": "markdown",
   "metadata": {
    "id": "G4wsOIa-kvr9"
   },
   "source": [
    "[문제4] 상품 구매 여부를 kNN 알고리즘을 이용해서 분류해주세요.\n",
    "\n",
    "```\n",
    "나이 : 20, 월수입 : 50\n",
    "나이 : 20, 월수입 : 150\n",
    "```"
   ]
  },
  {
   "cell_type": "code",
   "execution_count": 20,
   "metadata": {
    "colab": {
     "base_uri": "https://localhost:8080/",
     "height": 700
    },
    "id": "4OuZ52aGkukc",
    "outputId": "1b321bdd-b948-4632-ee95-4c1fc237a227"
   },
   "outputs": [
    {
     "data": {
      "text/html": [
       "<div>\n",
       "<style scoped>\n",
       "    .dataframe tbody tr th:only-of-type {\n",
       "        vertical-align: middle;\n",
       "    }\n",
       "\n",
       "    .dataframe tbody tr th {\n",
       "        vertical-align: top;\n",
       "    }\n",
       "\n",
       "    .dataframe thead th {\n",
       "        text-align: right;\n",
       "    }\n",
       "</style>\n",
       "<table border=\"1\" class=\"dataframe\">\n",
       "  <thead>\n",
       "    <tr style=\"text-align: right;\">\n",
       "      <th></th>\n",
       "      <th>나이</th>\n",
       "      <th>월수입</th>\n",
       "      <th>상품구매여부</th>\n",
       "    </tr>\n",
       "  </thead>\n",
       "  <tbody>\n",
       "    <tr>\n",
       "      <th>0</th>\n",
       "      <td>26</td>\n",
       "      <td>160</td>\n",
       "      <td>구매</td>\n",
       "    </tr>\n",
       "    <tr>\n",
       "      <th>1</th>\n",
       "      <td>35</td>\n",
       "      <td>210</td>\n",
       "      <td>비구매</td>\n",
       "    </tr>\n",
       "    <tr>\n",
       "      <th>2</th>\n",
       "      <td>26</td>\n",
       "      <td>220</td>\n",
       "      <td>비구매</td>\n",
       "    </tr>\n",
       "    <tr>\n",
       "      <th>3</th>\n",
       "      <td>29</td>\n",
       "      <td>260</td>\n",
       "      <td>구매</td>\n",
       "    </tr>\n",
       "    <tr>\n",
       "      <th>4</th>\n",
       "      <td>22</td>\n",
       "      <td>110</td>\n",
       "      <td>비구매</td>\n",
       "    </tr>\n",
       "    <tr>\n",
       "      <th>5</th>\n",
       "      <td>32</td>\n",
       "      <td>210</td>\n",
       "      <td>비구매</td>\n",
       "    </tr>\n",
       "    <tr>\n",
       "      <th>6</th>\n",
       "      <td>37</td>\n",
       "      <td>310</td>\n",
       "      <td>구매</td>\n",
       "    </tr>\n",
       "    <tr>\n",
       "      <th>7</th>\n",
       "      <td>21</td>\n",
       "      <td>110</td>\n",
       "      <td>비구매</td>\n",
       "    </tr>\n",
       "    <tr>\n",
       "      <th>8</th>\n",
       "      <td>28</td>\n",
       "      <td>210</td>\n",
       "      <td>비구매</td>\n",
       "    </tr>\n",
       "    <tr>\n",
       "      <th>9</th>\n",
       "      <td>31</td>\n",
       "      <td>260</td>\n",
       "      <td>구매</td>\n",
       "    </tr>\n",
       "    <tr>\n",
       "      <th>10</th>\n",
       "      <td>36</td>\n",
       "      <td>390</td>\n",
       "      <td>구매</td>\n",
       "    </tr>\n",
       "    <tr>\n",
       "      <th>11</th>\n",
       "      <td>23</td>\n",
       "      <td>110</td>\n",
       "      <td>비구매</td>\n",
       "    </tr>\n",
       "    <tr>\n",
       "      <th>12</th>\n",
       "      <td>32</td>\n",
       "      <td>340</td>\n",
       "      <td>비구매</td>\n",
       "    </tr>\n",
       "    <tr>\n",
       "      <th>13</th>\n",
       "      <td>29</td>\n",
       "      <td>170</td>\n",
       "      <td>구매</td>\n",
       "    </tr>\n",
       "    <tr>\n",
       "      <th>14</th>\n",
       "      <td>37</td>\n",
       "      <td>340</td>\n",
       "      <td>구매</td>\n",
       "    </tr>\n",
       "    <tr>\n",
       "      <th>15</th>\n",
       "      <td>31</td>\n",
       "      <td>240</td>\n",
       "      <td>비구매</td>\n",
       "    </tr>\n",
       "    <tr>\n",
       "      <th>16</th>\n",
       "      <td>27</td>\n",
       "      <td>230</td>\n",
       "      <td>비구매</td>\n",
       "    </tr>\n",
       "    <tr>\n",
       "      <th>17</th>\n",
       "      <td>23</td>\n",
       "      <td>210</td>\n",
       "      <td>비구매</td>\n",
       "    </tr>\n",
       "    <tr>\n",
       "      <th>18</th>\n",
       "      <td>40</td>\n",
       "      <td>440</td>\n",
       "      <td>구매</td>\n",
       "    </tr>\n",
       "    <tr>\n",
       "      <th>19</th>\n",
       "      <td>27</td>\n",
       "      <td>140</td>\n",
       "      <td>비구매</td>\n",
       "    </tr>\n",
       "    <tr>\n",
       "      <th>20</th>\n",
       "      <td>43</td>\n",
       "      <td>400</td>\n",
       "      <td>비구매</td>\n",
       "    </tr>\n",
       "  </tbody>\n",
       "</table>\n",
       "</div>"
      ],
      "text/plain": [
       "    나이  월수입 상품구매여부\n",
       "0   26  160     구매\n",
       "1   35  210    비구매\n",
       "2   26  220    비구매\n",
       "3   29  260     구매\n",
       "4   22  110    비구매\n",
       "5   32  210    비구매\n",
       "6   37  310     구매\n",
       "7   21  110    비구매\n",
       "8   28  210    비구매\n",
       "9   31  260     구매\n",
       "10  36  390     구매\n",
       "11  23  110    비구매\n",
       "12  32  340    비구매\n",
       "13  29  170     구매\n",
       "14  37  340     구매\n",
       "15  31  240    비구매\n",
       "16  27  230    비구매\n",
       "17  23  210    비구매\n",
       "18  40  440     구매\n",
       "19  27  140    비구매\n",
       "20  43  400    비구매"
      ]
     },
     "execution_count": 20,
     "metadata": {
      "tags": []
     },
     "output_type": "execute_result"
    }
   ],
   "source": [
    "buy = pd.read_csv(\"c:/data/buy.csv\")\n",
    "buy"
   ]
  },
  {
   "cell_type": "code",
   "execution_count": 21,
   "metadata": {
    "colab": {
     "base_uri": "https://localhost:8080/",
     "height": 416
    },
    "id": "wGbl73Djkux0",
    "outputId": "e62a33f9-7ddf-4a35-9351-e439c65fb4c8"
   },
   "outputs": [
    {
     "data": {
      "text/plain": [
       "array([[ 26, 160],\n",
       "       [ 35, 210],\n",
       "       [ 26, 220],\n",
       "       [ 29, 260],\n",
       "       [ 22, 110],\n",
       "       [ 32, 210],\n",
       "       [ 37, 310],\n",
       "       [ 21, 110],\n",
       "       [ 28, 210],\n",
       "       [ 31, 260],\n",
       "       [ 36, 390],\n",
       "       [ 23, 110],\n",
       "       [ 32, 340],\n",
       "       [ 29, 170],\n",
       "       [ 37, 340],\n",
       "       [ 31, 240],\n",
       "       [ 27, 230],\n",
       "       [ 23, 210],\n",
       "       [ 40, 440],\n",
       "       [ 27, 140],\n",
       "       [ 43, 400]])"
      ]
     },
     "execution_count": 21,
     "metadata": {
      "tags": []
     },
     "output_type": "execute_result"
    }
   ],
   "source": [
    "x_train = np.array(buy.iloc[:,0:2])\n",
    "x_train"
   ]
  },
  {
   "cell_type": "code",
   "execution_count": 22,
   "metadata": {
    "colab": {
     "base_uri": "https://localhost:8080/",
     "height": 416
    },
    "id": "d1KR2G85ku6r",
    "outputId": "03fb1f5e-2780-495a-c9dd-d3f2bf50fb75"
   },
   "outputs": [
    {
     "data": {
      "text/plain": [
       "['구매',\n",
       " '비구매',\n",
       " '비구매',\n",
       " '구매',\n",
       " '비구매',\n",
       " '비구매',\n",
       " '구매',\n",
       " '비구매',\n",
       " '비구매',\n",
       " '구매',\n",
       " '구매',\n",
       " '비구매',\n",
       " '비구매',\n",
       " '구매',\n",
       " '구매',\n",
       " '비구매',\n",
       " '비구매',\n",
       " '비구매',\n",
       " '구매',\n",
       " '비구매',\n",
       " '비구매']"
      ]
     },
     "execution_count": 22,
     "metadata": {
      "tags": []
     },
     "output_type": "execute_result"
    }
   ],
   "source": [
    "label = list(buy.iloc[:,-1])\n",
    "label"
   ]
  },
  {
   "cell_type": "code",
   "execution_count": 23,
   "metadata": {
    "colab": {
     "base_uri": "https://localhost:8080/",
     "height": 36
    },
    "id": "I88rZjdekvCY",
    "outputId": "0e4c47b9-c759-484b-8dbe-89312c60f4c3"
   },
   "outputs": [
    {
     "data": {
      "application/vnd.google.colaboratory.intrinsic+json": {
       "type": "string"
      },
      "text/plain": [
       "'비구매'"
      ]
     },
     "execution_count": 23,
     "metadata": {
      "tags": []
     },
     "output_type": "execute_result"
    }
   ],
   "source": [
    "# 나이 : 20, 월수입 : 50\n",
    "y = np.array([[20,50]])\n",
    "\n",
    "clf = KNeighborsClassifier(n_neighbors=3)\n",
    "clf.fit(x_train, label)\n",
    "clf.predict(y)[0]"
   ]
  },
  {
   "cell_type": "code",
   "execution_count": 24,
   "metadata": {
    "colab": {
     "base_uri": "https://localhost:8080/",
     "height": 36
    },
    "id": "PgqGoUzUm47c",
    "outputId": "70603cd2-5e47-4481-81eb-8b02871448be"
   },
   "outputs": [
    {
     "data": {
      "application/vnd.google.colaboratory.intrinsic+json": {
       "type": "string"
      },
      "text/plain": [
       "'구매'"
      ]
     },
     "execution_count": 24,
     "metadata": {
      "tags": []
     },
     "output_type": "execute_result"
    }
   ],
   "source": [
    "# 나이 : 20, 월수입 : 150\n",
    "\n",
    "y = np.array([[20,150]])\n",
    "\n",
    "clf = KNeighborsClassifier(n_neighbors=3)\n",
    "clf.fit(x_train, label)\n",
    "clf.predict(y)[0]"
   ]
  },
  {
   "cell_type": "markdown",
   "metadata": {
    "id": "uY6aQ8B5TeTW"
   },
   "source": [
    "<br>"
   ]
  },
  {
   "cell_type": "markdown",
   "metadata": {
    "id": "jjEtaitUUTmT"
   },
   "source": [
    "작성일 : 2020-09-29"
   ]
  },
  {
   "cell_type": "markdown",
   "metadata": {
    "id": "KiZQ3EPRUbZ1"
   },
   "source": [
    "[문제5] bmi 데이터를 이용해서 키 : 178, 몸무게 71 분류해주세요."
   ]
  },
  {
   "cell_type": "code",
   "execution_count": 25,
   "metadata": {
    "id": "_bI2Np0OUZSx"
   },
   "outputs": [],
   "source": [
    "import pandas as pd\n",
    "import numpy as np\n",
    "from sklearn.neighbors import KNeighborsClassifier"
   ]
  },
  {
   "cell_type": "code",
   "execution_count": 26,
   "metadata": {
    "colab": {
     "base_uri": "https://localhost:8080/",
     "height": 419
    },
    "id": "ofG51ZQ2UpSH",
    "outputId": "76b6eea4-0133-4f04-d3f6-f06a3409d98c"
   },
   "outputs": [
    {
     "data": {
      "text/html": [
       "<div>\n",
       "<style scoped>\n",
       "    .dataframe tbody tr th:only-of-type {\n",
       "        vertical-align: middle;\n",
       "    }\n",
       "\n",
       "    .dataframe tbody tr th {\n",
       "        vertical-align: top;\n",
       "    }\n",
       "\n",
       "    .dataframe thead th {\n",
       "        text-align: right;\n",
       "    }\n",
       "</style>\n",
       "<table border=\"1\" class=\"dataframe\">\n",
       "  <thead>\n",
       "    <tr style=\"text-align: right;\">\n",
       "      <th></th>\n",
       "      <th>height</th>\n",
       "      <th>weight</th>\n",
       "      <th>label</th>\n",
       "    </tr>\n",
       "  </thead>\n",
       "  <tbody>\n",
       "    <tr>\n",
       "      <th>0</th>\n",
       "      <td>142</td>\n",
       "      <td>62</td>\n",
       "      <td>fat</td>\n",
       "    </tr>\n",
       "    <tr>\n",
       "      <th>1</th>\n",
       "      <td>142</td>\n",
       "      <td>73</td>\n",
       "      <td>fat</td>\n",
       "    </tr>\n",
       "    <tr>\n",
       "      <th>2</th>\n",
       "      <td>177</td>\n",
       "      <td>61</td>\n",
       "      <td>normal</td>\n",
       "    </tr>\n",
       "    <tr>\n",
       "      <th>3</th>\n",
       "      <td>187</td>\n",
       "      <td>48</td>\n",
       "      <td>thin</td>\n",
       "    </tr>\n",
       "    <tr>\n",
       "      <th>4</th>\n",
       "      <td>153</td>\n",
       "      <td>60</td>\n",
       "      <td>fat</td>\n",
       "    </tr>\n",
       "    <tr>\n",
       "      <th>...</th>\n",
       "      <td>...</td>\n",
       "      <td>...</td>\n",
       "      <td>...</td>\n",
       "    </tr>\n",
       "    <tr>\n",
       "      <th>19995</th>\n",
       "      <td>122</td>\n",
       "      <td>58</td>\n",
       "      <td>fat</td>\n",
       "    </tr>\n",
       "    <tr>\n",
       "      <th>19996</th>\n",
       "      <td>193</td>\n",
       "      <td>69</td>\n",
       "      <td>normal</td>\n",
       "    </tr>\n",
       "    <tr>\n",
       "      <th>19997</th>\n",
       "      <td>193</td>\n",
       "      <td>37</td>\n",
       "      <td>thin</td>\n",
       "    </tr>\n",
       "    <tr>\n",
       "      <th>19998</th>\n",
       "      <td>195</td>\n",
       "      <td>51</td>\n",
       "      <td>thin</td>\n",
       "    </tr>\n",
       "    <tr>\n",
       "      <th>19999</th>\n",
       "      <td>163</td>\n",
       "      <td>67</td>\n",
       "      <td>normal</td>\n",
       "    </tr>\n",
       "  </tbody>\n",
       "</table>\n",
       "<p>20000 rows × 3 columns</p>\n",
       "</div>"
      ],
      "text/plain": [
       "       height  weight   label\n",
       "0         142      62     fat\n",
       "1         142      73     fat\n",
       "2         177      61  normal\n",
       "3         187      48    thin\n",
       "4         153      60     fat\n",
       "...       ...     ...     ...\n",
       "19995     122      58     fat\n",
       "19996     193      69  normal\n",
       "19997     193      37    thin\n",
       "19998     195      51    thin\n",
       "19999     163      67  normal\n",
       "\n",
       "[20000 rows x 3 columns]"
      ]
     },
     "execution_count": 26,
     "metadata": {
      "tags": []
     },
     "output_type": "execute_result"
    }
   ],
   "source": [
    "bmi = pd.read_csv(\"c:/data/bmi.csv\")\n",
    "bmi"
   ]
  },
  {
   "cell_type": "code",
   "execution_count": 27,
   "metadata": {
    "colab": {
     "base_uri": "https://localhost:8080/",
     "height": 150
    },
    "id": "wqQaqzw4UwKp",
    "outputId": "ba2d9d38-e82a-444f-bf1b-3471e5f602c1"
   },
   "outputs": [
    {
     "data": {
      "text/plain": [
       "array([[142,  62],\n",
       "       [142,  73],\n",
       "       [177,  61],\n",
       "       ...,\n",
       "       [193,  37],\n",
       "       [195,  51],\n",
       "       [163,  67]])"
      ]
     },
     "execution_count": 27,
     "metadata": {
      "tags": []
     },
     "output_type": "execute_result"
    }
   ],
   "source": [
    "# sklearn.neighbors 사용\n",
    "\n",
    "x_train = np.array(bmi.iloc[:,0:2])\n",
    "x_train"
   ]
  },
  {
   "cell_type": "code",
   "execution_count": 28,
   "metadata": {
    "id": "8clcvuH2U8qP"
   },
   "outputs": [],
   "source": [
    "label = bmi['label']\n",
    "y = np.array([[178, 71]])"
   ]
  },
  {
   "cell_type": "code",
   "execution_count": 29,
   "metadata": {
    "colab": {
     "base_uri": "https://localhost:8080/",
     "height": 36
    },
    "id": "a0S6BF6oVBmX",
    "outputId": "ab8aff3b-faa5-4da1-fc77-d9d5e3a56af3"
   },
   "outputs": [
    {
     "data": {
      "application/vnd.google.colaboratory.intrinsic+json": {
       "type": "string"
      },
      "text/plain": [
       "'normal'"
      ]
     },
     "execution_count": 29,
     "metadata": {
      "tags": []
     },
     "output_type": "execute_result"
    }
   ],
   "source": [
    "clf = KNeighborsClassifier(n_neighbors=3)\n",
    "clf.fit(x_train, label)\n",
    "clf.predict(y)[0]"
   ]
  },
  {
   "cell_type": "code",
   "execution_count": 30,
   "metadata": {
    "colab": {
     "base_uri": "https://localhost:8080/",
     "height": 93
    },
    "id": "TDpC9NCkT-7S",
    "outputId": "82cc3781-f104-42eb-8dc5-9401daa3bdc0"
   },
   "outputs": [
    {
     "data": {
      "text/plain": [
       "10353    normal\n",
       "14793    normal\n",
       "6680     normal\n",
       "Name: label, dtype: object"
      ]
     },
     "execution_count": 30,
     "metadata": {
      "tags": []
     },
     "output_type": "execute_result"
    }
   ],
   "source": [
    "# 알고리즘 원리 이용\n",
    "\n",
    "dist = np.sqrt(np.sum(pow(x_train - y, 2),axis=1))\n",
    "indices = dist.argsort()[:3]\n",
    "label[indices]"
   ]
  },
  {
   "cell_type": "code",
   "execution_count": 31,
   "metadata": {
    "colab": {
     "base_uri": "https://localhost:8080/",
     "height": 74
    },
    "id": "OmbQXgRAcdXJ",
    "outputId": "2a77feb2-cab2-476e-a832-ae576cf0290a"
   },
   "outputs": [
    {
     "name": "stdout",
     "output_type": "stream",
     "text": [
      "normal\n",
      "normal\n",
      "normal\n"
     ]
    }
   ],
   "source": [
    "for i in indices:\n",
    "  print(label[i])"
   ]
  },
  {
   "cell_type": "code",
   "execution_count": 32,
   "metadata": {
    "colab": {
     "base_uri": "https://localhost:8080/",
     "height": 36
    },
    "id": "QGTjLDEYchuO",
    "outputId": "a4ae2ebc-276c-4bbe-e125-7bd31b7c09a8"
   },
   "outputs": [
    {
     "data": {
      "application/vnd.google.colaboratory.intrinsic+json": {
       "type": "string"
      },
      "text/plain": [
       "'normal'"
      ]
     },
     "execution_count": 32,
     "metadata": {
      "tags": []
     },
     "output_type": "execute_result"
    }
   ],
   "source": [
    "from collections import Counter\n",
    "result = np.take(label, indices)\n",
    "Counter(result).most_common(1)[0][0]"
   ]
  }
 ],
 "metadata": {
  "colab": {
   "collapsed_sections": [],
   "name": "03_skl_neighbors.ipynb",
   "provenance": [],
   "toc_visible": true
  },
  "kernelspec": {
   "display_name": "Python 3 (ipykernel)",
   "language": "python",
   "name": "python3"
  },
  "language_info": {
   "codemirror_mode": {
    "name": "ipython",
    "version": 3
   },
   "file_extension": ".py",
   "mimetype": "text/x-python",
   "name": "python",
   "nbconvert_exporter": "python",
   "pygments_lexer": "ipython3",
   "version": "3.9.6"
  },
  "toc": {
   "base_numbering": 1,
   "nav_menu": {},
   "number_sections": true,
   "sideBar": true,
   "skip_h1_title": false,
   "title_cell": "Table of Contents",
   "title_sidebar": "Contents",
   "toc_cell": false,
   "toc_position": {},
   "toc_section_display": true,
   "toc_window_display": false
  },
  "varInspector": {
   "cols": {
    "lenName": 16,
    "lenType": 16,
    "lenVar": 40
   },
   "kernels_config": {
    "python": {
     "delete_cmd_postfix": "",
     "delete_cmd_prefix": "del ",
     "library": "var_list.py",
     "varRefreshCmd": "print(var_dic_list())"
    },
    "r": {
     "delete_cmd_postfix": ") ",
     "delete_cmd_prefix": "rm(",
     "library": "var_list.r",
     "varRefreshCmd": "cat(var_dic_list()) "
    }
   },
   "types_to_exclude": [
    "module",
    "function",
    "builtin_function_or_method",
    "instance",
    "_Feature"
   ],
   "window_display": false
  }
 },
 "nbformat": 4,
 "nbformat_minor": 4
}
