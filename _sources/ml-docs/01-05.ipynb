{
 "cells": [
  {
   "cell_type": "markdown",
   "metadata": {
    "id": "fb_WTpM9Rvin"
   },
   "source": [
    "# 혼동행렬\n",
    "작성일 : 2020-10-05\n",
    "\n",
    "---"
   ]
  },
  {
   "cell_type": "markdown",
   "metadata": {
    "id": "sbQoxnlSQLoD"
   },
   "source": [
    "## 혼동행렬 (Confusion Matrix)\n",
    "- 모델 성능을 평가할 때 사용되는 지표\n",
    "- 예측값이 실제값을 얼마나 정확히 예측했는지 보여주는 행렬"
   ]
  },
  {
   "cell_type": "code",
   "execution_count": null,
   "metadata": {
    "colab": {
     "base_uri": "https://localhost:8080/",
     "height": 142
    },
    "id": "UaKVfrgKQP0r",
    "outputId": "86a2ea80-1c98-4db7-ee93-567f5ca4b881"
   },
   "outputs": [
    {
     "data": {
      "text/html": [
       "<div>\n",
       "<style scoped>\n",
       "    .dataframe tbody tr th:only-of-type {\n",
       "        vertical-align: middle;\n",
       "    }\n",
       "\n",
       "    .dataframe tbody tr th {\n",
       "        vertical-align: top;\n",
       "    }\n",
       "\n",
       "    .dataframe thead th {\n",
       "        text-align: right;\n",
       "    }\n",
       "</style>\n",
       "<table border=\"1\" class=\"dataframe\">\n",
       "  <thead>\n",
       "    <tr style=\"text-align: right;\">\n",
       "      <th>predict</th>\n",
       "      <th>0</th>\n",
       "      <th>1</th>\n",
       "    </tr>\n",
       "    <tr>\n",
       "      <th>actual</th>\n",
       "      <th></th>\n",
       "      <th></th>\n",
       "    </tr>\n",
       "  </thead>\n",
       "  <tbody>\n",
       "    <tr>\n",
       "      <th>0</th>\n",
       "      <td>3</td>\n",
       "      <td>2</td>\n",
       "    </tr>\n",
       "    <tr>\n",
       "      <th>1</th>\n",
       "      <td>1</td>\n",
       "      <td>1</td>\n",
       "    </tr>\n",
       "  </tbody>\n",
       "</table>\n",
       "</div>"
      ],
      "text/plain": [
       "predict  0  1\n",
       "actual       \n",
       "0        3  2\n",
       "1        1  1"
      ]
     },
     "execution_count": 1,
     "metadata": {
      "tags": []
     },
     "output_type": "execute_result"
    }
   ],
   "source": [
    "import pandas as pd\n",
    "Y_actual = pd.Series([0,0,1,0,0,1,0], name = 'actual')\n",
    "Y_predict = pd.Series([0,0,1,1,0,0,1], name = 'predict')\n",
    "\n",
    "pd.crosstab(Y_actual, Y_predict)"
   ]
  },
  {
   "cell_type": "markdown",
   "metadata": {
    "id": "acNJWgS7TDDa"
   },
   "source": [
    "|| 예측 (예) | 예측 (아니오)|\n",
    "|--|:--:|:--:|\n",
    "실제 (예) | TP | FN\n",
    "실제 (아니오) | FP | TN\n",
    "\n",
    "- `TR (True Positive)` : 참긍정, 병에 관해 예라고 예측한 환자가 실제로 병을 가진 경우\n",
    "- `TN (True Negative)` : 참부정 : 병에 관해 아니오라고 예측한 환자가 실제로 병이 없는 경우\n",
    "- `FP (False Positive)` : 거짓 긍정, 병에 관해 예라고 예측한 환자가 실제로 병이 없는 경우\n",
    "- `FN (False Negative)` : **거짓 부정, 병에 관해 아니오라고 예측한 환자가 실제로 병을 가진 경우**\n"
   ]
  },
  {
   "cell_type": "markdown",
   "metadata": {
    "id": "gYwxqUI7bOQ1"
   },
   "source": [
    "|| 예측 (불량품) | 예측 (정상)|\n",
    "|--|:--:|:--:|\n",
    "실제 (불량품) | TP | FN\n",
    "실제 (정상) | FP | TN\n",
    "\n",
    "- `TR (True Positive)` : 참긍정, 불량품을 정확하게 불량품으로 예측\n",
    "- `TN (True Negative)` : 참부정, 정상을 정상으로 예측\n",
    "- `FP (False Positive)` : 거짓 긍정, 정상을 불량품으로 잘못 예측\n",
    "- `FN (False Negative)` : **거짓 부정, 불량품을 정상으로 잘못 예측**"
   ]
  },
  {
   "cell_type": "code",
   "execution_count": null,
   "metadata": {
    "id": "wojLhnobcAyY"
   },
   "outputs": [],
   "source": [
    "from sklearn.metrics import confusion_matrix, classification_report"
   ]
  },
  {
   "cell_type": "code",
   "execution_count": null,
   "metadata": {
    "colab": {
     "base_uri": "https://localhost:8080/",
     "height": 55
    },
    "id": "lBLzEo34cKNJ",
    "outputId": "d09bd6ba-83c3-4ccd-9105-0fb9b560c4a0"
   },
   "outputs": [
    {
     "name": "stdout",
     "output_type": "stream",
     "text": [
      "[[3 2]\n",
      " [1 1]]\n"
     ]
    }
   ],
   "source": [
    "print(confusion_matrix(Y_actual, Y_predict))"
   ]
  },
  {
   "cell_type": "code",
   "execution_count": null,
   "metadata": {
    "colab": {
     "base_uri": "https://localhost:8080/",
     "height": 188
    },
    "id": "ou-DbPHgcQQd",
    "outputId": "05c2381d-bd3f-4273-8dc0-6822524dafc3"
   },
   "outputs": [
    {
     "name": "stdout",
     "output_type": "stream",
     "text": [
      "              precision    recall  f1-score   support\n",
      "\n",
      "           0       0.75      0.60      0.67         5\n",
      "           1       0.33      0.50      0.40         2\n",
      "\n",
      "    accuracy                           0.57         7\n",
      "   macro avg       0.54      0.55      0.53         7\n",
      "weighted avg       0.63      0.57      0.59         7\n",
      "\n"
     ]
    }
   ],
   "source": [
    "print(classification_report(Y_actual, Y_predict))"
   ]
  },
  {
   "cell_type": "markdown",
   "metadata": {
    "id": "R-gN4gLVcjWm"
   },
   "source": [
    "### 정확도\n",
    "- 정확도 = 예측결과와 실제값이 동일한 건수 / 전체 데이터 수  \n",
    "  `= (TP + TN) / (TP + TN + FP + FN)`  \n",
    "  `= (3 + 1) / (3 + 1 + 2 + 1)`  \n"
   ]
  },
  {
   "cell_type": "markdown",
   "metadata": {
    "id": "gTAePISNEEWW"
   },
   "source": [
    "### 정밀도\n",
    "- 정밀도 (precision) : 정밀도는 예 클래스에 속한다고 출력한 값이 실제로 예 클래스에 속하는 비율  \n",
    "\n",
    "- 정밀도 `= TP / (TP + FP)`  \n",
    "0 정밀도 `= 3 / (3 + 1)`  \n",
    "1 정밀도 `= 1 / (2 + 1)`  "
   ]
  },
  {
   "cell_type": "markdown",
   "metadata": {
    "id": "lMaJTy5DEIru"
   },
   "source": [
    "### 재현율\n",
    "- 재현율 (recall) : 실제값 중에서 모델이 검출한 실제값의 비율을 나타내는 지표  \n",
    "실제 암환자들이 병원에 갔을 때 암환자라고 예측될 확률\n",
    "\n",
    "- 재현율 `= TP / (TP + FN)`  \n",
    "0 재현율 `= 3 / (3 + 2)`  \n",
    "1 재현율 `= 1 / (1 + 1)`"
   ]
  },
  {
   "cell_type": "markdown",
   "metadata": {
    "id": "_6Js5maxEMOH"
   },
   "source": [
    "### f1-score \n",
    "- f1-score : 정밀도와 재현율의 조화평균  \n",
    "\n",
    "- f1점수 `= 2 * 재현율 * 정밀도 / (재현율 + 정밀도)`  \n",
    "0 f1 점수 `= 2 * 0.6 * 0.75 / (0.6 + 0.75)`\n",
    "1 f1 점수 `= 2 * 0.5 * 0.33 / (0.5 + 0.33)`"
   ]
  },
  {
   "cell_type": "markdown",
   "metadata": {
    "id": "WWlJDH8ej1jc"
   },
   "source": [
    "[문제8] 서울과 부산(400km)를 왕복하는데 서울에서 부산 가는데 시속 150km/h로 가고 오는데 시속 100km/h로 왔다면 왕복하는데 걸린 평균 시속은?"
   ]
  },
  {
   "cell_type": "code",
   "execution_count": null,
   "metadata": {
    "colab": {
     "base_uri": "https://localhost:8080/",
     "height": 36
    },
    "id": "l1SKVc9dktCK",
    "outputId": "3fdd9f38-de8b-4580-85bf-a1a02f214357"
   },
   "outputs": [
    {
     "data": {
      "text/plain": [
       "120.00000000000001"
      ]
     },
     "execution_count": 6,
     "metadata": {
      "tags": []
     },
     "output_type": "execute_result"
    }
   ],
   "source": [
    "800/((400/150) + (400/100))"
   ]
  },
  {
   "cell_type": "markdown",
   "metadata": {
    "id": "fD-Dq5t-k7kL"
   },
   "source": [
    "= 120km/h"
   ]
  },
  {
   "cell_type": "markdown",
   "metadata": {
    "id": "9appbf7Jk90r"
   },
   "source": [
    "유방암 데이터 classification_report"
   ]
  },
  {
   "cell_type": "code",
   "execution_count": null,
   "metadata": {
    "colab": {
     "base_uri": "https://localhost:8080/",
     "height": 55
    },
    "id": "KWJuWho9v8gW",
    "outputId": "5cbeac9e-2eba-450b-c02d-b75057629edc"
   },
   "outputs": [
    {
     "data": {
      "text/plain": [
       "array([[71,  0],\n",
       "       [ 3, 40]])"
      ]
     },
     "execution_count": 24,
     "metadata": {
      "tags": []
     },
     "output_type": "execute_result"
    }
   ],
   "source": [
    "confusion_matrix(Y_test,clf.predict(X_test))"
   ]
  },
  {
   "cell_type": "code",
   "execution_count": null,
   "metadata": {
    "colab": {
     "base_uri": "https://localhost:8080/",
     "height": 188
    },
    "id": "ol7M3ciivfd9",
    "outputId": "b21b887a-f30d-4948-8d12-e98fe9d9f118"
   },
   "outputs": [
    {
     "name": "stdout",
     "output_type": "stream",
     "text": [
      "              precision    recall  f1-score   support\n",
      "\n",
      "           B       0.96      1.00      0.98        71\n",
      "           M       1.00      0.93      0.96        43\n",
      "\n",
      "    accuracy                           0.97       114\n",
      "   macro avg       0.98      0.97      0.97       114\n",
      "weighted avg       0.97      0.97      0.97       114\n",
      "\n"
     ]
    }
   ],
   "source": [
    "print(classification_report(Y_test, clf.predict(X_test)))"
   ]
  },
  {
   "cell_type": "markdown",
   "metadata": {
    "id": "9UfHIKNHvpTT"
   },
   "source": [
    "```\n",
    "정확도 (accuracy) = (71 + 40) / 114\n",
    "B 정밀도 (precision) = (71 / 71 + 3)\n",
    "M 정밀도 (precision) = 40 / 40\n",
    "\n",
    "B 재현율 (recall) = 71 / 71\n",
    "M 재현율 (recall) = 40 / (40 + 3)\n",
    "\n",
    "B F1점수 = (2 * 0.96 * 1.0) / (0.96 + 1.0)\n",
    "M F1점수 = (2 * 1.0 * 0.93) / (1.0 + 0.93)\n",
    "```"
   ]
  },
  {
   "cell_type": "markdown",
   "metadata": {
    "id": "R5B-U6ZuD3IA"
   },
   "source": [
    "### 참고 | 가중평균(weighted mean)\n",
    "각 항의 수치에 그 중요도에 비례하는 계수를 곱한 다음 산출하는 평균"
   ]
  },
  {
   "cell_type": "markdown",
   "metadata": {
    "id": "AYOb8QljEdHs"
   },
   "source": [
    "[문제9] 수강생이 다른 세 반의 평균은?  \n",
    "\n",
    "<br/>\n",
    "\n",
    "|반|수강생|반평균|\n",
    "|--|:--:|:--:|\n",
    "|1반|40|70|\n",
    "|2반|35|75|\n",
    "|3반|25|80|"
   ]
  },
  {
   "cell_type": "code",
   "execution_count": null,
   "metadata": {
    "colab": {
     "base_uri": "https://localhost:8080/",
     "height": 36
    },
    "id": "vyEfw1OdEnbj",
    "outputId": "da1da5b2-e2b0-4be0-ef6d-4ccca178b904"
   },
   "outputs": [
    {
     "data": {
      "text/plain": [
       "74.25"
      ]
     },
     "execution_count": 26,
     "metadata": {
      "tags": []
     },
     "output_type": "execute_result"
    }
   ],
   "source": [
    "(40 * 70 + 35 * 75 + 25 * 80) / (40 + 35 + 25)"
   ]
  },
  {
   "cell_type": "markdown",
   "metadata": {
    "id": "Viif3agJFoUr"
   },
   "source": [
    "[문제10] 홍하든, 박커리 두 학생이 확률통계(3학점), 컴퓨터시스템(2학점)을 수강한 결과  \n",
    "홍하든은 확률통계에서 A학점, 컴퓨터시스템에서 B학점을 받았고  \n",
    "박커리는 확률통계에서 B학점, 컴퓨터시스템에서 A학점을 받았다.  \n",
    "A학점은 평점 4, B학점은 평점 3일 때 각 학생들의 평균평점을 구하세요."
   ]
  },
  {
   "cell_type": "code",
   "execution_count": null,
   "metadata": {
    "colab": {
     "base_uri": "https://localhost:8080/",
     "height": 36
    },
    "id": "7BJyDOXcG0F3",
    "outputId": "3942bbff-ef2e-4d96-e27c-d641b2df3ebb"
   },
   "outputs": [
    {
     "data": {
      "text/plain": [
       "3.6"
      ]
     },
     "execution_count": 30,
     "metadata": {
      "tags": []
     },
     "output_type": "execute_result"
    }
   ],
   "source": [
    "# 홍하든\n",
    "(4 * 3 + 3 * 2) / (3 + 2)"
   ]
  },
  {
   "cell_type": "code",
   "execution_count": null,
   "metadata": {
    "colab": {
     "base_uri": "https://localhost:8080/",
     "height": 36
    },
    "id": "nK1yI4RRG5mn",
    "outputId": "dccfcb22-c5a0-4087-a9c7-45fd152e36a7"
   },
   "outputs": [
    {
     "data": {
      "text/plain": [
       "3.4"
      ]
     },
     "execution_count": 29,
     "metadata": {
      "tags": []
     },
     "output_type": "execute_result"
    }
   ],
   "source": [
    "# 박커리\n",
    "(3 * 3 + 4 * 2) / (3 + 2)"
   ]
  },
  {
   "cell_type": "markdown",
   "metadata": {
    "id": "1XKwT_wTLkJr"
   },
   "source": [
    "### 참고 | 변화율"
   ]
  },
  {
   "cell_type": "markdown",
   "metadata": {
    "id": "ZQ3CjgRvIHPM"
   },
   "source": [
    "[문제10] 전년도 대비 증가율?  \n",
    "\n",
    "<br/>\n",
    "\n",
    "|년도|수익|증가율|\n",
    "|--|--:|--:|\n",
    "|2015|635|\n",
    "|2016|998|\n",
    "|2017|1265|\n",
    "|2018|1701|\n",
    "|2019|2363|"
   ]
  },
  {
   "cell_type": "code",
   "execution_count": null,
   "metadata": {
    "colab": {
     "base_uri": "https://localhost:8080/",
     "height": 36
    },
    "id": "foCk6F-SIU8Q",
    "outputId": "a7f437fe-ad5f-4e7a-c301-1f686d5aafb6"
   },
   "outputs": [
    {
     "data": {
      "text/plain": [
       "57.16535433070866"
      ]
     },
     "execution_count": 33,
     "metadata": {
      "tags": []
     },
     "output_type": "execute_result"
    }
   ],
   "source": [
    "# 2016년\n",
    "(998 - 635) / 635 * 100"
   ]
  },
  {
   "cell_type": "code",
   "execution_count": null,
   "metadata": {
    "colab": {
     "base_uri": "https://localhost:8080/",
     "height": 36
    },
    "id": "9YjFk0joIlpM",
    "outputId": "b92f9a10-5c52-4ed1-b8dc-43ea0b05f5f8"
   },
   "outputs": [
    {
     "data": {
      "text/plain": [
       "26.753507014028056"
      ]
     },
     "execution_count": 35,
     "metadata": {
      "tags": []
     },
     "output_type": "execute_result"
    }
   ],
   "source": [
    "# 2017년\n",
    "(1265 - 998) / 998 * 100"
   ]
  },
  {
   "cell_type": "code",
   "execution_count": null,
   "metadata": {
    "colab": {
     "base_uri": "https://localhost:8080/",
     "height": 36
    },
    "id": "J52QjkxcIst5",
    "outputId": "3e015e80-df04-455e-a5c9-f4668cc87ff5"
   },
   "outputs": [
    {
     "data": {
      "text/plain": [
       "34.466403162055336"
      ]
     },
     "execution_count": 37,
     "metadata": {
      "tags": []
     },
     "output_type": "execute_result"
    }
   ],
   "source": [
    "(1701 - 1265) / 1265 * 100"
   ]
  },
  {
   "cell_type": "code",
   "execution_count": null,
   "metadata": {
    "colab": {
     "base_uri": "https://localhost:8080/",
     "height": 36
    },
    "id": "PjSRZZWoIvob",
    "outputId": "7ae1d999-9d9a-42df-df1d-9f269ae8509f"
   },
   "outputs": [
    {
     "data": {
      "text/plain": [
       "38.918283362727806"
      ]
     },
     "execution_count": 38,
     "metadata": {
      "tags": []
     },
     "output_type": "execute_result"
    }
   ],
   "source": [
    "(2363 - 1701) / 1701 * 100"
   ]
  },
  {
   "cell_type": "markdown",
   "metadata": {
    "id": "9Nkafhd0I2Hn"
   },
   "source": [
    "|년도|수익|증가율|\n",
    "|--|--:|--:|\n",
    "|2015|635|\n",
    "|2016|998|57.2%|\n",
    "|2017|1265|26.8%|\n",
    "|2018|1701|34.5%|\n",
    "|2019|2363|38.9%|"
   ]
  },
  {
   "cell_type": "markdown",
   "metadata": {
    "id": "gsZV1V4hKx8m"
   },
   "source": [
    "[문제11] 5년동안 연평균 변화율은?"
   ]
  },
  {
   "cell_type": "code",
   "execution_count": null,
   "metadata": {
    "colab": {
     "base_uri": "https://localhost:8080/",
     "height": 36
    },
    "id": "ZmLvbRMaIy25",
    "outputId": "e37a57e9-ae5e-4ae2-90ac-e06a238928cf"
   },
   "outputs": [
    {
     "data": {
      "text/plain": [
       "0.38919865750632154"
      ]
     },
     "execution_count": 40,
     "metadata": {
      "tags": []
     },
     "output_type": "execute_result"
    }
   ],
   "source": [
    "((998/635) * (1265/998) * (1701/1265) * (2365/1701))**(1/4) - 1"
   ]
  },
  {
   "cell_type": "code",
   "execution_count": null,
   "metadata": {
    "colab": {
     "base_uri": "https://localhost:8080/",
     "height": 36
    },
    "id": "9OhbnVVILKHd",
    "outputId": "6deff366-7424-41f5-8ccc-a588696cf8a0"
   },
   "outputs": [
    {
     "data": {
      "text/plain": [
       "0.3889048648162128"
      ]
     },
     "execution_count": 41,
     "metadata": {
      "tags": []
     },
     "output_type": "execute_result"
    }
   ],
   "source": [
    "(2363/635)**(1/4) - 1"
   ]
  },
  {
   "cell_type": "markdown",
   "metadata": {
    "id": "FtFI2mhBMP9t"
   },
   "source": [
    "### 참고 | 절단평균, 절사평균, Trimmed mean\n",
    "- 자료중에서 큰 관측값이나 작은 관측값을 각각 몇 만큼 버린 나머지 관측값들로 평균을 구한다.\n",
    "- 2014년 국회의원 재산 공개  \n",
    "평균 97억 5667만원  \n",
    "500억 이상 제외한 평균 18억 686만원\n"
   ]
  }
 ],
 "metadata": {
  "colab": {
   "collapsed_sections": [
    "R-gN4gLVcjWm",
    "gTAePISNEEWW",
    "lMaJTy5DEIru",
    "_6Js5maxEMOH",
    "R5B-U6ZuD3IA",
    "1XKwT_wTLkJr",
    "FtFI2mhBMP9t",
    "6Inwj_ygnXSu",
    "lT6f2pzAv-cZ",
    "SB_fJasVw69F"
   ],
   "name": "05_conf_matrix.ipynb",
   "provenance": [],
   "toc_visible": true
  },
  "kernelspec": {
   "display_name": "Python 3 (ipykernel)",
   "language": "python",
   "name": "python3"
  },
  "language_info": {
   "codemirror_mode": {
    "name": "ipython",
    "version": 3
   },
   "file_extension": ".py",
   "mimetype": "text/x-python",
   "name": "python",
   "nbconvert_exporter": "python",
   "pygments_lexer": "ipython3",
   "version": "3.9.6"
  }
 },
 "nbformat": 4,
 "nbformat_minor": 4
}
