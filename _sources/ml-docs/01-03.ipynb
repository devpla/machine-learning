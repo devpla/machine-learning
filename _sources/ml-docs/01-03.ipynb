{
 "cells": [
  {
   "cell_type": "markdown",
   "metadata": {
    "id": "k6vEu3gKiKkl"
   },
   "source": [
    "# Feature Scaling\n",
    "작성일 : 2020-09-29\n",
    "\n",
    "---"
   ]
  },
  {
   "cell_type": "markdown",
   "metadata": {
    "id": "_IvWKFEAk3gY"
   },
   "source": [
    "## Feature Scaling\n",
    "서로 다른 변수의 값 범위를 일정한 수준으로 맞추는 작업"
   ]
  },
  {
   "cell_type": "markdown",
   "metadata": {
    "id": "YQ6Yzi7qiUSP"
   },
   "source": [
    "### 표준화 (Standardization)\n",
    "평균은 0, 표준편차 1인 표준정규분포를 가진 값으로 변환\n",
    "\n",
    "```\n",
    "   관측값 - 평균\n",
    "   ----------\n",
    "     표준편차\n",
    "```"
   ]
  },
  {
   "cell_type": "code",
   "execution_count": 2,
   "metadata": {
    "colab": {
     "base_uri": "https://localhost:8080/",
     "height": 36
    },
    "id": "D0dJIPHui9UD",
    "outputId": "db83ebb5-07a3-4d2b-8822-b16057d754d6"
   },
   "outputs": [
    {
     "data": {
      "text/plain": [
       "array([-3., -2., -1.,  0.,  1.,  2.,  3.,  4.,  5.])"
      ]
     },
     "execution_count": 2,
     "metadata": {
      "tags": []
     },
     "output_type": "execute_result"
    }
   ],
   "source": [
    "import numpy as np\n",
    "x = np.arange(9, dtype = np.float) - 3\n",
    "x"
   ]
  },
  {
   "cell_type": "code",
   "execution_count": 3,
   "metadata": {
    "colab": {
     "base_uri": "https://localhost:8080/",
     "height": 36
    },
    "id": "OknNtxYIi0Kq",
    "outputId": "f02b8efd-000e-4745-aaa4-a6286b74cf12"
   },
   "outputs": [
    {
     "data": {
      "text/plain": [
       "(9,)"
      ]
     },
     "execution_count": 3,
     "metadata": {
      "tags": []
     },
     "output_type": "execute_result"
    }
   ],
   "source": [
    "x.shape"
   ]
  },
  {
   "cell_type": "code",
   "execution_count": 4,
   "metadata": {
    "colab": {
     "base_uri": "https://localhost:8080/",
     "height": 188
    },
    "id": "ni9r40SjkWZl",
    "outputId": "27b2e229-24c0-49a5-ddfd-982a02444942"
   },
   "outputs": [
    {
     "data": {
      "text/plain": [
       "array([[-3.],\n",
       "       [-2.],\n",
       "       [-1.],\n",
       "       [ 0.],\n",
       "       [ 1.],\n",
       "       [ 2.],\n",
       "       [ 3.],\n",
       "       [ 4.],\n",
       "       [ 5.]])"
      ]
     },
     "execution_count": 4,
     "metadata": {
      "tags": []
     },
     "output_type": "execute_result"
    }
   ],
   "source": [
    "x.reshape(9,1) # 행의 수를 알고 있을 경우\n",
    "np.reshape(x,(9,1))"
   ]
  },
  {
   "cell_type": "code",
   "execution_count": 5,
   "metadata": {
    "colab": {
     "base_uri": "https://localhost:8080/",
     "height": 188
    },
    "id": "SvdUZm_1kWdA",
    "outputId": "6e6609a6-14b4-4534-9e7b-5ef724a5af99"
   },
   "outputs": [
    {
     "data": {
      "text/plain": [
       "array([[-3.],\n",
       "       [-2.],\n",
       "       [-1.],\n",
       "       [ 0.],\n",
       "       [ 1.],\n",
       "       [ 2.],\n",
       "       [ 3.],\n",
       "       [ 4.],\n",
       "       [ 5.]])"
      ]
     },
     "execution_count": 5,
     "metadata": {
      "tags": []
     },
     "output_type": "execute_result"
    }
   ],
   "source": [
    "x = x.reshape(-1,1) # 열은 고정, 행은 가변일 경우 -1\n",
    "x"
   ]
  },
  {
   "cell_type": "code",
   "execution_count": 6,
   "metadata": {
    "colab": {
     "base_uri": "https://localhost:8080/",
     "height": 207
    },
    "id": "5DaCndqakWf4",
    "outputId": "18b37e36-7488-46e2-d6ac-e70bbdc7b39a"
   },
   "outputs": [
    {
     "data": {
      "text/plain": [
       "array([[ -3.],\n",
       "       [ -2.],\n",
       "       [ -1.],\n",
       "       [  0.],\n",
       "       [  1.],\n",
       "       [  2.],\n",
       "       [  3.],\n",
       "       [  4.],\n",
       "       [  5.],\n",
       "       [100.]])"
      ]
     },
     "execution_count": 6,
     "metadata": {
      "tags": []
     },
     "output_type": "execute_result"
    }
   ],
   "source": [
    "x = np.vstack([x,[100]]) # 열 이어붙이기\n",
    "x"
   ]
  },
  {
   "cell_type": "code",
   "execution_count": 8,
   "metadata": {
    "colab": {
     "base_uri": "https://localhost:8080/",
     "height": 297
    },
    "id": "rN-mzhJckWi5",
    "outputId": "273c5cd8-cab1-4922-e4e8-b2b4532cc722"
   },
   "outputs": [
    {
     "data": {
      "text/html": [
       "<div>\n",
       "<style scoped>\n",
       "    .dataframe tbody tr th:only-of-type {\n",
       "        vertical-align: middle;\n",
       "    }\n",
       "\n",
       "    .dataframe tbody tr th {\n",
       "        vertical-align: top;\n",
       "    }\n",
       "\n",
       "    .dataframe thead th {\n",
       "        text-align: right;\n",
       "    }\n",
       "</style>\n",
       "<table border=\"1\" class=\"dataframe\">\n",
       "  <thead>\n",
       "    <tr style=\"text-align: right;\">\n",
       "      <th></th>\n",
       "      <th>0</th>\n",
       "    </tr>\n",
       "  </thead>\n",
       "  <tbody>\n",
       "    <tr>\n",
       "      <th>count</th>\n",
       "      <td>10.000000</td>\n",
       "    </tr>\n",
       "    <tr>\n",
       "      <th>mean</th>\n",
       "      <td>10.900000</td>\n",
       "    </tr>\n",
       "    <tr>\n",
       "      <th>std</th>\n",
       "      <td>31.412842</td>\n",
       "    </tr>\n",
       "    <tr>\n",
       "      <th>min</th>\n",
       "      <td>-3.000000</td>\n",
       "    </tr>\n",
       "    <tr>\n",
       "      <th>25%</th>\n",
       "      <td>-0.750000</td>\n",
       "    </tr>\n",
       "    <tr>\n",
       "      <th>50%</th>\n",
       "      <td>1.500000</td>\n",
       "    </tr>\n",
       "    <tr>\n",
       "      <th>75%</th>\n",
       "      <td>3.750000</td>\n",
       "    </tr>\n",
       "    <tr>\n",
       "      <th>max</th>\n",
       "      <td>100.000000</td>\n",
       "    </tr>\n",
       "  </tbody>\n",
       "</table>\n",
       "</div>"
      ],
      "text/plain": [
       "                0\n",
       "count   10.000000\n",
       "mean    10.900000\n",
       "std     31.412842\n",
       "min     -3.000000\n",
       "25%     -0.750000\n",
       "50%      1.500000\n",
       "75%      3.750000\n",
       "max    100.000000"
      ]
     },
     "execution_count": 8,
     "metadata": {
      "tags": []
     },
     "output_type": "execute_result"
    }
   ],
   "source": [
    "import pandas as pd\n",
    "pd.DataFrame(x).describe()"
   ]
  },
  {
   "cell_type": "code",
   "execution_count": 9,
   "metadata": {
    "colab": {
     "base_uri": "https://localhost:8080/",
     "height": 207
    },
    "id": "jjS-Hp7vkWmB",
    "outputId": "8ca86444-1e0a-4ea2-deb7-15655468f759"
   },
   "outputs": [
    {
     "data": {
      "text/plain": [
       "array([[-0.46642982],\n",
       "       [-0.43287372],\n",
       "       [-0.39931762],\n",
       "       [-0.36576152],\n",
       "       [-0.33220541],\n",
       "       [-0.29864931],\n",
       "       [-0.26509321],\n",
       "       [-0.23153711],\n",
       "       [-0.197981  ],\n",
       "       [ 2.98984872]])"
      ]
     },
     "execution_count": 9,
     "metadata": {
      "tags": []
     },
     "output_type": "execute_result"
    }
   ],
   "source": [
    "# 표준화\n",
    "y = (x - np.mean(x)) / np.std(x)\n",
    "y"
   ]
  },
  {
   "cell_type": "code",
   "execution_count": 10,
   "metadata": {
    "colab": {
     "base_uri": "https://localhost:8080/",
     "height": 297
    },
    "id": "m7bvFwJikWpW",
    "outputId": "2e114c79-9184-4695-f3e0-ceba2928d515"
   },
   "outputs": [
    {
     "data": {
      "text/html": [
       "<div>\n",
       "<style scoped>\n",
       "    .dataframe tbody tr th:only-of-type {\n",
       "        vertical-align: middle;\n",
       "    }\n",
       "\n",
       "    .dataframe tbody tr th {\n",
       "        vertical-align: top;\n",
       "    }\n",
       "\n",
       "    .dataframe thead th {\n",
       "        text-align: right;\n",
       "    }\n",
       "</style>\n",
       "<table border=\"1\" class=\"dataframe\">\n",
       "  <thead>\n",
       "    <tr style=\"text-align: right;\">\n",
       "      <th></th>\n",
       "      <th>0</th>\n",
       "    </tr>\n",
       "  </thead>\n",
       "  <tbody>\n",
       "    <tr>\n",
       "      <th>count</th>\n",
       "      <td>1.000000e+01</td>\n",
       "    </tr>\n",
       "    <tr>\n",
       "      <th>mean</th>\n",
       "      <td>-4.440892e-17</td>\n",
       "    </tr>\n",
       "    <tr>\n",
       "      <th>std</th>\n",
       "      <td>1.054093e+00</td>\n",
       "    </tr>\n",
       "    <tr>\n",
       "      <th>min</th>\n",
       "      <td>-4.664298e-01</td>\n",
       "    </tr>\n",
       "    <tr>\n",
       "      <th>25%</th>\n",
       "      <td>-3.909286e-01</td>\n",
       "    </tr>\n",
       "    <tr>\n",
       "      <th>50%</th>\n",
       "      <td>-3.154274e-01</td>\n",
       "    </tr>\n",
       "    <tr>\n",
       "      <th>75%</th>\n",
       "      <td>-2.399261e-01</td>\n",
       "    </tr>\n",
       "    <tr>\n",
       "      <th>max</th>\n",
       "      <td>2.989849e+00</td>\n",
       "    </tr>\n",
       "  </tbody>\n",
       "</table>\n",
       "</div>"
      ],
      "text/plain": [
       "                  0\n",
       "count  1.000000e+01\n",
       "mean  -4.440892e-17\n",
       "std    1.054093e+00\n",
       "min   -4.664298e-01\n",
       "25%   -3.909286e-01\n",
       "50%   -3.154274e-01\n",
       "75%   -2.399261e-01\n",
       "max    2.989849e+00"
      ]
     },
     "execution_count": 10,
     "metadata": {
      "tags": []
     },
     "output_type": "execute_result"
    }
   ],
   "source": [
    "pd.DataFrame(y).describe()"
   ]
  },
  {
   "cell_type": "markdown",
   "metadata": {
    "id": "MB7F63jPi-dz"
   },
   "source": [
    "### 정규화 (Normalization)\n",
    "최소값과 최대값을 사용해서 0 ~ 1 사이의 데이터로 변환\n",
    "\n",
    "```\n",
    "       x - x.min()\n",
    "    -----------------\n",
    "    x.max() - x.min()\n",
    "```"
   ]
  },
  {
   "cell_type": "code",
   "execution_count": 11,
   "metadata": {
    "colab": {
     "base_uri": "https://localhost:8080/",
     "height": 207
    },
    "id": "SZDiovRukWsY",
    "outputId": "68c5c887-e87a-4326-f983-02705890d4dd"
   },
   "outputs": [
    {
     "data": {
      "text/plain": [
       "array([[0.        ],\n",
       "       [0.00970874],\n",
       "       [0.01941748],\n",
       "       [0.02912621],\n",
       "       [0.03883495],\n",
       "       [0.04854369],\n",
       "       [0.05825243],\n",
       "       [0.06796117],\n",
       "       [0.0776699 ],\n",
       "       [1.        ]])"
      ]
     },
     "execution_count": 11,
     "metadata": {
      "tags": []
     },
     "output_type": "execute_result"
    }
   ],
   "source": [
    "(x - x.min()) / (x.max() - x.min())"
   ]
  },
  {
   "cell_type": "markdown",
   "metadata": {
    "id": "gMD9tDglnXFw"
   },
   "source": [
    "### Feature Scaling 패키지"
   ]
  },
  {
   "cell_type": "markdown",
   "metadata": {
    "id": "8xf0V0pOpe8s"
   },
   "source": [
    "#### 표준화"
   ]
  },
  {
   "cell_type": "code",
   "execution_count": 12,
   "metadata": {
    "id": "f7uk0_4gkWvf"
   },
   "outputs": [],
   "source": [
    "from sklearn.preprocessing import StandardScaler\n",
    "s = StandardScaler()"
   ]
  },
  {
   "cell_type": "code",
   "execution_count": 13,
   "metadata": {
    "colab": {
     "base_uri": "https://localhost:8080/",
     "height": 207
    },
    "id": "eFJ9mYxmkWzg",
    "outputId": "b9801878-3524-44c5-fab8-5e24e1d1a9af"
   },
   "outputs": [
    {
     "data": {
      "text/plain": [
       "array([[-0.46642982],\n",
       "       [-0.43287372],\n",
       "       [-0.39931762],\n",
       "       [-0.36576152],\n",
       "       [-0.33220541],\n",
       "       [-0.29864931],\n",
       "       [-0.26509321],\n",
       "       [-0.23153711],\n",
       "       [-0.197981  ],\n",
       "       [ 2.98984872]])"
      ]
     },
     "execution_count": 13,
     "metadata": {
      "tags": []
     },
     "output_type": "execute_result"
    }
   ],
   "source": [
    "r = s.fit_transform(x)\n",
    "r"
   ]
  },
  {
   "cell_type": "code",
   "execution_count": 14,
   "metadata": {
    "colab": {
     "base_uri": "https://localhost:8080/",
     "height": 36
    },
    "id": "IuDPPeMFkW4w",
    "outputId": "f50f38e7-5110-4827-f796-91eafbd84811"
   },
   "outputs": [
    {
     "data": {
      "text/plain": [
       "0.0"
      ]
     },
     "execution_count": 14,
     "metadata": {
      "tags": []
     },
     "output_type": "execute_result"
    }
   ],
   "source": [
    "np.mean(r)"
   ]
  },
  {
   "cell_type": "code",
   "execution_count": 15,
   "metadata": {
    "colab": {
     "base_uri": "https://localhost:8080/",
     "height": 36
    },
    "id": "LctLvbbYkW7R",
    "outputId": "3254369b-baec-41b3-84b3-b1909c1ef79a"
   },
   "outputs": [
    {
     "data": {
      "text/plain": [
       "1.0"
      ]
     },
     "execution_count": 15,
     "metadata": {
      "tags": []
     },
     "output_type": "execute_result"
    }
   ],
   "source": [
    "np.std(r)"
   ]
  },
  {
   "cell_type": "code",
   "execution_count": 16,
   "metadata": {
    "colab": {
     "base_uri": "https://localhost:8080/",
     "height": 207
    },
    "id": "5Gqihlp7kW9q",
    "outputId": "b40ee7c9-caff-4626-e3c9-1007122b1de1"
   },
   "outputs": [
    {
     "data": {
      "text/plain": [
       "array([[-0.46642982],\n",
       "       [-0.43287372],\n",
       "       [-0.39931762],\n",
       "       [-0.36576152],\n",
       "       [-0.33220541],\n",
       "       [-0.29864931],\n",
       "       [-0.26509321],\n",
       "       [-0.23153711],\n",
       "       [-0.197981  ],\n",
       "       [ 2.98984872]])"
      ]
     },
     "execution_count": 16,
     "metadata": {
      "tags": []
     },
     "output_type": "execute_result"
    }
   ],
   "source": [
    "from sklearn.preprocessing import scale\n",
    "scale(x)"
   ]
  },
  {
   "cell_type": "code",
   "execution_count": 17,
   "metadata": {
    "colab": {
     "base_uri": "https://localhost:8080/",
     "height": 36
    },
    "id": "29f0pAtykW_y",
    "outputId": "731d7b2e-52cc-48af-de1b-2e71a8253d32"
   },
   "outputs": [
    {
     "data": {
      "text/plain": [
       "0.0"
      ]
     },
     "execution_count": 17,
     "metadata": {
      "tags": []
     },
     "output_type": "execute_result"
    }
   ],
   "source": [
    "np.mean(scale(x))"
   ]
  },
  {
   "cell_type": "code",
   "execution_count": 18,
   "metadata": {
    "colab": {
     "base_uri": "https://localhost:8080/",
     "height": 36
    },
    "id": "pJX7GEmAkXD0",
    "outputId": "4c4260d7-06ae-4453-adb1-48d5a30e60fa"
   },
   "outputs": [
    {
     "data": {
      "text/plain": [
       "1.0"
      ]
     },
     "execution_count": 18,
     "metadata": {
      "tags": []
     },
     "output_type": "execute_result"
    }
   ],
   "source": [
    "np.std(scale(x))"
   ]
  },
  {
   "cell_type": "markdown",
   "metadata": {
    "id": "wqQhZQpWpjdL"
   },
   "source": [
    "#### 정규화"
   ]
  },
  {
   "cell_type": "code",
   "execution_count": 19,
   "metadata": {
    "colab": {
     "base_uri": "https://localhost:8080/",
     "height": 207
    },
    "id": "u7sQcW-_kXGA",
    "outputId": "7f138188-71ca-4229-dbde-51ee570820c7"
   },
   "outputs": [
    {
     "data": {
      "text/plain": [
       "array([[0.        ],\n",
       "       [0.00970874],\n",
       "       [0.01941748],\n",
       "       [0.02912621],\n",
       "       [0.03883495],\n",
       "       [0.04854369],\n",
       "       [0.05825243],\n",
       "       [0.06796117],\n",
       "       [0.0776699 ],\n",
       "       [1.        ]])"
      ]
     },
     "execution_count": 19,
     "metadata": {
      "tags": []
     },
     "output_type": "execute_result"
    }
   ],
   "source": [
    "from sklearn.preprocessing import MinMaxScaler\n",
    "m = MinMaxScaler()\n",
    "m.fit_transform(x)"
   ]
  },
  {
   "cell_type": "code",
   "execution_count": 20,
   "metadata": {
    "colab": {
     "base_uri": "https://localhost:8080/",
     "height": 207
    },
    "id": "SG3rpVpYkXJY",
    "outputId": "7417aee6-d504-4905-fdbd-0e0f945dd215"
   },
   "outputs": [
    {
     "data": {
      "text/plain": [
       "array([[0.        ],\n",
       "       [0.00970874],\n",
       "       [0.01941748],\n",
       "       [0.02912621],\n",
       "       [0.03883495],\n",
       "       [0.04854369],\n",
       "       [0.05825243],\n",
       "       [0.06796117],\n",
       "       [0.0776699 ],\n",
       "       [1.        ]])"
      ]
     },
     "execution_count": 20,
     "metadata": {
      "tags": []
     },
     "output_type": "execute_result"
    }
   ],
   "source": [
    "from sklearn.preprocessing import minmax_scale\n",
    "minmax_scale(x)"
   ]
  },
  {
   "cell_type": "markdown",
   "metadata": {
    "id": "4-Uqn7m1r01r"
   },
   "source": [
    "#### bmi 문제 다시 풀기"
   ]
  },
  {
   "cell_type": "code",
   "execution_count": 23,
   "metadata": {
    "colab": {
     "base_uri": "https://localhost:8080/",
     "height": 419
    },
    "id": "ao8jhyfHm-9W",
    "outputId": "701a3a2f-0ffb-412e-d0cc-bb015cd4075c"
   },
   "outputs": [
    {
     "data": {
      "text/html": [
       "<div>\n",
       "<style scoped>\n",
       "    .dataframe tbody tr th:only-of-type {\n",
       "        vertical-align: middle;\n",
       "    }\n",
       "\n",
       "    .dataframe tbody tr th {\n",
       "        vertical-align: top;\n",
       "    }\n",
       "\n",
       "    .dataframe thead th {\n",
       "        text-align: right;\n",
       "    }\n",
       "</style>\n",
       "<table border=\"1\" class=\"dataframe\">\n",
       "  <thead>\n",
       "    <tr style=\"text-align: right;\">\n",
       "      <th></th>\n",
       "      <th>height</th>\n",
       "      <th>weight</th>\n",
       "      <th>label</th>\n",
       "    </tr>\n",
       "  </thead>\n",
       "  <tbody>\n",
       "    <tr>\n",
       "      <th>0</th>\n",
       "      <td>142</td>\n",
       "      <td>62</td>\n",
       "      <td>fat</td>\n",
       "    </tr>\n",
       "    <tr>\n",
       "      <th>1</th>\n",
       "      <td>142</td>\n",
       "      <td>73</td>\n",
       "      <td>fat</td>\n",
       "    </tr>\n",
       "    <tr>\n",
       "      <th>2</th>\n",
       "      <td>177</td>\n",
       "      <td>61</td>\n",
       "      <td>normal</td>\n",
       "    </tr>\n",
       "    <tr>\n",
       "      <th>3</th>\n",
       "      <td>187</td>\n",
       "      <td>48</td>\n",
       "      <td>thin</td>\n",
       "    </tr>\n",
       "    <tr>\n",
       "      <th>4</th>\n",
       "      <td>153</td>\n",
       "      <td>60</td>\n",
       "      <td>fat</td>\n",
       "    </tr>\n",
       "    <tr>\n",
       "      <th>...</th>\n",
       "      <td>...</td>\n",
       "      <td>...</td>\n",
       "      <td>...</td>\n",
       "    </tr>\n",
       "    <tr>\n",
       "      <th>19995</th>\n",
       "      <td>122</td>\n",
       "      <td>58</td>\n",
       "      <td>fat</td>\n",
       "    </tr>\n",
       "    <tr>\n",
       "      <th>19996</th>\n",
       "      <td>193</td>\n",
       "      <td>69</td>\n",
       "      <td>normal</td>\n",
       "    </tr>\n",
       "    <tr>\n",
       "      <th>19997</th>\n",
       "      <td>193</td>\n",
       "      <td>37</td>\n",
       "      <td>thin</td>\n",
       "    </tr>\n",
       "    <tr>\n",
       "      <th>19998</th>\n",
       "      <td>195</td>\n",
       "      <td>51</td>\n",
       "      <td>thin</td>\n",
       "    </tr>\n",
       "    <tr>\n",
       "      <th>19999</th>\n",
       "      <td>163</td>\n",
       "      <td>67</td>\n",
       "      <td>normal</td>\n",
       "    </tr>\n",
       "  </tbody>\n",
       "</table>\n",
       "<p>20000 rows × 3 columns</p>\n",
       "</div>"
      ],
      "text/plain": [
       "       height  weight   label\n",
       "0         142      62     fat\n",
       "1         142      73     fat\n",
       "2         177      61  normal\n",
       "3         187      48    thin\n",
       "4         153      60     fat\n",
       "...       ...     ...     ...\n",
       "19995     122      58     fat\n",
       "19996     193      69  normal\n",
       "19997     193      37    thin\n",
       "19998     195      51    thin\n",
       "19999     163      67  normal\n",
       "\n",
       "[20000 rows x 3 columns]"
      ]
     },
     "execution_count": 23,
     "metadata": {
      "tags": []
     },
     "output_type": "execute_result"
    }
   ],
   "source": [
    "import pandas as pd\n",
    "import numpy as np\n",
    "from sklearn.neighbors import KNeighborsClassifier\n",
    "\n",
    "bmi = pd.read_csv(\"c:/data/bmi.csv\")\n",
    "bmi"
   ]
  },
  {
   "cell_type": "code",
   "execution_count": 24,
   "metadata": {
    "id": "-Y86dsj0nF-v"
   },
   "outputs": [],
   "source": [
    "x_train = np.array(bmi.iloc[:,0:2])\n",
    "label = bmi['label']\n",
    "y = np.array([[178, 71]])"
   ]
  },
  {
   "cell_type": "markdown",
   "metadata": {
    "id": "mc0XgZrXmxAE"
   },
   "source": [
    "##### 표준화"
   ]
  },
  {
   "cell_type": "code",
   "execution_count": 25,
   "metadata": {
    "colab": {
     "base_uri": "https://localhost:8080/",
     "height": 297
    },
    "id": "RBPdMARkqkYZ",
    "outputId": "a841303a-85e9-4490-ad9d-f226b1ec278d"
   },
   "outputs": [
    {
     "data": {
      "text/html": [
       "<div>\n",
       "<style scoped>\n",
       "    .dataframe tbody tr th:only-of-type {\n",
       "        vertical-align: middle;\n",
       "    }\n",
       "\n",
       "    .dataframe tbody tr th {\n",
       "        vertical-align: top;\n",
       "    }\n",
       "\n",
       "    .dataframe thead th {\n",
       "        text-align: right;\n",
       "    }\n",
       "</style>\n",
       "<table border=\"1\" class=\"dataframe\">\n",
       "  <thead>\n",
       "    <tr style=\"text-align: right;\">\n",
       "      <th></th>\n",
       "      <th>0</th>\n",
       "      <th>1</th>\n",
       "    </tr>\n",
       "  </thead>\n",
       "  <tbody>\n",
       "    <tr>\n",
       "      <th>count</th>\n",
       "      <td>20000.000000</td>\n",
       "      <td>20000.000000</td>\n",
       "    </tr>\n",
       "    <tr>\n",
       "      <th>mean</th>\n",
       "      <td>159.927200</td>\n",
       "      <td>57.535000</td>\n",
       "    </tr>\n",
       "    <tr>\n",
       "      <th>std</th>\n",
       "      <td>23.342096</td>\n",
       "      <td>13.285259</td>\n",
       "    </tr>\n",
       "    <tr>\n",
       "      <th>min</th>\n",
       "      <td>120.000000</td>\n",
       "      <td>35.000000</td>\n",
       "    </tr>\n",
       "    <tr>\n",
       "      <th>25%</th>\n",
       "      <td>140.000000</td>\n",
       "      <td>46.000000</td>\n",
       "    </tr>\n",
       "    <tr>\n",
       "      <th>50%</th>\n",
       "      <td>160.000000</td>\n",
       "      <td>58.000000</td>\n",
       "    </tr>\n",
       "    <tr>\n",
       "      <th>75%</th>\n",
       "      <td>180.000000</td>\n",
       "      <td>69.000000</td>\n",
       "    </tr>\n",
       "    <tr>\n",
       "      <th>max</th>\n",
       "      <td>200.000000</td>\n",
       "      <td>80.000000</td>\n",
       "    </tr>\n",
       "  </tbody>\n",
       "</table>\n",
       "</div>"
      ],
      "text/plain": [
       "                  0             1\n",
       "count  20000.000000  20000.000000\n",
       "mean     159.927200     57.535000\n",
       "std       23.342096     13.285259\n",
       "min      120.000000     35.000000\n",
       "25%      140.000000     46.000000\n",
       "50%      160.000000     58.000000\n",
       "75%      180.000000     69.000000\n",
       "max      200.000000     80.000000"
      ]
     },
     "execution_count": 25,
     "metadata": {
      "tags": []
     },
     "output_type": "execute_result"
    }
   ],
   "source": [
    "pd.DataFrame(x_train).describe()"
   ]
  },
  {
   "cell_type": "code",
   "execution_count": 26,
   "metadata": {
    "colab": {
     "base_uri": "https://localhost:8080/",
     "height": 150
    },
    "id": "WbhUnttYsqcw",
    "outputId": "c39f05c8-a529-4bdc-ec2a-550c3ae5d670"
   },
   "outputs": [
    {
     "data": {
      "text/plain": [
       "array([[142,  62],\n",
       "       [142,  73],\n",
       "       [177,  61],\n",
       "       ...,\n",
       "       [193,  37],\n",
       "       [195,  51],\n",
       "       [163,  67]])"
      ]
     },
     "execution_count": 26,
     "metadata": {
      "tags": []
     },
     "output_type": "execute_result"
    }
   ],
   "source": [
    "x_train"
   ]
  },
  {
   "cell_type": "code",
   "execution_count": 27,
   "metadata": {
    "colab": {
     "base_uri": "https://localhost:8080/",
     "height": 150
    },
    "id": "llLPYIfbkXM2",
    "outputId": "02755233-5135-480b-bd45-e47cb1488869"
   },
   "outputs": [
    {
     "data": {
      "text/plain": [
       "array([[-0.76803935,  0.3360952 ],\n",
       "       [-0.76803935,  1.16410127],\n",
       "       [ 0.73143504,  0.26082192],\n",
       "       ...,\n",
       "       [ 1.41690904, -1.5457368 ],\n",
       "       [ 1.5025933 , -0.49191088],\n",
       "       [ 0.13164528,  0.71246159]])"
      ]
     },
     "execution_count": 27,
     "metadata": {
      "tags": []
     },
     "output_type": "execute_result"
    }
   ],
   "source": [
    "x_train_scale = scale(x_train)\n",
    "x_train_scale"
   ]
  },
  {
   "cell_type": "code",
   "execution_count": 28,
   "metadata": {
    "colab": {
     "base_uri": "https://localhost:8080/",
     "height": 297
    },
    "id": "4eEXKkKIsOy8",
    "outputId": "6005fb2e-6316-4f14-92e1-350913d78039"
   },
   "outputs": [
    {
     "data": {
      "text/html": [
       "<div>\n",
       "<style scoped>\n",
       "    .dataframe tbody tr th:only-of-type {\n",
       "        vertical-align: middle;\n",
       "    }\n",
       "\n",
       "    .dataframe tbody tr th {\n",
       "        vertical-align: top;\n",
       "    }\n",
       "\n",
       "    .dataframe thead th {\n",
       "        text-align: right;\n",
       "    }\n",
       "</style>\n",
       "<table border=\"1\" class=\"dataframe\">\n",
       "  <thead>\n",
       "    <tr style=\"text-align: right;\">\n",
       "      <th></th>\n",
       "      <th>0</th>\n",
       "      <th>1</th>\n",
       "    </tr>\n",
       "  </thead>\n",
       "  <tbody>\n",
       "    <tr>\n",
       "      <th>count</th>\n",
       "      <td>2.000000e+04</td>\n",
       "      <td>2.000000e+04</td>\n",
       "    </tr>\n",
       "    <tr>\n",
       "      <th>mean</th>\n",
       "      <td>7.332052e-17</td>\n",
       "      <td>2.467693e-16</td>\n",
       "    </tr>\n",
       "    <tr>\n",
       "      <th>std</th>\n",
       "      <td>1.000025e+00</td>\n",
       "      <td>1.000025e+00</td>\n",
       "    </tr>\n",
       "    <tr>\n",
       "      <th>min</th>\n",
       "      <td>-1.710566e+00</td>\n",
       "      <td>-1.696283e+00</td>\n",
       "    </tr>\n",
       "    <tr>\n",
       "      <th>25%</th>\n",
       "      <td>-8.537236e-01</td>\n",
       "      <td>-8.682773e-01</td>\n",
       "    </tr>\n",
       "    <tr>\n",
       "      <th>50%</th>\n",
       "      <td>3.118907e-03</td>\n",
       "      <td>3.500208e-02</td>\n",
       "    </tr>\n",
       "    <tr>\n",
       "      <th>75%</th>\n",
       "      <td>8.599614e-01</td>\n",
       "      <td>8.630082e-01</td>\n",
       "    </tr>\n",
       "    <tr>\n",
       "      <th>max</th>\n",
       "      <td>1.716804e+00</td>\n",
       "      <td>1.691014e+00</td>\n",
       "    </tr>\n",
       "  </tbody>\n",
       "</table>\n",
       "</div>"
      ],
      "text/plain": [
       "                  0             1\n",
       "count  2.000000e+04  2.000000e+04\n",
       "mean   7.332052e-17  2.467693e-16\n",
       "std    1.000025e+00  1.000025e+00\n",
       "min   -1.710566e+00 -1.696283e+00\n",
       "25%   -8.537236e-01 -8.682773e-01\n",
       "50%    3.118907e-03  3.500208e-02\n",
       "75%    8.599614e-01  8.630082e-01\n",
       "max    1.716804e+00  1.691014e+00"
      ]
     },
     "execution_count": 28,
     "metadata": {
      "tags": []
     },
     "output_type": "execute_result"
    }
   ],
   "source": [
    "pd.DataFrame(x_train_scale).describe()"
   ]
  },
  {
   "cell_type": "code",
   "execution_count": 29,
   "metadata": {
    "colab": {
     "base_uri": "https://localhost:8080/",
     "height": 36
    },
    "id": "F3F8r3qokXP7",
    "outputId": "f3c05d1c-b93b-44c2-ce4f-2c9eccc6d379"
   },
   "outputs": [
    {
     "data": {
      "text/plain": [
       "array([[170,  91]])"
      ]
     },
     "execution_count": 29,
     "metadata": {
      "tags": []
     },
     "output_type": "execute_result"
    }
   ],
   "source": [
    "y = np.array([[170, 91]])\n",
    "y"
   ]
  },
  {
   "cell_type": "code",
   "execution_count": 30,
   "metadata": {
    "colab": {
     "base_uri": "https://localhost:8080/",
     "height": 36
    },
    "id": "rBBadhMXhgZa",
    "outputId": "9d7125cc-d3f8-4ea1-89b4-4c42cac3ba96"
   },
   "outputs": [
    {
     "data": {
      "text/plain": [
       "array([[0.43152937, 2.51895729]])"
      ]
     },
     "execution_count": 30,
     "metadata": {
      "tags": []
     },
     "output_type": "execute_result"
    }
   ],
   "source": [
    "y_scale = np.array([[(y[0][0] - 159.927200) / 23.342096, (y[0][1] - 57.535000) / 13.285259]])\n",
    "y_scale"
   ]
  },
  {
   "cell_type": "code",
   "execution_count": 31,
   "metadata": {
    "colab": {
     "base_uri": "https://localhost:8080/",
     "height": 36
    },
    "id": "neR_V7pPrLIC",
    "outputId": "357b589c-5b4f-4f64-ed6e-090e8598ad4c"
   },
   "outputs": [
    {
     "data": {
      "application/vnd.google.colaboratory.intrinsic+json": {
       "type": "string"
      },
      "text/plain": [
       "'fat'"
      ]
     },
     "execution_count": 31,
     "metadata": {
      "tags": []
     },
     "output_type": "execute_result"
    }
   ],
   "source": [
    "clf = KNeighborsClassifier(n_neighbors=3)\n",
    "clf.fit(x_train_scale, label)\n",
    "clf.predict(y_scale)[0]"
   ]
  },
  {
   "cell_type": "markdown",
   "metadata": {
    "id": "G3fYy-xGr-2i"
   },
   "source": [
    "##### 정규화"
   ]
  },
  {
   "cell_type": "code",
   "execution_count": 32,
   "metadata": {
    "colab": {
     "base_uri": "https://localhost:8080/",
     "height": 297
    },
    "id": "oh6LVXkMtRku",
    "outputId": "c9151139-edb4-4868-c1ff-78171079fdc4"
   },
   "outputs": [
    {
     "data": {
      "text/html": [
       "<div>\n",
       "<style scoped>\n",
       "    .dataframe tbody tr th:only-of-type {\n",
       "        vertical-align: middle;\n",
       "    }\n",
       "\n",
       "    .dataframe tbody tr th {\n",
       "        vertical-align: top;\n",
       "    }\n",
       "\n",
       "    .dataframe thead th {\n",
       "        text-align: right;\n",
       "    }\n",
       "</style>\n",
       "<table border=\"1\" class=\"dataframe\">\n",
       "  <thead>\n",
       "    <tr style=\"text-align: right;\">\n",
       "      <th></th>\n",
       "      <th>0</th>\n",
       "      <th>1</th>\n",
       "    </tr>\n",
       "  </thead>\n",
       "  <tbody>\n",
       "    <tr>\n",
       "      <th>count</th>\n",
       "      <td>20000.000000</td>\n",
       "      <td>20000.000000</td>\n",
       "    </tr>\n",
       "    <tr>\n",
       "      <th>mean</th>\n",
       "      <td>159.927200</td>\n",
       "      <td>57.535000</td>\n",
       "    </tr>\n",
       "    <tr>\n",
       "      <th>std</th>\n",
       "      <td>23.342096</td>\n",
       "      <td>13.285259</td>\n",
       "    </tr>\n",
       "    <tr>\n",
       "      <th>min</th>\n",
       "      <td>120.000000</td>\n",
       "      <td>35.000000</td>\n",
       "    </tr>\n",
       "    <tr>\n",
       "      <th>25%</th>\n",
       "      <td>140.000000</td>\n",
       "      <td>46.000000</td>\n",
       "    </tr>\n",
       "    <tr>\n",
       "      <th>50%</th>\n",
       "      <td>160.000000</td>\n",
       "      <td>58.000000</td>\n",
       "    </tr>\n",
       "    <tr>\n",
       "      <th>75%</th>\n",
       "      <td>180.000000</td>\n",
       "      <td>69.000000</td>\n",
       "    </tr>\n",
       "    <tr>\n",
       "      <th>max</th>\n",
       "      <td>200.000000</td>\n",
       "      <td>80.000000</td>\n",
       "    </tr>\n",
       "  </tbody>\n",
       "</table>\n",
       "</div>"
      ],
      "text/plain": [
       "                  0             1\n",
       "count  20000.000000  20000.000000\n",
       "mean     159.927200     57.535000\n",
       "std       23.342096     13.285259\n",
       "min      120.000000     35.000000\n",
       "25%      140.000000     46.000000\n",
       "50%      160.000000     58.000000\n",
       "75%      180.000000     69.000000\n",
       "max      200.000000     80.000000"
      ]
     },
     "execution_count": 32,
     "metadata": {
      "tags": []
     },
     "output_type": "execute_result"
    }
   ],
   "source": [
    "pd.DataFrame(x_train).describe()"
   ]
  },
  {
   "cell_type": "code",
   "execution_count": 33,
   "metadata": {
    "colab": {
     "base_uri": "https://localhost:8080/",
     "height": 150
    },
    "id": "eWxOOSa3rpWq",
    "outputId": "1b99e608-881b-4dad-d552-1967ae1c55a0"
   },
   "outputs": [
    {
     "data": {
      "text/plain": [
       "array([[0.275     , 0.6       ],\n",
       "       [0.275     , 0.84444444],\n",
       "       [0.7125    , 0.57777778],\n",
       "       ...,\n",
       "       [0.9125    , 0.04444444],\n",
       "       [0.9375    , 0.35555556],\n",
       "       [0.5375    , 0.71111111]])"
      ]
     },
     "execution_count": 33,
     "metadata": {
      "tags": []
     },
     "output_type": "execute_result"
    }
   ],
   "source": [
    "x_train_minmax = minmax_scale(x_train)\n",
    "x_train_minmax"
   ]
  },
  {
   "cell_type": "code",
   "execution_count": 34,
   "metadata": {
    "colab": {
     "base_uri": "https://localhost:8080/",
     "height": 297
    },
    "id": "hKFO3VuXrpZn",
    "outputId": "b7af8e83-fb2d-4df0-fa52-c34cdadfd82b"
   },
   "outputs": [
    {
     "data": {
      "text/html": [
       "<div>\n",
       "<style scoped>\n",
       "    .dataframe tbody tr th:only-of-type {\n",
       "        vertical-align: middle;\n",
       "    }\n",
       "\n",
       "    .dataframe tbody tr th {\n",
       "        vertical-align: top;\n",
       "    }\n",
       "\n",
       "    .dataframe thead th {\n",
       "        text-align: right;\n",
       "    }\n",
       "</style>\n",
       "<table border=\"1\" class=\"dataframe\">\n",
       "  <thead>\n",
       "    <tr style=\"text-align: right;\">\n",
       "      <th></th>\n",
       "      <th>0</th>\n",
       "      <th>1</th>\n",
       "    </tr>\n",
       "  </thead>\n",
       "  <tbody>\n",
       "    <tr>\n",
       "      <th>count</th>\n",
       "      <td>20000.000000</td>\n",
       "      <td>20000.000000</td>\n",
       "    </tr>\n",
       "    <tr>\n",
       "      <th>mean</th>\n",
       "      <td>0.499090</td>\n",
       "      <td>0.500778</td>\n",
       "    </tr>\n",
       "    <tr>\n",
       "      <th>std</th>\n",
       "      <td>0.291776</td>\n",
       "      <td>0.295228</td>\n",
       "    </tr>\n",
       "    <tr>\n",
       "      <th>min</th>\n",
       "      <td>0.000000</td>\n",
       "      <td>0.000000</td>\n",
       "    </tr>\n",
       "    <tr>\n",
       "      <th>25%</th>\n",
       "      <td>0.250000</td>\n",
       "      <td>0.244444</td>\n",
       "    </tr>\n",
       "    <tr>\n",
       "      <th>50%</th>\n",
       "      <td>0.500000</td>\n",
       "      <td>0.511111</td>\n",
       "    </tr>\n",
       "    <tr>\n",
       "      <th>75%</th>\n",
       "      <td>0.750000</td>\n",
       "      <td>0.755556</td>\n",
       "    </tr>\n",
       "    <tr>\n",
       "      <th>max</th>\n",
       "      <td>1.000000</td>\n",
       "      <td>1.000000</td>\n",
       "    </tr>\n",
       "  </tbody>\n",
       "</table>\n",
       "</div>"
      ],
      "text/plain": [
       "                  0             1\n",
       "count  20000.000000  20000.000000\n",
       "mean       0.499090      0.500778\n",
       "std        0.291776      0.295228\n",
       "min        0.000000      0.000000\n",
       "25%        0.250000      0.244444\n",
       "50%        0.500000      0.511111\n",
       "75%        0.750000      0.755556\n",
       "max        1.000000      1.000000"
      ]
     },
     "execution_count": 34,
     "metadata": {
      "tags": []
     },
     "output_type": "execute_result"
    }
   ],
   "source": [
    "pd.DataFrame(x_train_minmax).describe()"
   ]
  },
  {
   "cell_type": "code",
   "execution_count": 35,
   "metadata": {
    "colab": {
     "base_uri": "https://localhost:8080/",
     "height": 36
    },
    "id": "le1QydhirpdO",
    "outputId": "d3a952bc-92aa-4a20-b324-6c61dc715c5c"
   },
   "outputs": [
    {
     "data": {
      "text/plain": [
       "array([[0.625     , 1.24444444]])"
      ]
     },
     "execution_count": 35,
     "metadata": {
      "tags": []
     },
     "output_type": "execute_result"
    }
   ],
   "source": [
    "y_minmax = np.array([[(y[0][0] - 120) / (200 - 120), (y[0][1] - 35) / (80 - 35)]])\n",
    "y_minmax"
   ]
  },
  {
   "cell_type": "code",
   "execution_count": 36,
   "metadata": {
    "colab": {
     "base_uri": "https://localhost:8080/",
     "height": 36
    },
    "id": "6rvDTnIprpfQ",
    "outputId": "fe80d5cd-0942-4e38-9255-421ec293b01c"
   },
   "outputs": [
    {
     "data": {
      "application/vnd.google.colaboratory.intrinsic+json": {
       "type": "string"
      },
      "text/plain": [
       "'fat'"
      ]
     },
     "execution_count": 36,
     "metadata": {
      "tags": []
     },
     "output_type": "execute_result"
    }
   ],
   "source": [
    "clf = KNeighborsClassifier(n_neighbors=3)\n",
    "clf.fit(x_train_minmax, label)\n",
    "clf.predict(y_minmax)[0]"
   ]
  }
 ],
 "metadata": {
  "colab": {
   "collapsed_sections": [
    "YQ6Yzi7qiUSP",
    "MB7F63jPi-dz",
    "gMD9tDglnXFw",
    "8xf0V0pOpe8s",
    "wqQhZQpWpjdL",
    "TEIaE3ffihKy",
    "kLm4EI3GimyI",
    "LLM5BGMbmYJC",
    "KqGPqTtGirVC",
    "uHNy2SMAvxRz",
    "R-gN4gLVcjWm",
    "gTAePISNEEWW",
    "lMaJTy5DEIru",
    "_6Js5maxEMOH",
    "R5B-U6ZuD3IA",
    "1XKwT_wTLkJr",
    "FtFI2mhBMP9t",
    "6Inwj_ygnXSu",
    "lT6f2pzAv-cZ",
    "SB_fJasVw69F"
   ],
   "name": "04_feature_scaling.ipynb",
   "provenance": [],
   "toc_visible": true
  },
  "kernelspec": {
   "display_name": "Python 3 (ipykernel)",
   "language": "python",
   "name": "python3"
  },
  "language_info": {
   "codemirror_mode": {
    "name": "ipython",
    "version": 3
   },
   "file_extension": ".py",
   "mimetype": "text/x-python",
   "name": "python",
   "nbconvert_exporter": "python",
   "pygments_lexer": "ipython3",
   "version": "3.9.6"
  }
 },
 "nbformat": 4,
 "nbformat_minor": 4
}
