{
 "cells": [
  {
   "cell_type": "markdown",
   "metadata": {
    "hide_input": false
   },
   "source": [
    "# R | kNN\n",
    "\n",
    "## 1.9 토마토 kNN\n",
    "\n",
    "### [문제12]\n",
    "R을 이용해서 food.csv 읽어들인 후 토마토 단맛 6, 아삭한 맛 4를 이용해서 거리계산한 값을 dist 컬럼을 추가하고 dist 컬럼의 값을 기준으로 오름차순 순위 컬럼 rank를 생성하세요."
   ]
  },
  {
   "cell_type": "code",
   "execution_count": 3,
   "metadata": {},
   "outputs": [
    {
     "data": {
      "text/html": [
       "<table>\n",
       "<thead><tr><th scope=col>ingredient</th><th scope=col>sweetness</th><th scope=col>crunchiness</th><th scope=col>class</th><th scope=col>dist</th></tr></thead>\n",
       "<tbody>\n",
       "\t<tr><td>apple     </td><td>10        </td><td> 9        </td><td>Fruits    </td><td>6.403124  </td></tr>\n",
       "\t<tr><td>bacon     </td><td> 1        </td><td> 4        </td><td>Proteins  </td><td>5.000000  </td></tr>\n",
       "\t<tr><td>banana    </td><td>10        </td><td> 1        </td><td>Fruits    </td><td>5.000000  </td></tr>\n",
       "\t<tr><td>carrot    </td><td> 7        </td><td>10        </td><td>Vegetables</td><td>6.082763  </td></tr>\n",
       "\t<tr><td>celery    </td><td> 3        </td><td>10        </td><td>Vegetables</td><td>6.708204  </td></tr>\n",
       "\t<tr><td>cheese    </td><td> 1        </td><td> 1        </td><td>Proteins  </td><td>5.830952  </td></tr>\n",
       "\t<tr><td>cucumber  </td><td> 2        </td><td> 8        </td><td>Vegetables</td><td>5.656854  </td></tr>\n",
       "\t<tr><td>fish      </td><td> 3        </td><td> 1        </td><td>Proteins  </td><td>4.242641  </td></tr>\n",
       "\t<tr><td>grape     </td><td> 8        </td><td> 5        </td><td>Fruits    </td><td>2.236068  </td></tr>\n",
       "\t<tr><td>green bean</td><td> 3        </td><td> 7        </td><td>Vegetables</td><td>4.242641  </td></tr>\n",
       "\t<tr><td>lettuce   </td><td> 1        </td><td> 9        </td><td>Vegetables</td><td>7.071068  </td></tr>\n",
       "\t<tr><td>nuts      </td><td> 3        </td><td> 6        </td><td>Proteins  </td><td>3.605551  </td></tr>\n",
       "\t<tr><td>orange    </td><td> 7        </td><td> 3        </td><td>Fruits    </td><td>1.414214  </td></tr>\n",
       "\t<tr><td>pear      </td><td>10        </td><td> 7        </td><td>Fruits    </td><td>5.000000  </td></tr>\n",
       "\t<tr><td>shrimp    </td><td> 2        </td><td> 3        </td><td>Proteins  </td><td>4.123106  </td></tr>\n",
       "</tbody>\n",
       "</table>\n"
      ],
      "text/latex": [
       "\\begin{tabular}{r|lllll}\n",
       " ingredient & sweetness & crunchiness & class & dist\\\\\n",
       "\\hline\n",
       "\t apple      & 10         &  9         & Fruits     & 6.403124  \\\\\n",
       "\t bacon      &  1         &  4         & Proteins   & 5.000000  \\\\\n",
       "\t banana     & 10         &  1         & Fruits     & 5.000000  \\\\\n",
       "\t carrot     &  7         & 10         & Vegetables & 6.082763  \\\\\n",
       "\t celery     &  3         & 10         & Vegetables & 6.708204  \\\\\n",
       "\t cheese     &  1         &  1         & Proteins   & 5.830952  \\\\\n",
       "\t cucumber   &  2         &  8         & Vegetables & 5.656854  \\\\\n",
       "\t fish       &  3         &  1         & Proteins   & 4.242641  \\\\\n",
       "\t grape      &  8         &  5         & Fruits     & 2.236068  \\\\\n",
       "\t green bean &  3         &  7         & Vegetables & 4.242641  \\\\\n",
       "\t lettuce    &  1         &  9         & Vegetables & 7.071068  \\\\\n",
       "\t nuts       &  3         &  6         & Proteins   & 3.605551  \\\\\n",
       "\t orange     &  7         &  3         & Fruits     & 1.414214  \\\\\n",
       "\t pear       & 10         &  7         & Fruits     & 5.000000  \\\\\n",
       "\t shrimp     &  2         &  3         & Proteins   & 4.123106  \\\\\n",
       "\\end{tabular}\n"
      ],
      "text/markdown": [
       "\n",
       "| ingredient | sweetness | crunchiness | class | dist |\n",
       "|---|---|---|---|---|\n",
       "| apple      | 10         |  9         | Fruits     | 6.403124   |\n",
       "| bacon      |  1         |  4         | Proteins   | 5.000000   |\n",
       "| banana     | 10         |  1         | Fruits     | 5.000000   |\n",
       "| carrot     |  7         | 10         | Vegetables | 6.082763   |\n",
       "| celery     |  3         | 10         | Vegetables | 6.708204   |\n",
       "| cheese     |  1         |  1         | Proteins   | 5.830952   |\n",
       "| cucumber   |  2         |  8         | Vegetables | 5.656854   |\n",
       "| fish       |  3         |  1         | Proteins   | 4.242641   |\n",
       "| grape      |  8         |  5         | Fruits     | 2.236068   |\n",
       "| green bean |  3         |  7         | Vegetables | 4.242641   |\n",
       "| lettuce    |  1         |  9         | Vegetables | 7.071068   |\n",
       "| nuts       |  3         |  6         | Proteins   | 3.605551   |\n",
       "| orange     |  7         |  3         | Fruits     | 1.414214   |\n",
       "| pear       | 10         |  7         | Fruits     | 5.000000   |\n",
       "| shrimp     |  2         |  3         | Proteins   | 4.123106   |\n",
       "\n"
      ],
      "text/plain": [
       "   ingredient sweetness crunchiness class      dist    \n",
       "1  apple      10         9          Fruits     6.403124\n",
       "2  bacon       1         4          Proteins   5.000000\n",
       "3  banana     10         1          Fruits     5.000000\n",
       "4  carrot      7        10          Vegetables 6.082763\n",
       "5  celery      3        10          Vegetables 6.708204\n",
       "6  cheese      1         1          Proteins   5.830952\n",
       "7  cucumber    2         8          Vegetables 5.656854\n",
       "8  fish        3         1          Proteins   4.242641\n",
       "9  grape       8         5          Fruits     2.236068\n",
       "10 green bean  3         7          Vegetables 4.242641\n",
       "11 lettuce     1         9          Vegetables 7.071068\n",
       "12 nuts        3         6          Proteins   3.605551\n",
       "13 orange      7         3          Fruits     1.414214\n",
       "14 pear       10         7          Fruits     5.000000\n",
       "15 shrimp      2         3          Proteins   4.123106"
      ]
     },
     "metadata": {},
     "output_type": "display_data"
    }
   ],
   "source": [
    "food <- read.csv(\"c:/data/food.csv\", stringsAsFactors = FALSE, header = TRUE)\n",
    "food$dist <- sqrt((food$sweetness - 6) ^ 2 + (food$crunchiness - 4) ^ 2)\n",
    "food"
   ]
  },
  {
   "cell_type": "code",
   "execution_count": 4,
   "metadata": {},
   "outputs": [
    {
     "data": {
      "text/html": [
       "<table>\n",
       "<thead><tr><th></th><th scope=col>ingredient</th><th scope=col>sweetness</th><th scope=col>crunchiness</th><th scope=col>class</th><th scope=col>dist</th></tr></thead>\n",
       "<tbody>\n",
       "\t<tr><th scope=row>13</th><td>orange    </td><td> 7        </td><td> 3        </td><td>Fruits    </td><td>1.414214  </td></tr>\n",
       "\t<tr><th scope=row>9</th><td>grape     </td><td> 8        </td><td> 5        </td><td>Fruits    </td><td>2.236068  </td></tr>\n",
       "\t<tr><th scope=row>12</th><td>nuts      </td><td> 3        </td><td> 6        </td><td>Proteins  </td><td>3.605551  </td></tr>\n",
       "\t<tr><th scope=row>15</th><td>shrimp    </td><td> 2        </td><td> 3        </td><td>Proteins  </td><td>4.123106  </td></tr>\n",
       "\t<tr><th scope=row>8</th><td>fish      </td><td> 3        </td><td> 1        </td><td>Proteins  </td><td>4.242641  </td></tr>\n",
       "\t<tr><th scope=row>10</th><td>green bean</td><td> 3        </td><td> 7        </td><td>Vegetables</td><td>4.242641  </td></tr>\n",
       "\t<tr><th scope=row>2</th><td>bacon     </td><td> 1        </td><td> 4        </td><td>Proteins  </td><td>5.000000  </td></tr>\n",
       "\t<tr><th scope=row>3</th><td>banana    </td><td>10        </td><td> 1        </td><td>Fruits    </td><td>5.000000  </td></tr>\n",
       "\t<tr><th scope=row>14</th><td>pear      </td><td>10        </td><td> 7        </td><td>Fruits    </td><td>5.000000  </td></tr>\n",
       "\t<tr><th scope=row>7</th><td>cucumber  </td><td> 2        </td><td> 8        </td><td>Vegetables</td><td>5.656854  </td></tr>\n",
       "\t<tr><th scope=row>6</th><td>cheese    </td><td> 1        </td><td> 1        </td><td>Proteins  </td><td>5.830952  </td></tr>\n",
       "\t<tr><th scope=row>4</th><td>carrot    </td><td> 7        </td><td>10        </td><td>Vegetables</td><td>6.082763  </td></tr>\n",
       "\t<tr><th scope=row>1</th><td>apple     </td><td>10        </td><td> 9        </td><td>Fruits    </td><td>6.403124  </td></tr>\n",
       "\t<tr><th scope=row>5</th><td>celery    </td><td> 3        </td><td>10        </td><td>Vegetables</td><td>6.708204  </td></tr>\n",
       "\t<tr><th scope=row>11</th><td>lettuce   </td><td> 1        </td><td> 9        </td><td>Vegetables</td><td>7.071068  </td></tr>\n",
       "</tbody>\n",
       "</table>\n"
      ],
      "text/latex": [
       "\\begin{tabular}{r|lllll}\n",
       "  & ingredient & sweetness & crunchiness & class & dist\\\\\n",
       "\\hline\n",
       "\t13 & orange     &  7         &  3         & Fruits     & 1.414214  \\\\\n",
       "\t9 & grape      &  8         &  5         & Fruits     & 2.236068  \\\\\n",
       "\t12 & nuts       &  3         &  6         & Proteins   & 3.605551  \\\\\n",
       "\t15 & shrimp     &  2         &  3         & Proteins   & 4.123106  \\\\\n",
       "\t8 & fish       &  3         &  1         & Proteins   & 4.242641  \\\\\n",
       "\t10 & green bean &  3         &  7         & Vegetables & 4.242641  \\\\\n",
       "\t2 & bacon      &  1         &  4         & Proteins   & 5.000000  \\\\\n",
       "\t3 & banana     & 10         &  1         & Fruits     & 5.000000  \\\\\n",
       "\t14 & pear       & 10         &  7         & Fruits     & 5.000000  \\\\\n",
       "\t7 & cucumber   &  2         &  8         & Vegetables & 5.656854  \\\\\n",
       "\t6 & cheese     &  1         &  1         & Proteins   & 5.830952  \\\\\n",
       "\t4 & carrot     &  7         & 10         & Vegetables & 6.082763  \\\\\n",
       "\t1 & apple      & 10         &  9         & Fruits     & 6.403124  \\\\\n",
       "\t5 & celery     &  3         & 10         & Vegetables & 6.708204  \\\\\n",
       "\t11 & lettuce    &  1         &  9         & Vegetables & 7.071068  \\\\\n",
       "\\end{tabular}\n"
      ],
      "text/markdown": [
       "\n",
       "| <!--/--> | ingredient | sweetness | crunchiness | class | dist |\n",
       "|---|---|---|---|---|---|\n",
       "| 13 | orange     |  7         |  3         | Fruits     | 1.414214   |\n",
       "| 9 | grape      |  8         |  5         | Fruits     | 2.236068   |\n",
       "| 12 | nuts       |  3         |  6         | Proteins   | 3.605551   |\n",
       "| 15 | shrimp     |  2         |  3         | Proteins   | 4.123106   |\n",
       "| 8 | fish       |  3         |  1         | Proteins   | 4.242641   |\n",
       "| 10 | green bean |  3         |  7         | Vegetables | 4.242641   |\n",
       "| 2 | bacon      |  1         |  4         | Proteins   | 5.000000   |\n",
       "| 3 | banana     | 10         |  1         | Fruits     | 5.000000   |\n",
       "| 14 | pear       | 10         |  7         | Fruits     | 5.000000   |\n",
       "| 7 | cucumber   |  2         |  8         | Vegetables | 5.656854   |\n",
       "| 6 | cheese     |  1         |  1         | Proteins   | 5.830952   |\n",
       "| 4 | carrot     |  7         | 10         | Vegetables | 6.082763   |\n",
       "| 1 | apple      | 10         |  9         | Fruits     | 6.403124   |\n",
       "| 5 | celery     |  3         | 10         | Vegetables | 6.708204   |\n",
       "| 11 | lettuce    |  1         |  9         | Vegetables | 7.071068   |\n",
       "\n"
      ],
      "text/plain": [
       "   ingredient sweetness crunchiness class      dist    \n",
       "13 orange      7         3          Fruits     1.414214\n",
       "9  grape       8         5          Fruits     2.236068\n",
       "12 nuts        3         6          Proteins   3.605551\n",
       "15 shrimp      2         3          Proteins   4.123106\n",
       "8  fish        3         1          Proteins   4.242641\n",
       "10 green bean  3         7          Vegetables 4.242641\n",
       "2  bacon       1         4          Proteins   5.000000\n",
       "3  banana     10         1          Fruits     5.000000\n",
       "14 pear       10         7          Fruits     5.000000\n",
       "7  cucumber    2         8          Vegetables 5.656854\n",
       "6  cheese      1         1          Proteins   5.830952\n",
       "4  carrot      7        10          Vegetables 6.082763\n",
       "1  apple      10         9          Fruits     6.403124\n",
       "5  celery      3        10          Vegetables 6.708204\n",
       "11 lettuce     1         9          Vegetables 7.071068"
      ]
     },
     "metadata": {},
     "output_type": "display_data"
    }
   ],
   "source": [
    "food[order(food$dist),]"
   ]
  },
  {
   "cell_type": "code",
   "execution_count": 5,
   "metadata": {},
   "outputs": [
    {
     "data": {
      "text/html": [
       "<table>\n",
       "<thead><tr><th scope=col>ingredient</th><th scope=col>sweetness</th><th scope=col>crunchiness</th><th scope=col>class</th><th scope=col>dist</th><th scope=col>rank</th></tr></thead>\n",
       "<tbody>\n",
       "\t<tr><td>apple     </td><td>10        </td><td> 9        </td><td>Fruits    </td><td>6.403124  </td><td>13        </td></tr>\n",
       "\t<tr><td>bacon     </td><td> 1        </td><td> 4        </td><td>Proteins  </td><td>5.000000  </td><td> 7        </td></tr>\n",
       "\t<tr><td>banana    </td><td>10        </td><td> 1        </td><td>Fruits    </td><td>5.000000  </td><td> 7        </td></tr>\n",
       "\t<tr><td>carrot    </td><td> 7        </td><td>10        </td><td>Vegetables</td><td>6.082763  </td><td>12        </td></tr>\n",
       "\t<tr><td>celery    </td><td> 3        </td><td>10        </td><td>Vegetables</td><td>6.708204  </td><td>14        </td></tr>\n",
       "\t<tr><td>cheese    </td><td> 1        </td><td> 1        </td><td>Proteins  </td><td>5.830952  </td><td>11        </td></tr>\n",
       "\t<tr><td>cucumber  </td><td> 2        </td><td> 8        </td><td>Vegetables</td><td>5.656854  </td><td>10        </td></tr>\n",
       "\t<tr><td>fish      </td><td> 3        </td><td> 1        </td><td>Proteins  </td><td>4.242641  </td><td> 5        </td></tr>\n",
       "\t<tr><td>grape     </td><td> 8        </td><td> 5        </td><td>Fruits    </td><td>2.236068  </td><td> 2        </td></tr>\n",
       "\t<tr><td>green bean</td><td> 3        </td><td> 7        </td><td>Vegetables</td><td>4.242641  </td><td> 5        </td></tr>\n",
       "\t<tr><td>lettuce   </td><td> 1        </td><td> 9        </td><td>Vegetables</td><td>7.071068  </td><td>15        </td></tr>\n",
       "\t<tr><td>nuts      </td><td> 3        </td><td> 6        </td><td>Proteins  </td><td>3.605551  </td><td> 3        </td></tr>\n",
       "\t<tr><td>orange    </td><td> 7        </td><td> 3        </td><td>Fruits    </td><td>1.414214  </td><td> 1        </td></tr>\n",
       "\t<tr><td>pear      </td><td>10        </td><td> 7        </td><td>Fruits    </td><td>5.000000  </td><td> 7        </td></tr>\n",
       "\t<tr><td>shrimp    </td><td> 2        </td><td> 3        </td><td>Proteins  </td><td>4.123106  </td><td> 4        </td></tr>\n",
       "</tbody>\n",
       "</table>\n"
      ],
      "text/latex": [
       "\\begin{tabular}{r|llllll}\n",
       " ingredient & sweetness & crunchiness & class & dist & rank\\\\\n",
       "\\hline\n",
       "\t apple      & 10         &  9         & Fruits     & 6.403124   & 13        \\\\\n",
       "\t bacon      &  1         &  4         & Proteins   & 5.000000   &  7        \\\\\n",
       "\t banana     & 10         &  1         & Fruits     & 5.000000   &  7        \\\\\n",
       "\t carrot     &  7         & 10         & Vegetables & 6.082763   & 12        \\\\\n",
       "\t celery     &  3         & 10         & Vegetables & 6.708204   & 14        \\\\\n",
       "\t cheese     &  1         &  1         & Proteins   & 5.830952   & 11        \\\\\n",
       "\t cucumber   &  2         &  8         & Vegetables & 5.656854   & 10        \\\\\n",
       "\t fish       &  3         &  1         & Proteins   & 4.242641   &  5        \\\\\n",
       "\t grape      &  8         &  5         & Fruits     & 2.236068   &  2        \\\\\n",
       "\t green bean &  3         &  7         & Vegetables & 4.242641   &  5        \\\\\n",
       "\t lettuce    &  1         &  9         & Vegetables & 7.071068   & 15        \\\\\n",
       "\t nuts       &  3         &  6         & Proteins   & 3.605551   &  3        \\\\\n",
       "\t orange     &  7         &  3         & Fruits     & 1.414214   &  1        \\\\\n",
       "\t pear       & 10         &  7         & Fruits     & 5.000000   &  7        \\\\\n",
       "\t shrimp     &  2         &  3         & Proteins   & 4.123106   &  4        \\\\\n",
       "\\end{tabular}\n"
      ],
      "text/markdown": [
       "\n",
       "| ingredient | sweetness | crunchiness | class | dist | rank |\n",
       "|---|---|---|---|---|---|\n",
       "| apple      | 10         |  9         | Fruits     | 6.403124   | 13         |\n",
       "| bacon      |  1         |  4         | Proteins   | 5.000000   |  7         |\n",
       "| banana     | 10         |  1         | Fruits     | 5.000000   |  7         |\n",
       "| carrot     |  7         | 10         | Vegetables | 6.082763   | 12         |\n",
       "| celery     |  3         | 10         | Vegetables | 6.708204   | 14         |\n",
       "| cheese     |  1         |  1         | Proteins   | 5.830952   | 11         |\n",
       "| cucumber   |  2         |  8         | Vegetables | 5.656854   | 10         |\n",
       "| fish       |  3         |  1         | Proteins   | 4.242641   |  5         |\n",
       "| grape      |  8         |  5         | Fruits     | 2.236068   |  2         |\n",
       "| green bean |  3         |  7         | Vegetables | 4.242641   |  5         |\n",
       "| lettuce    |  1         |  9         | Vegetables | 7.071068   | 15         |\n",
       "| nuts       |  3         |  6         | Proteins   | 3.605551   |  3         |\n",
       "| orange     |  7         |  3         | Fruits     | 1.414214   |  1         |\n",
       "| pear       | 10         |  7         | Fruits     | 5.000000   |  7         |\n",
       "| shrimp     |  2         |  3         | Proteins   | 4.123106   |  4         |\n",
       "\n"
      ],
      "text/plain": [
       "   ingredient sweetness crunchiness class      dist     rank\n",
       "1  apple      10         9          Fruits     6.403124 13  \n",
       "2  bacon       1         4          Proteins   5.000000  7  \n",
       "3  banana     10         1          Fruits     5.000000  7  \n",
       "4  carrot      7        10          Vegetables 6.082763 12  \n",
       "5  celery      3        10          Vegetables 6.708204 14  \n",
       "6  cheese      1         1          Proteins   5.830952 11  \n",
       "7  cucumber    2         8          Vegetables 5.656854 10  \n",
       "8  fish        3         1          Proteins   4.242641  5  \n",
       "9  grape       8         5          Fruits     2.236068  2  \n",
       "10 green bean  3         7          Vegetables 4.242641  5  \n",
       "11 lettuce     1         9          Vegetables 7.071068 15  \n",
       "12 nuts        3         6          Proteins   3.605551  3  \n",
       "13 orange      7         3          Fruits     1.414214  1  \n",
       "14 pear       10         7          Fruits     5.000000  7  \n",
       "15 shrimp      2         3          Proteins   4.123106  4  "
      ]
     },
     "metadata": {},
     "output_type": "display_data"
    }
   ],
   "source": [
    "food$rank <- rank(food$dist, ties.method = 'min')\n",
    "food"
   ]
  },
  {
   "cell_type": "code",
   "execution_count": 6,
   "metadata": {},
   "outputs": [
    {
     "data": {
      "text/html": [
       "<ol class=list-inline>\n",
       "\t<li>'Fruits'</li>\n",
       "\t<li>'Proteins'</li>\n",
       "\t<li>'Fruits'</li>\n",
       "</ol>\n"
      ],
      "text/latex": [
       "\\begin{enumerate*}\n",
       "\\item 'Fruits'\n",
       "\\item 'Proteins'\n",
       "\\item 'Fruits'\n",
       "\\end{enumerate*}\n"
      ],
      "text/markdown": [
       "1. 'Fruits'\n",
       "2. 'Proteins'\n",
       "3. 'Fruits'\n",
       "\n",
       "\n"
      ],
      "text/plain": [
       "[1] \"Fruits\"   \"Proteins\" \"Fruits\"  "
      ]
     },
     "metadata": {},
     "output_type": "display_data"
    }
   ],
   "source": [
    "food[food$rank <= 3, 'class']"
   ]
  },
  {
   "cell_type": "code",
   "execution_count": 7,
   "metadata": {},
   "outputs": [
    {
     "data": {
      "text/plain": [
       "\n",
       "  Fruits Proteins \n",
       "       2        1 "
      ]
     },
     "metadata": {},
     "output_type": "display_data"
    }
   ],
   "source": [
    "table(food[food$rank <= 3, 'class'])"
   ]
  },
  {
   "cell_type": "code",
   "execution_count": 8,
   "metadata": {},
   "outputs": [
    {
     "data": {
      "text/html": [
       "'Fruits'"
      ],
      "text/latex": [
       "'Fruits'"
      ],
      "text/markdown": [
       "'Fruits'"
      ],
      "text/plain": [
       "[1] \"Fruits\""
      ]
     },
     "metadata": {},
     "output_type": "display_data"
    }
   ],
   "source": [
    "names(head(sort(table(food[food$rank <= 3, 'class']),decreasing=TRUE),1))"
   ]
  },
  {
   "cell_type": "code",
   "execution_count": 14,
   "metadata": {},
   "outputs": [
    {
     "data": {
      "text/html": [
       "Fruits\n",
       "<details>\n",
       "\t<summary style=display:list-item;cursor:pointer>\n",
       "\t\t<strong>Levels</strong>:\n",
       "\t</summary>\n",
       "\t<ol class=list-inline>\n",
       "\t\t<li>'Fruits'</li>\n",
       "\t\t<li>'Proteins'</li>\n",
       "\t\t<li>'Vegetables'</li>\n",
       "\t</ol>\n",
       "</details>"
      ],
      "text/latex": [
       "Fruits\n",
       "\\emph{Levels}: \\begin{enumerate*}\n",
       "\\item 'Fruits'\n",
       "\\item 'Proteins'\n",
       "\\item 'Vegetables'\n",
       "\\end{enumerate*}\n"
      ],
      "text/markdown": [
       "Fruits\n",
       "**Levels**: 1. 'Fruits'\n",
       "2. 'Proteins'\n",
       "3. 'Vegetables'\n",
       "\n",
       "\n"
      ],
      "text/plain": [
       "[1] Fruits\n",
       "Levels: Fruits Proteins Vegetables"
      ]
     },
     "metadata": {},
     "output_type": "display_data"
    }
   ],
   "source": [
    "tomato <- data.frame(ingredient=\"tomato\", sweetness = 6, crunchiness = 4)\n",
    "\n",
    "# install.packages('class')\n",
    "library(class)\n",
    "\n",
    "train <- food[,2:3]\n",
    "train_label <- food[,4]\n",
    "test <- tomato[,2:3]\n",
    "\n",
    "knn(train, test, train_label, k=3)"
   ]
  },
  {
   "cell_type": "code",
   "execution_count": 15,
   "metadata": {},
   "outputs": [
    {
     "data": {
      "image/png": "[encoded data removed]",
      "text/plain": [
       "plot without title"
      ]
     },
     "metadata": {},
     "output_type": "display_data"
    }
   ],
   "source": [
    "# install.packages('ggplot2')\n",
    "library(ggplot2)\n",
    "\n",
    "ggplot(data=food, aes(x=sweetness, y = crunchiness))+\n",
    "  labs(title=\"토마토는 어느 클래스에 속하나요? \")+\n",
    "  geom_point(aes(color=class, shape=class), size=6)+\n",
    "  geom_text(aes(label=ingredient),vjust=-1, size = 3)+\n",
    "  geom_point(data=tomato, colour='black', size = 5)+\n",
    "  geom_text(data=tomato, aes(label=ingredient),vjust=-1, size = 3)"
   ]
  },
  {
   "cell_type": "markdown",
   "metadata": {},
   "source": [
    "## 1.10 붓꽃 kNN"
   ]
  },
  {
   "cell_type": "markdown",
   "metadata": {},
   "source": [
    "### [문제13]\n",
    "붓꽃 데이터 입니다. kNN으로 분류해주세요.  \n",
    "`SepalLength = 2.0`  \n",
    "`SepalWidth = 7.0`  \n",
    "`PetalLength = 1.0`  \n",
    "`PetalWidth = 0.1`"
   ]
  },
  {
   "cell_type": "code",
   "execution_count": 3,
   "metadata": {},
   "outputs": [
    {
     "data": {
      "text/html": [
       "Iris-setosa\n",
       "<details>\n",
       "\t<summary style=display:list-item;cursor:pointer>\n",
       "\t\t<strong>Levels</strong>:\n",
       "\t</summary>\n",
       "\t<ol class=list-inline>\n",
       "\t\t<li>'Iris-setosa'</li>\n",
       "\t\t<li>'Iris-versicolor'</li>\n",
       "\t\t<li>'Iris-virginica'</li>\n",
       "\t</ol>\n",
       "</details>"
      ],
      "text/latex": [
       "Iris-setosa\n",
       "\\emph{Levels}: \\begin{enumerate*}\n",
       "\\item 'Iris-setosa'\n",
       "\\item 'Iris-versicolor'\n",
       "\\item 'Iris-virginica'\n",
       "\\end{enumerate*}\n"
      ],
      "text/markdown": [
       "Iris-setosa\n",
       "**Levels**: 1. 'Iris-setosa'\n",
       "2. 'Iris-versicolor'\n",
       "3. 'Iris-virginica'\n",
       "\n",
       "\n"
      ],
      "text/plain": [
       "[1] Iris-setosa\n",
       "Levels: Iris-setosa Iris-versicolor Iris-virginica"
      ]
     },
     "metadata": {},
     "output_type": "display_data"
    }
   ],
   "source": [
    "iris <- read.csv(\"c:/data/iris.csv\", stringsAsFactors = FALSE, header = TRUE)\n",
    "iris_train <- iris[,1:4]\n",
    "iris_train_label <- iris[,5]\n",
    "iris_test <- data.frame(SepalLength = 2.0,\n",
    "                        SepalWidth = 7.0,\n",
    "                        PetalLength = 1.0,\n",
    "                        PetalWidth = 0.1)\n",
    "knn(iris_train, iris_test, iris_train_label, k=3)"
   ]
  },
  {
   "cell_type": "markdown",
   "metadata": {},
   "source": [
    "### 6.2.1 feature scaling\n",
    "- 서로 다른 변수의 값 범위를 일정한 수준으로 맞추는 작업\n",
    "- 표준화(standardization), 정규화(normalization)"
   ]
  },
  {
   "cell_type": "code",
   "execution_count": 4,
   "metadata": {},
   "outputs": [],
   "source": [
    "normalize <- function(x){\n",
    "  return ((x - min(x)) / (max(x) - min(x)))\n",
    "}\n",
    " \n",
    "standard <- function(x){\n",
    "  return ((x-mean(x)))/(sd(x))\n",
    "}"
   ]
  },
  {
   "cell_type": "code",
   "execution_count": 5,
   "metadata": {},
   "outputs": [],
   "source": [
    "iris[,1:4] <- lapply(iris[,1:4],normalize)"
   ]
  },
  {
   "cell_type": "markdown",
   "metadata": {},
   "source": [
    "### 6.2.2 학습 및 테스트 데이터 만들기"
   ]
  },
  {
   "cell_type": "code",
   "execution_count": 6,
   "metadata": {},
   "outputs": [
    {
     "data": {
      "text/plain": [
       "id\n",
       "  1   2 \n",
       "104  46 "
      ]
     },
     "metadata": {},
     "output_type": "display_data"
    }
   ],
   "source": [
    "id <- sample(1:2, nrow(iris), replace=TRUE, prob=c(0.7,0.3))\n",
    "table(id)"
   ]
  },
  {
   "cell_type": "code",
   "execution_count": 7,
   "metadata": {},
   "outputs": [
    {
     "data": {
      "text/plain": [
       "iris_train_label\n",
       "    Iris-setosa Iris-versicolor  Iris-virginica \n",
       "             31              38              35 "
      ]
     },
     "metadata": {},
     "output_type": "display_data"
    }
   ],
   "source": [
    "iris_train <- iris[id == 1,1:4]\n",
    "iris_train_label <- iris[id == 1,5]\n",
    "iris_test <- iris[id == 2,1:4]\n",
    "iris_test_label <- iris[id==2,5]\n",
    "table(iris_train_label)"
   ]
  },
  {
   "cell_type": "code",
   "execution_count": 8,
   "metadata": {},
   "outputs": [
    {
     "data": {
      "text/plain": [
       "iris_test_label\n",
       "    Iris-setosa Iris-versicolor  Iris-virginica \n",
       "             19              12              15 "
      ]
     },
     "metadata": {},
     "output_type": "display_data"
    }
   ],
   "source": [
    "table(iris_test_label)"
   ]
  },
  {
   "cell_type": "code",
   "execution_count": 9,
   "metadata": {
    "tags": [
     "output_scroll"
    ]
   },
   "outputs": [
    {
     "data": {
      "text/html": [
       "<ol class=list-inline>\n",
       "\t<li>Iris-setosa</li>\n",
       "\t<li>Iris-setosa</li>\n",
       "\t<li>Iris-setosa</li>\n",
       "\t<li>Iris-setosa</li>\n",
       "\t<li>Iris-setosa</li>\n",
       "\t<li>Iris-setosa</li>\n",
       "\t<li>Iris-setosa</li>\n",
       "\t<li>Iris-setosa</li>\n",
       "\t<li>Iris-setosa</li>\n",
       "\t<li>Iris-setosa</li>\n",
       "\t<li>Iris-setosa</li>\n",
       "\t<li>Iris-setosa</li>\n",
       "\t<li>Iris-setosa</li>\n",
       "\t<li>Iris-setosa</li>\n",
       "\t<li>Iris-setosa</li>\n",
       "\t<li>Iris-setosa</li>\n",
       "\t<li>Iris-setosa</li>\n",
       "\t<li>Iris-setosa</li>\n",
       "\t<li>Iris-setosa</li>\n",
       "\t<li>Iris-versicolor</li>\n",
       "\t<li>Iris-versicolor</li>\n",
       "\t<li>Iris-versicolor</li>\n",
       "\t<li>Iris-versicolor</li>\n",
       "\t<li>Iris-versicolor</li>\n",
       "\t<li>Iris-virginica</li>\n",
       "\t<li>Iris-versicolor</li>\n",
       "\t<li>Iris-virginica</li>\n",
       "\t<li>Iris-versicolor</li>\n",
       "\t<li>Iris-versicolor</li>\n",
       "\t<li>Iris-versicolor</li>\n",
       "\t<li>Iris-versicolor</li>\n",
       "\t<li>Iris-virginica</li>\n",
       "\t<li>Iris-virginica</li>\n",
       "\t<li>Iris-virginica</li>\n",
       "\t<li>Iris-virginica</li>\n",
       "\t<li>Iris-virginica</li>\n",
       "\t<li>Iris-virginica</li>\n",
       "\t<li>Iris-virginica</li>\n",
       "\t<li>Iris-virginica</li>\n",
       "\t<li>Iris-virginica</li>\n",
       "\t<li>Iris-virginica</li>\n",
       "\t<li>Iris-virginica</li>\n",
       "\t<li>Iris-virginica</li>\n",
       "\t<li>Iris-virginica</li>\n",
       "\t<li>Iris-virginica</li>\n",
       "\t<li>Iris-virginica</li>\n",
       "</ol>\n",
       "\n",
       "<details>\n",
       "\t<summary style=display:list-item;cursor:pointer>\n",
       "\t\t<strong>Levels</strong>:\n",
       "\t</summary>\n",
       "\t<ol class=list-inline>\n",
       "\t\t<li>'Iris-setosa'</li>\n",
       "\t\t<li>'Iris-versicolor'</li>\n",
       "\t\t<li>'Iris-virginica'</li>\n",
       "\t</ol>\n",
       "</details>"
      ],
      "text/latex": [
       "\\begin{enumerate*}\n",
       "\\item Iris-setosa\n",
       "\\item Iris-setosa\n",
       "\\item Iris-setosa\n",
       "\\item Iris-setosa\n",
       "\\item Iris-setosa\n",
       "\\item Iris-setosa\n",
       "\\item Iris-setosa\n",
       "\\item Iris-setosa\n",
       "\\item Iris-setosa\n",
       "\\item Iris-setosa\n",
       "\\item Iris-setosa\n",
       "\\item Iris-setosa\n",
       "\\item Iris-setosa\n",
       "\\item Iris-setosa\n",
       "\\item Iris-setosa\n",
       "\\item Iris-setosa\n",
       "\\item Iris-setosa\n",
       "\\item Iris-setosa\n",
       "\\item Iris-setosa\n",
       "\\item Iris-versicolor\n",
       "\\item Iris-versicolor\n",
       "\\item Iris-versicolor\n",
       "\\item Iris-versicolor\n",
       "\\item Iris-versicolor\n",
       "\\item Iris-virginica\n",
       "\\item Iris-versicolor\n",
       "\\item Iris-virginica\n",
       "\\item Iris-versicolor\n",
       "\\item Iris-versicolor\n",
       "\\item Iris-versicolor\n",
       "\\item Iris-versicolor\n",
       "\\item Iris-virginica\n",
       "\\item Iris-virginica\n",
       "\\item Iris-virginica\n",
       "\\item Iris-virginica\n",
       "\\item Iris-virginica\n",
       "\\item Iris-virginica\n",
       "\\item Iris-virginica\n",
       "\\item Iris-virginica\n",
       "\\item Iris-virginica\n",
       "\\item Iris-virginica\n",
       "\\item Iris-virginica\n",
       "\\item Iris-virginica\n",
       "\\item Iris-virginica\n",
       "\\item Iris-virginica\n",
       "\\item Iris-virginica\n",
       "\\end{enumerate*}\n",
       "\n",
       "\\emph{Levels}: \\begin{enumerate*}\n",
       "\\item 'Iris-setosa'\n",
       "\\item 'Iris-versicolor'\n",
       "\\item 'Iris-virginica'\n",
       "\\end{enumerate*}\n"
      ],
      "text/markdown": [
       "1. Iris-setosa\n",
       "2. Iris-setosa\n",
       "3. Iris-setosa\n",
       "4. Iris-setosa\n",
       "5. Iris-setosa\n",
       "6. Iris-setosa\n",
       "7. Iris-setosa\n",
       "8. Iris-setosa\n",
       "9. Iris-setosa\n",
       "10. Iris-setosa\n",
       "11. Iris-setosa\n",
       "12. Iris-setosa\n",
       "13. Iris-setosa\n",
       "14. Iris-setosa\n",
       "15. Iris-setosa\n",
       "16. Iris-setosa\n",
       "17. Iris-setosa\n",
       "18. Iris-setosa\n",
       "19. Iris-setosa\n",
       "20. Iris-versicolor\n",
       "21. Iris-versicolor\n",
       "22. Iris-versicolor\n",
       "23. Iris-versicolor\n",
       "24. Iris-versicolor\n",
       "25. Iris-virginica\n",
       "26. Iris-versicolor\n",
       "27. Iris-virginica\n",
       "28. Iris-versicolor\n",
       "29. Iris-versicolor\n",
       "30. Iris-versicolor\n",
       "31. Iris-versicolor\n",
       "32. Iris-virginica\n",
       "33. Iris-virginica\n",
       "34. Iris-virginica\n",
       "35. Iris-virginica\n",
       "36. Iris-virginica\n",
       "37. Iris-virginica\n",
       "38. Iris-virginica\n",
       "39. Iris-virginica\n",
       "40. Iris-virginica\n",
       "41. Iris-virginica\n",
       "42. Iris-virginica\n",
       "43. Iris-virginica\n",
       "44. Iris-virginica\n",
       "45. Iris-virginica\n",
       "46. Iris-virginica\n",
       "\n",
       "\n",
       "\n",
       "**Levels**: 1. 'Iris-setosa'\n",
       "2. 'Iris-versicolor'\n",
       "3. 'Iris-virginica'\n",
       "\n",
       "\n"
      ],
      "text/plain": [
       " [1] Iris-setosa     Iris-setosa     Iris-setosa     Iris-setosa    \n",
       " [5] Iris-setosa     Iris-setosa     Iris-setosa     Iris-setosa    \n",
       " [9] Iris-setosa     Iris-setosa     Iris-setosa     Iris-setosa    \n",
       "[13] Iris-setosa     Iris-setosa     Iris-setosa     Iris-setosa    \n",
       "[17] Iris-setosa     Iris-setosa     Iris-setosa     Iris-versicolor\n",
       "[21] Iris-versicolor Iris-versicolor Iris-versicolor Iris-versicolor\n",
       "[25] Iris-virginica  Iris-versicolor Iris-virginica  Iris-versicolor\n",
       "[29] Iris-versicolor Iris-versicolor Iris-versicolor Iris-virginica \n",
       "[33] Iris-virginica  Iris-virginica  Iris-virginica  Iris-virginica \n",
       "[37] Iris-virginica  Iris-virginica  Iris-virginica  Iris-virginica \n",
       "[41] Iris-virginica  Iris-virginica  Iris-virginica  Iris-virginica \n",
       "[45] Iris-virginica  Iris-virginica \n",
       "Levels: Iris-setosa Iris-versicolor Iris-virginica"
      ]
     },
     "metadata": {},
     "output_type": "display_data"
    }
   ],
   "source": [
    "knn(iris_train, iris_test,iris_train_label, k=3)"
   ]
  },
  {
   "cell_type": "code",
   "execution_count": 11,
   "metadata": {
    "tags": [
     "output_scroll"
    ]
   },
   "outputs": [
    {
     "data": {
      "text/html": [
       "<ol class=list-inline>\n",
       "\t<li>TRUE</li>\n",
       "\t<li>TRUE</li>\n",
       "\t<li>TRUE</li>\n",
       "\t<li>TRUE</li>\n",
       "\t<li>TRUE</li>\n",
       "\t<li>TRUE</li>\n",
       "\t<li>TRUE</li>\n",
       "\t<li>TRUE</li>\n",
       "\t<li>TRUE</li>\n",
       "\t<li>TRUE</li>\n",
       "\t<li>TRUE</li>\n",
       "\t<li>TRUE</li>\n",
       "\t<li>TRUE</li>\n",
       "\t<li>TRUE</li>\n",
       "\t<li>TRUE</li>\n",
       "\t<li>TRUE</li>\n",
       "\t<li>TRUE</li>\n",
       "\t<li>TRUE</li>\n",
       "\t<li>TRUE</li>\n",
       "\t<li>TRUE</li>\n",
       "\t<li>TRUE</li>\n",
       "\t<li>TRUE</li>\n",
       "\t<li>TRUE</li>\n",
       "\t<li>TRUE</li>\n",
       "\t<li>FALSE</li>\n",
       "\t<li>TRUE</li>\n",
       "\t<li>FALSE</li>\n",
       "\t<li>TRUE</li>\n",
       "\t<li>TRUE</li>\n",
       "\t<li>TRUE</li>\n",
       "\t<li>TRUE</li>\n",
       "\t<li>TRUE</li>\n",
       "\t<li>TRUE</li>\n",
       "\t<li>TRUE</li>\n",
       "\t<li>TRUE</li>\n",
       "\t<li>TRUE</li>\n",
       "\t<li>TRUE</li>\n",
       "\t<li>TRUE</li>\n",
       "\t<li>TRUE</li>\n",
       "\t<li>TRUE</li>\n",
       "\t<li>TRUE</li>\n",
       "\t<li>TRUE</li>\n",
       "\t<li>TRUE</li>\n",
       "\t<li>TRUE</li>\n",
       "\t<li>TRUE</li>\n",
       "\t<li>TRUE</li>\n",
       "</ol>\n"
      ],
      "text/latex": [
       "\\begin{enumerate*}\n",
       "\\item TRUE\n",
       "\\item TRUE\n",
       "\\item TRUE\n",
       "\\item TRUE\n",
       "\\item TRUE\n",
       "\\item TRUE\n",
       "\\item TRUE\n",
       "\\item TRUE\n",
       "\\item TRUE\n",
       "\\item TRUE\n",
       "\\item TRUE\n",
       "\\item TRUE\n",
       "\\item TRUE\n",
       "\\item TRUE\n",
       "\\item TRUE\n",
       "\\item TRUE\n",
       "\\item TRUE\n",
       "\\item TRUE\n",
       "\\item TRUE\n",
       "\\item TRUE\n",
       "\\item TRUE\n",
       "\\item TRUE\n",
       "\\item TRUE\n",
       "\\item TRUE\n",
       "\\item FALSE\n",
       "\\item TRUE\n",
       "\\item FALSE\n",
       "\\item TRUE\n",
       "\\item TRUE\n",
       "\\item TRUE\n",
       "\\item TRUE\n",
       "\\item TRUE\n",
       "\\item TRUE\n",
       "\\item TRUE\n",
       "\\item TRUE\n",
       "\\item TRUE\n",
       "\\item TRUE\n",
       "\\item TRUE\n",
       "\\item TRUE\n",
       "\\item TRUE\n",
       "\\item TRUE\n",
       "\\item TRUE\n",
       "\\item TRUE\n",
       "\\item TRUE\n",
       "\\item TRUE\n",
       "\\item TRUE\n",
       "\\end{enumerate*}\n"
      ],
      "text/markdown": [
       "1. TRUE\n",
       "2. TRUE\n",
       "3. TRUE\n",
       "4. TRUE\n",
       "5. TRUE\n",
       "6. TRUE\n",
       "7. TRUE\n",
       "8. TRUE\n",
       "9. TRUE\n",
       "10. TRUE\n",
       "11. TRUE\n",
       "12. TRUE\n",
       "13. TRUE\n",
       "14. TRUE\n",
       "15. TRUE\n",
       "16. TRUE\n",
       "17. TRUE\n",
       "18. TRUE\n",
       "19. TRUE\n",
       "20. TRUE\n",
       "21. TRUE\n",
       "22. TRUE\n",
       "23. TRUE\n",
       "24. TRUE\n",
       "25. FALSE\n",
       "26. TRUE\n",
       "27. FALSE\n",
       "28. TRUE\n",
       "29. TRUE\n",
       "30. TRUE\n",
       "31. TRUE\n",
       "32. TRUE\n",
       "33. TRUE\n",
       "34. TRUE\n",
       "35. TRUE\n",
       "36. TRUE\n",
       "37. TRUE\n",
       "38. TRUE\n",
       "39. TRUE\n",
       "40. TRUE\n",
       "41. TRUE\n",
       "42. TRUE\n",
       "43. TRUE\n",
       "44. TRUE\n",
       "45. TRUE\n",
       "46. TRUE\n",
       "\n",
       "\n"
      ],
      "text/plain": [
       " [1]  TRUE  TRUE  TRUE  TRUE  TRUE  TRUE  TRUE  TRUE  TRUE  TRUE  TRUE  TRUE\n",
       "[13]  TRUE  TRUE  TRUE  TRUE  TRUE  TRUE  TRUE  TRUE  TRUE  TRUE  TRUE  TRUE\n",
       "[25] FALSE  TRUE FALSE  TRUE  TRUE  TRUE  TRUE  TRUE  TRUE  TRUE  TRUE  TRUE\n",
       "[37]  TRUE  TRUE  TRUE  TRUE  TRUE  TRUE  TRUE  TRUE  TRUE  TRUE"
      ]
     },
     "metadata": {},
     "output_type": "display_data"
    }
   ],
   "source": [
    "iris_model <- knn(iris_train, iris_test,iris_train_label, k=3)\n",
    "iris_model == iris_test_label"
   ]
  },
  {
   "cell_type": "markdown",
   "metadata": {},
   "source": [
    "### 6.2.3 혼동행렬 만들기"
   ]
  },
  {
   "cell_type": "code",
   "execution_count": 97,
   "metadata": {},
   "outputs": [
    {
     "name": "stdout",
     "output_type": "stream",
     "text": [
      "\n",
      " \n",
      "   Cell Contents\n",
      "|-------------------------|\n",
      "|                       N |\n",
      "|           N / Row Total |\n",
      "|           N / Col Total |\n",
      "|         N / Table Total |\n",
      "|-------------------------|\n",
      "\n",
      " \n",
      "Total Observations in Table:  46 \n",
      "\n",
      " \n",
      "                | iris_model \n",
      "iris_test_label |     Iris-setosa | Iris-versicolor |  Iris-virginica |       Row Total | \n",
      "----------------|-----------------|-----------------|-----------------|-----------------|\n",
      "    Iris-setosa |              19 |               0 |               0 |              19 | \n",
      "                |           1.000 |           0.000 |           0.000 |           0.413 | \n",
      "                |           1.000 |           0.000 |           0.000 |                 | \n",
      "                |           0.413 |           0.000 |           0.000 |                 | \n",
      "----------------|-----------------|-----------------|-----------------|-----------------|\n",
      "Iris-versicolor |               0 |              10 |               2 |              12 | \n",
      "                |           0.000 |           0.833 |           0.167 |           0.261 | \n",
      "                |           0.000 |           1.000 |           0.118 |                 | \n",
      "                |           0.000 |           0.217 |           0.043 |                 | \n",
      "----------------|-----------------|-----------------|-----------------|-----------------|\n",
      " Iris-virginica |               0 |               0 |              15 |              15 | \n",
      "                |           0.000 |           0.000 |           1.000 |           0.326 | \n",
      "                |           0.000 |           0.000 |           0.882 |                 | \n",
      "                |           0.000 |           0.000 |           0.326 |                 | \n",
      "----------------|-----------------|-----------------|-----------------|-----------------|\n",
      "   Column Total |              19 |              10 |              17 |              46 | \n",
      "                |           0.413 |           0.217 |           0.370 |                 | \n",
      "----------------|-----------------|-----------------|-----------------|-----------------|\n",
      "\n",
      " \n"
     ]
    }
   ],
   "source": [
    "# install.packages(\"gmodels\")\n",
    "library(gmodels)\n",
    "CrossTable(x=iris_test_label, y=iris_model, prop.chisq = FALSE)"
   ]
  },
  {
   "cell_type": "markdown",
   "metadata": {},
   "source": [
    "2020-10-06"
   ]
  },
  {
   "cell_type": "markdown",
   "metadata": {},
   "source": [
    "## 1.11 기타 실습\n",
    "### [문제14]\n",
    "R에서 emp.csv를 읽어들인 후 SAL_YN 컬럼을 추가한 후 값은 SALARY 값이 10000 이상이면 10000 이상, 아니면 10000 미만으로 입력해주세요."
   ]
  },
  {
   "cell_type": "code",
   "execution_count": 14,
   "metadata": {},
   "outputs": [],
   "source": [
    "library(gmodels)\n",
    "emp <- read.csv(\"c:/data/emp.csv\", header = T, stringsAsFactors = F)\n",
    "emp$SAL_YN <- ifelse(emp$SALARY >= 10000, \"10000이상\",\"10000미만\")"
   ]
  },
  {
   "cell_type": "code",
   "execution_count": 15,
   "metadata": {},
   "outputs": [
    {
     "name": "stdout",
     "output_type": "stream",
     "text": [
      "'data.frame':\t107 obs. of  12 variables:\n",
      " $ EMPLOYEE_ID   : int  100 101 102 103 104 105 106 107 108 109 ...\n",
      " $ FIRST_NAME    : chr  \"Steven\" \"Neena\" \"Lex\" \"Alexander\" ...\n",
      " $ LAST_NAME     : chr  \"King\" \"Kochhar\" \"De Haan\" \"Hunold\" ...\n",
      " $ EMAIL         : chr  \"SKING\" \"NKOCHHAR\" \"LDEHAAN\" \"AHUNOLD\" ...\n",
      " $ PHONE_NUMBER  : chr  \"515.123.4567\" \"515.123.4568\" \"515.123.4569\" \"590.423.4567\" ...\n",
      " $ HIRE_DATE     : chr  \"2003-06-17\" \"2005-09-21\" \"2001-01-13\" \"2006-01-03\" ...\n",
      " $ JOB_ID        : chr  \"AD_PRES\" \"AD_VP\" \"AD_VP\" \"IT_PROG\" ...\n",
      " $ SALARY        : int  24000 17000 17000 9000 6000 4800 4800 4200 12008 9000 ...\n",
      " $ COMMISSION_PCT: num  NA NA NA NA NA NA NA NA NA NA ...\n",
      " $ MANAGER_ID    : int  NA 100 100 102 103 103 103 103 101 108 ...\n",
      " $ DEPARTMENT_ID : int  90 90 90 60 60 60 60 60 100 100 ...\n",
      " $ SAL_YN        : chr  \"10000이상\" \"10000이상\" \"10000이상\" \"10000미만\" ...\n"
     ]
    }
   ],
   "source": [
    "str(emp)"
   ]
  },
  {
   "cell_type": "code",
   "execution_count": 16,
   "metadata": {},
   "outputs": [
    {
     "name": "stdout",
     "output_type": "stream",
     "text": [
      "\n",
      " \n",
      "   Cell Contents\n",
      "|-------------------------|\n",
      "|                       N |\n",
      "| Chi-square contribution |\n",
      "|           N / Row Total |\n",
      "|           N / Col Total |\n",
      "|         N / Table Total |\n",
      "|-------------------------|\n",
      "\n",
      " \n",
      "Total Observations in Table:  107 \n",
      "\n",
      " \n",
      "             | emp$SAL_YN \n",
      "  emp$JOB_ID | 10000미만 | 10000이상 | Row Total | \n",
      "-------------|-----------|-----------|-----------|\n",
      "  AC_ACCOUNT |         1 |         0 |         1 | \n",
      "             |     0.038 |     0.178 |           | \n",
      "             |     1.000 |     0.000 |     0.009 | \n",
      "             |     0.011 |     0.000 |           | \n",
      "             |     0.009 |     0.000 |           | \n",
      "-------------|-----------|-----------|-----------|\n",
      "      AC_MGR |         0 |         1 |         1 | \n",
      "             |     0.822 |     3.809 |           | \n",
      "             |     0.000 |     1.000 |     0.009 | \n",
      "             |     0.000 |     0.053 |           | \n",
      "             |     0.000 |     0.009 |           | \n",
      "-------------|-----------|-----------|-----------|\n",
      "     AD_ASST |         1 |         0 |         1 | \n",
      "             |     0.038 |     0.178 |           | \n",
      "             |     1.000 |     0.000 |     0.009 | \n",
      "             |     0.011 |     0.000 |           | \n",
      "             |     0.009 |     0.000 |           | \n",
      "-------------|-----------|-----------|-----------|\n",
      "     AD_PRES |         0 |         1 |         1 | \n",
      "             |     0.822 |     3.809 |           | \n",
      "             |     0.000 |     1.000 |     0.009 | \n",
      "             |     0.000 |     0.053 |           | \n",
      "             |     0.000 |     0.009 |           | \n",
      "-------------|-----------|-----------|-----------|\n",
      "       AD_VP |         0 |         2 |         2 | \n",
      "             |     1.645 |     7.618 |           | \n",
      "             |     0.000 |     1.000 |     0.019 | \n",
      "             |     0.000 |     0.105 |           | \n",
      "             |     0.000 |     0.019 |           | \n",
      "-------------|-----------|-----------|-----------|\n",
      "  FI_ACCOUNT |         5 |         0 |         5 | \n",
      "             |     0.192 |     0.888 |           | \n",
      "             |     1.000 |     0.000 |     0.047 | \n",
      "             |     0.057 |     0.000 |           | \n",
      "             |     0.047 |     0.000 |           | \n",
      "-------------|-----------|-----------|-----------|\n",
      "      FI_MGR |         0 |         1 |         1 | \n",
      "             |     0.822 |     3.809 |           | \n",
      "             |     0.000 |     1.000 |     0.009 | \n",
      "             |     0.000 |     0.053 |           | \n",
      "             |     0.000 |     0.009 |           | \n",
      "-------------|-----------|-----------|-----------|\n",
      "      HR_REP |         1 |         0 |         1 | \n",
      "             |     0.038 |     0.178 |           | \n",
      "             |     1.000 |     0.000 |     0.009 | \n",
      "             |     0.011 |     0.000 |           | \n",
      "             |     0.009 |     0.000 |           | \n",
      "-------------|-----------|-----------|-----------|\n",
      "     IT_PROG |         5 |         0 |         5 | \n",
      "             |     0.192 |     0.888 |           | \n",
      "             |     1.000 |     0.000 |     0.047 | \n",
      "             |     0.057 |     0.000 |           | \n",
      "             |     0.047 |     0.000 |           | \n",
      "-------------|-----------|-----------|-----------|\n",
      "      MK_MAN |         0 |         1 |         1 | \n",
      "             |     0.822 |     3.809 |           | \n",
      "             |     0.000 |     1.000 |     0.009 | \n",
      "             |     0.000 |     0.053 |           | \n",
      "             |     0.000 |     0.009 |           | \n",
      "-------------|-----------|-----------|-----------|\n",
      "      MK_REP |         1 |         0 |         1 | \n",
      "             |     0.038 |     0.178 |           | \n",
      "             |     1.000 |     0.000 |     0.009 | \n",
      "             |     0.011 |     0.000 |           | \n",
      "             |     0.009 |     0.000 |           | \n",
      "-------------|-----------|-----------|-----------|\n",
      "      PR_REP |         0 |         1 |         1 | \n",
      "             |     0.822 |     3.809 |           | \n",
      "             |     0.000 |     1.000 |     0.009 | \n",
      "             |     0.000 |     0.053 |           | \n",
      "             |     0.000 |     0.009 |           | \n",
      "-------------|-----------|-----------|-----------|\n",
      "    PU_CLERK |         5 |         0 |         5 | \n",
      "             |     0.192 |     0.888 |           | \n",
      "             |     1.000 |     0.000 |     0.047 | \n",
      "             |     0.057 |     0.000 |           | \n",
      "             |     0.047 |     0.000 |           | \n",
      "-------------|-----------|-----------|-----------|\n",
      "      PU_MAN |         0 |         1 |         1 | \n",
      "             |     0.822 |     3.809 |           | \n",
      "             |     0.000 |     1.000 |     0.009 | \n",
      "             |     0.000 |     0.053 |           | \n",
      "             |     0.000 |     0.009 |           | \n",
      "-------------|-----------|-----------|-----------|\n",
      "      SA_MAN |         0 |         5 |         5 | \n",
      "             |     4.112 |    19.046 |           | \n",
      "             |     0.000 |     1.000 |     0.047 | \n",
      "             |     0.000 |     0.263 |           | \n",
      "             |     0.000 |     0.047 |           | \n",
      "-------------|-----------|-----------|-----------|\n",
      "      SA_REP |        24 |         6 |        30 | \n",
      "             |     0.018 |     0.085 |           | \n",
      "             |     0.800 |     0.200 |     0.280 | \n",
      "             |     0.273 |     0.316 |           | \n",
      "             |     0.224 |     0.056 |           | \n",
      "-------------|-----------|-----------|-----------|\n",
      "    SH_CLERK |        20 |         0 |        20 | \n",
      "             |     0.767 |     3.551 |           | \n",
      "             |     1.000 |     0.000 |     0.187 | \n",
      "             |     0.227 |     0.000 |           | \n",
      "             |     0.187 |     0.000 |           | \n",
      "-------------|-----------|-----------|-----------|\n",
      "    ST_CLERK |        20 |         0 |        20 | \n",
      "             |     0.767 |     3.551 |           | \n",
      "             |     1.000 |     0.000 |     0.187 | \n",
      "             |     0.227 |     0.000 |           | \n",
      "             |     0.187 |     0.000 |           | \n",
      "-------------|-----------|-----------|-----------|\n",
      "      ST_MAN |         5 |         0 |         5 | \n",
      "             |     0.192 |     0.888 |           | \n",
      "             |     1.000 |     0.000 |     0.047 | \n",
      "             |     0.057 |     0.000 |           | \n",
      "             |     0.047 |     0.000 |           | \n",
      "-------------|-----------|-----------|-----------|\n",
      "Column Total |        88 |        19 |       107 | \n",
      "             |     0.822 |     0.178 |           | \n",
      "-------------|-----------|-----------|-----------|\n",
      "\n",
      " \n"
     ]
    }
   ],
   "source": [
    "CrossTable(emp$JOB_ID, emp$SAL_YN)"
   ]
  },
  {
   "cell_type": "markdown",
   "metadata": {},
   "source": [
    "### [문제15]\n",
    "유방암 데이터입니다. kNN 알고리즘을 이용해서 훈련 데이터셋, 테스트 데이터셋을 이용해서 분류가 잘 되는지 확인하세요."
   ]
  },
  {
   "cell_type": "code",
   "execution_count": 48,
   "metadata": {},
   "outputs": [
    {
     "name": "stdout",
     "output_type": "stream",
     "text": [
      "'data.frame':\t569 obs. of  32 variables:\n",
      " $ id               : int  87139402 8910251 905520 868871 9012568 906539 925291 87880 862989 89827 ...\n",
      " $ diagnosis        : chr  \"B\" \"B\" \"B\" \"B\" ...\n",
      " $ radius_mean      : num  12.3 10.6 11 11.3 15.2 ...\n",
      " $ texture_mean     : num  12.4 18.9 16.8 13.4 13.2 ...\n",
      " $ perimeter_mean   : num  78.8 69.3 70.9 73 97.7 ...\n",
      " $ area_mean        : num  464 346 373 385 712 ...\n",
      " $ smoothness_mean  : num  0.1028 0.0969 0.1077 0.1164 0.0796 ...\n",
      " $ compactness_mean : num  0.0698 0.1147 0.078 0.1136 0.0693 ...\n",
      " $ concavity_mean   : num  0.0399 0.0639 0.0305 0.0464 0.0339 ...\n",
      " $ points_mean      : num  0.037 0.0264 0.0248 0.048 0.0266 ...\n",
      " $ symmetry_mean    : num  0.196 0.192 0.171 0.177 0.172 ...\n",
      " $ dimension_mean   : num  0.0595 0.0649 0.0634 0.0607 0.0554 ...\n",
      " $ radius_se        : num  0.236 0.451 0.197 0.338 0.178 ...\n",
      " $ texture_se       : num  0.666 1.197 1.387 1.343 0.412 ...\n",
      " $ perimeter_se     : num  1.67 3.43 1.34 1.85 1.34 ...\n",
      " $ area_se          : num  17.4 27.1 13.5 26.3 17.7 ...\n",
      " $ smoothness_se    : num  0.00805 0.00747 0.00516 0.01127 0.00501 ...\n",
      " $ compactness_se   : num  0.0118 0.03581 0.00936 0.03498 0.01485 ...\n",
      " $ concavity_se     : num  0.0168 0.0335 0.0106 0.0219 0.0155 ...\n",
      " $ points_se        : num  0.01241 0.01365 0.00748 0.01965 0.00915 ...\n",
      " $ symmetry_se      : num  0.0192 0.035 0.0172 0.0158 0.0165 ...\n",
      " $ dimension_se     : num  0.00225 0.00332 0.0022 0.00344 0.00177 ...\n",
      " $ radius_worst     : num  13.5 11.9 12.4 11.9 16.2 ...\n",
      " $ texture_worst    : num  15.6 22.9 26.4 15.8 15.7 ...\n",
      " $ perimeter_worst  : num  87 78.3 79.9 76.5 104.5 ...\n",
      " $ area_worst       : num  549 425 471 434 819 ...\n",
      " $ smoothness_worst : num  0.139 0.121 0.137 0.137 0.113 ...\n",
      " $ compactness_worst: num  0.127 0.252 0.148 0.182 0.174 ...\n",
      " $ concavity_worst  : num  0.1242 0.1916 0.1067 0.0867 0.1362 ...\n",
      " $ points_worst     : num  0.0939 0.0793 0.0743 0.0861 0.0818 ...\n",
      " $ symmetry_worst   : num  0.283 0.294 0.3 0.21 0.249 ...\n",
      " $ dimension_worst  : num  0.0677 0.0759 0.0788 0.0678 0.0677 ...\n"
     ]
    }
   ],
   "source": [
    "data <- read.csv(\"c:/data/wisc_bc_data.csv\", header = T, stringsAsFactors = F)\n",
    "str(data)"
   ]
  },
  {
   "cell_type": "code",
   "execution_count": 49,
   "metadata": {},
   "outputs": [],
   "source": [
    "normalize <- function(x){\n",
    "  return ((x - min(x)) / (max(x) - min(x)))\n",
    "}\n",
    " \n",
    "standard <- function(x){\n",
    "  return ((x-mean(x)))/(sd(x))\n",
    "}"
   ]
  },
  {
   "cell_type": "code",
   "execution_count": 50,
   "metadata": {},
   "outputs": [],
   "source": [
    "data[,3:32] <- lapply(data[,3:32],normalize)\n",
    " \n",
    "id <- sample(1:2, nrow(data), replace=TRUE, prob = c(0.7, 0.3))\n",
    "data_train <- data[id == 1, 3:32]\n",
    "data_train_label <- data[id==1, 2]\n",
    "data_test <- data[id == 2, 3:32]\n",
    "data_test_label <- data[id==2, 2]"
   ]
  },
  {
   "cell_type": "code",
   "execution_count": 51,
   "metadata": {},
   "outputs": [
    {
     "name": "stdout",
     "output_type": "stream",
     "text": [
      "\n",
      " \n",
      "   Cell Contents\n",
      "|-------------------------|\n",
      "|                       N |\n",
      "|           N / Row Total |\n",
      "|           N / Col Total |\n",
      "|         N / Table Total |\n",
      "|-------------------------|\n",
      "\n",
      " \n",
      "Total Observations in Table:  155 \n",
      "\n",
      " \n",
      "                | data_model \n",
      "data_test_label |         B |         M | Row Total | \n",
      "----------------|-----------|-----------|-----------|\n",
      "              B |        95 |         1 |        96 | \n",
      "                |     0.990 |     0.010 |     0.619 | \n",
      "                |     0.969 |     0.018 |           | \n",
      "                |     0.613 |     0.006 |           | \n",
      "----------------|-----------|-----------|-----------|\n",
      "              M |         3 |        56 |        59 | \n",
      "                |     0.051 |     0.949 |     0.381 | \n",
      "                |     0.031 |     0.982 |           | \n",
      "                |     0.019 |     0.361 |           | \n",
      "----------------|-----------|-----------|-----------|\n",
      "   Column Total |        98 |        57 |       155 | \n",
      "                |     0.632 |     0.368 |           | \n",
      "----------------|-----------|-----------|-----------|\n",
      "\n",
      " \n"
     ]
    }
   ],
   "source": [
    "library(class)\n",
    "data_model <- knn(data_train,data_test,data_train_label, k=3)\n",
    " \n",
    "CrossTable(x=data_test_label, y = data_model, prop.chisq = F)"
   ]
  },
  {
   "cell_type": "code",
   "execution_count": 52,
   "metadata": {},
   "outputs": [],
   "source": [
    "# 훈련데이터, 테스트데이터 생성\n",
    "library(caret)\n",
    " \n",
    "idx <- createDataPartition(y=data$diagnosis, p=0.7, list=FALSE)\n",
    "data <- data[-1]\n",
    "\n",
    "wbcd_train <- data[idx,]\n",
    "wbcd_test <- data[-idx,]\n",
    "wbcd_train_labels <- wbcd_train$diagnosis\n",
    "wbcd_test_labels <- wbcd_test$diagnosis"
   ]
  },
  {
   "cell_type": "code",
   "execution_count": 53,
   "metadata": {},
   "outputs": [
    {
     "data": {
      "text/html": [
       "399"
      ],
      "text/latex": [
       "399"
      ],
      "text/markdown": [
       "399"
      ],
      "text/plain": [
       "[1] 399"
      ]
     },
     "metadata": {},
     "output_type": "display_data"
    }
   ],
   "source": [
    "NROW(wbcd_train)"
   ]
  },
  {
   "cell_type": "code",
   "execution_count": 54,
   "metadata": {},
   "outputs": [
    {
     "data": {
      "text/html": [
       "170"
      ],
      "text/latex": [
       "170"
      ],
      "text/markdown": [
       "170"
      ],
      "text/plain": [
       "[1] 170"
      ]
     },
     "metadata": {},
     "output_type": "display_data"
    }
   ],
   "source": [
    "NROW(wbcd_test)"
   ]
  },
  {
   "cell_type": "code",
   "execution_count": 55,
   "metadata": {},
   "outputs": [
    {
     "data": {
      "text/plain": [
       "\n",
       "  B   M \n",
       "250 149 "
      ]
     },
     "metadata": {},
     "output_type": "display_data"
    }
   ],
   "source": [
    "table(wbcd_train$diagnosis)"
   ]
  },
  {
   "cell_type": "code",
   "execution_count": 56,
   "metadata": {},
   "outputs": [
    {
     "data": {
      "text/plain": [
       "\n",
       "  B   M \n",
       "107  63 "
      ]
     },
     "metadata": {},
     "output_type": "display_data"
    }
   ],
   "source": [
    "table(wbcd_test$diagnosis)"
   ]
  },
  {
   "cell_type": "code",
   "execution_count": 57,
   "metadata": {},
   "outputs": [
    {
     "data": {
      "text/html": [
       "0.976470588235294"
      ],
      "text/latex": [
       "0.976470588235294"
      ],
      "text/markdown": [
       "0.976470588235294"
      ],
      "text/plain": [
       "[1] 0.9764706"
      ]
     },
     "metadata": {},
     "output_type": "display_data"
    }
   ],
   "source": [
    "# 정확도\n",
    "library(class)\n",
    "wbcd_test_pred <- knn(train = wbcd_train[-1], test=wbcd_test[-1], wbcd_train_labels, k=5)\n",
    "accuracy <- sum(wbcd_test_labels == wbcd_test_pred) / NROW(wbcd_test_labels)\n",
    "accuracy"
   ]
  },
  {
   "cell_type": "markdown",
   "metadata": {},
   "source": [
    "### [문제16]\n",
    "k값 변화율에 따라 정확도를 시각화해주세요."
   ]
  },
  {
   "cell_type": "code",
   "execution_count": 58,
   "metadata": {},
   "outputs": [],
   "source": [
    "i = 1\n",
    "wbcd_test_pred <- knn(train = wbcd_train[-1], test = wbcd_test[-1],\n",
    "                     cl = wbcd_train_labels, k=i)\n",
    "accuracy <- sum(wbcd_test_pred == wbcd_test_labels) / length(wbcd_test_labels)\n",
    "result <- data.frame(i, accuracy)"
   ]
  },
  {
   "cell_type": "code",
   "execution_count": 59,
   "metadata": {},
   "outputs": [
    {
     "data": {
      "text/html": [
       "0.964705882352941"
      ],
      "text/latex": [
       "0.964705882352941"
      ],
      "text/markdown": [
       "0.964705882352941"
      ],
      "text/plain": [
       "[1] 0.9647059"
      ]
     },
     "metadata": {},
     "output_type": "display_data"
    }
   ],
   "source": [
    "accuracy"
   ]
  },
  {
   "cell_type": "code",
   "execution_count": 60,
   "metadata": {},
   "outputs": [
    {
     "data": {
      "text/html": [
       "<table>\n",
       "<thead><tr><th scope=col>i</th><th scope=col>accuracy</th></tr></thead>\n",
       "<tbody>\n",
       "\t<tr><td>1        </td><td>0.9647059</td></tr>\n",
       "</tbody>\n",
       "</table>\n"
      ],
      "text/latex": [
       "\\begin{tabular}{r|ll}\n",
       " i & accuracy\\\\\n",
       "\\hline\n",
       "\t 1         & 0.9647059\\\\\n",
       "\\end{tabular}\n"
      ],
      "text/markdown": [
       "\n",
       "| i | accuracy |\n",
       "|---|---|\n",
       "| 1         | 0.9647059 |\n",
       "\n"
      ],
      "text/plain": [
       "  i accuracy \n",
       "1 1 0.9647059"
      ]
     },
     "metadata": {},
     "output_type": "display_data"
    }
   ],
   "source": [
    "result"
   ]
  },
  {
   "cell_type": "code",
   "execution_count": 61,
   "metadata": {},
   "outputs": [],
   "source": [
    "for (i in seq(3,100,2)) {\n",
    "    wbcd_test_pred <- knn(train = wbcd_train[-1], test = wbcd_test[-1],\n",
    "                     cl = wbcd_train_labels, k=i)\n",
    "    accuracy <- sum(wbcd_test_pred == wbcd_test_labels) / length(wbcd_test_labels)\n",
    "    result <- rbind(result, data.frame(i, accuracy))\n",
    "}"
   ]
  },
  {
   "cell_type": "code",
   "execution_count": 62,
   "metadata": {
    "tags": [
     "output_scroll"
    ]
   },
   "outputs": [
    {
     "data": {
      "text/html": [
       "<table>\n",
       "<thead><tr><th scope=col>i</th><th scope=col>accuracy</th></tr></thead>\n",
       "<tbody>\n",
       "\t<tr><td> 1       </td><td>0.9647059</td></tr>\n",
       "\t<tr><td> 3       </td><td>0.9705882</td></tr>\n",
       "\t<tr><td> 5       </td><td>0.9764706</td></tr>\n",
       "\t<tr><td> 7       </td><td>0.9705882</td></tr>\n",
       "\t<tr><td> 9       </td><td>0.9647059</td></tr>\n",
       "\t<tr><td>11       </td><td>0.9588235</td></tr>\n",
       "\t<tr><td>13       </td><td>0.9647059</td></tr>\n",
       "\t<tr><td>15       </td><td>0.9647059</td></tr>\n",
       "\t<tr><td>17       </td><td>0.9705882</td></tr>\n",
       "\t<tr><td>19       </td><td>0.9705882</td></tr>\n",
       "\t<tr><td>21       </td><td>0.9705882</td></tr>\n",
       "\t<tr><td>23       </td><td>0.9705882</td></tr>\n",
       "\t<tr><td>25       </td><td>0.9705882</td></tr>\n",
       "\t<tr><td>27       </td><td>0.9647059</td></tr>\n",
       "\t<tr><td>29       </td><td>0.9529412</td></tr>\n",
       "\t<tr><td>31       </td><td>0.9529412</td></tr>\n",
       "\t<tr><td>33       </td><td>0.9529412</td></tr>\n",
       "\t<tr><td>35       </td><td>0.9529412</td></tr>\n",
       "\t<tr><td>37       </td><td>0.9470588</td></tr>\n",
       "\t<tr><td>39       </td><td>0.9470588</td></tr>\n",
       "\t<tr><td>41       </td><td>0.9470588</td></tr>\n",
       "\t<tr><td>43       </td><td>0.9470588</td></tr>\n",
       "\t<tr><td>45       </td><td>0.9470588</td></tr>\n",
       "\t<tr><td>47       </td><td>0.9411765</td></tr>\n",
       "\t<tr><td>49       </td><td>0.9411765</td></tr>\n",
       "\t<tr><td>51       </td><td>0.9470588</td></tr>\n",
       "\t<tr><td>53       </td><td>0.9470588</td></tr>\n",
       "\t<tr><td>55       </td><td>0.9411765</td></tr>\n",
       "\t<tr><td>57       </td><td>0.9411765</td></tr>\n",
       "\t<tr><td>59       </td><td>0.9352941</td></tr>\n",
       "\t<tr><td>61       </td><td>0.9470588</td></tr>\n",
       "\t<tr><td>63       </td><td>0.9470588</td></tr>\n",
       "\t<tr><td>65       </td><td>0.9470588</td></tr>\n",
       "\t<tr><td>67       </td><td>0.9529412</td></tr>\n",
       "\t<tr><td>69       </td><td>0.9529412</td></tr>\n",
       "\t<tr><td>71       </td><td>0.9470588</td></tr>\n",
       "\t<tr><td>73       </td><td>0.9470588</td></tr>\n",
       "\t<tr><td>75       </td><td>0.9470588</td></tr>\n",
       "\t<tr><td>77       </td><td>0.9470588</td></tr>\n",
       "\t<tr><td>79       </td><td>0.9411765</td></tr>\n",
       "\t<tr><td>81       </td><td>0.9294118</td></tr>\n",
       "\t<tr><td>83       </td><td>0.9294118</td></tr>\n",
       "\t<tr><td>85       </td><td>0.9294118</td></tr>\n",
       "\t<tr><td>87       </td><td>0.9294118</td></tr>\n",
       "\t<tr><td>89       </td><td>0.9294118</td></tr>\n",
       "\t<tr><td>91       </td><td>0.9235294</td></tr>\n",
       "\t<tr><td>93       </td><td>0.9235294</td></tr>\n",
       "\t<tr><td>95       </td><td>0.9235294</td></tr>\n",
       "\t<tr><td>97       </td><td>0.9235294</td></tr>\n",
       "\t<tr><td>99       </td><td>0.9235294</td></tr>\n",
       "</tbody>\n",
       "</table>\n"
      ],
      "text/latex": [
       "\\begin{tabular}{r|ll}\n",
       " i & accuracy\\\\\n",
       "\\hline\n",
       "\t  1        & 0.9647059\\\\\n",
       "\t  3        & 0.9705882\\\\\n",
       "\t  5        & 0.9764706\\\\\n",
       "\t  7        & 0.9705882\\\\\n",
       "\t  9        & 0.9647059\\\\\n",
       "\t 11        & 0.9588235\\\\\n",
       "\t 13        & 0.9647059\\\\\n",
       "\t 15        & 0.9647059\\\\\n",
       "\t 17        & 0.9705882\\\\\n",
       "\t 19        & 0.9705882\\\\\n",
       "\t 21        & 0.9705882\\\\\n",
       "\t 23        & 0.9705882\\\\\n",
       "\t 25        & 0.9705882\\\\\n",
       "\t 27        & 0.9647059\\\\\n",
       "\t 29        & 0.9529412\\\\\n",
       "\t 31        & 0.9529412\\\\\n",
       "\t 33        & 0.9529412\\\\\n",
       "\t 35        & 0.9529412\\\\\n",
       "\t 37        & 0.9470588\\\\\n",
       "\t 39        & 0.9470588\\\\\n",
       "\t 41        & 0.9470588\\\\\n",
       "\t 43        & 0.9470588\\\\\n",
       "\t 45        & 0.9470588\\\\\n",
       "\t 47        & 0.9411765\\\\\n",
       "\t 49        & 0.9411765\\\\\n",
       "\t 51        & 0.9470588\\\\\n",
       "\t 53        & 0.9470588\\\\\n",
       "\t 55        & 0.9411765\\\\\n",
       "\t 57        & 0.9411765\\\\\n",
       "\t 59        & 0.9352941\\\\\n",
       "\t 61        & 0.9470588\\\\\n",
       "\t 63        & 0.9470588\\\\\n",
       "\t 65        & 0.9470588\\\\\n",
       "\t 67        & 0.9529412\\\\\n",
       "\t 69        & 0.9529412\\\\\n",
       "\t 71        & 0.9470588\\\\\n",
       "\t 73        & 0.9470588\\\\\n",
       "\t 75        & 0.9470588\\\\\n",
       "\t 77        & 0.9470588\\\\\n",
       "\t 79        & 0.9411765\\\\\n",
       "\t 81        & 0.9294118\\\\\n",
       "\t 83        & 0.9294118\\\\\n",
       "\t 85        & 0.9294118\\\\\n",
       "\t 87        & 0.9294118\\\\\n",
       "\t 89        & 0.9294118\\\\\n",
       "\t 91        & 0.9235294\\\\\n",
       "\t 93        & 0.9235294\\\\\n",
       "\t 95        & 0.9235294\\\\\n",
       "\t 97        & 0.9235294\\\\\n",
       "\t 99        & 0.9235294\\\\\n",
       "\\end{tabular}\n"
      ],
      "text/markdown": [
       "\n",
       "| i | accuracy |\n",
       "|---|---|\n",
       "|  1        | 0.9647059 |\n",
       "|  3        | 0.9705882 |\n",
       "|  5        | 0.9764706 |\n",
       "|  7        | 0.9705882 |\n",
       "|  9        | 0.9647059 |\n",
       "| 11        | 0.9588235 |\n",
       "| 13        | 0.9647059 |\n",
       "| 15        | 0.9647059 |\n",
       "| 17        | 0.9705882 |\n",
       "| 19        | 0.9705882 |\n",
       "| 21        | 0.9705882 |\n",
       "| 23        | 0.9705882 |\n",
       "| 25        | 0.9705882 |\n",
       "| 27        | 0.9647059 |\n",
       "| 29        | 0.9529412 |\n",
       "| 31        | 0.9529412 |\n",
       "| 33        | 0.9529412 |\n",
       "| 35        | 0.9529412 |\n",
       "| 37        | 0.9470588 |\n",
       "| 39        | 0.9470588 |\n",
       "| 41        | 0.9470588 |\n",
       "| 43        | 0.9470588 |\n",
       "| 45        | 0.9470588 |\n",
       "| 47        | 0.9411765 |\n",
       "| 49        | 0.9411765 |\n",
       "| 51        | 0.9470588 |\n",
       "| 53        | 0.9470588 |\n",
       "| 55        | 0.9411765 |\n",
       "| 57        | 0.9411765 |\n",
       "| 59        | 0.9352941 |\n",
       "| 61        | 0.9470588 |\n",
       "| 63        | 0.9470588 |\n",
       "| 65        | 0.9470588 |\n",
       "| 67        | 0.9529412 |\n",
       "| 69        | 0.9529412 |\n",
       "| 71        | 0.9470588 |\n",
       "| 73        | 0.9470588 |\n",
       "| 75        | 0.9470588 |\n",
       "| 77        | 0.9470588 |\n",
       "| 79        | 0.9411765 |\n",
       "| 81        | 0.9294118 |\n",
       "| 83        | 0.9294118 |\n",
       "| 85        | 0.9294118 |\n",
       "| 87        | 0.9294118 |\n",
       "| 89        | 0.9294118 |\n",
       "| 91        | 0.9235294 |\n",
       "| 93        | 0.9235294 |\n",
       "| 95        | 0.9235294 |\n",
       "| 97        | 0.9235294 |\n",
       "| 99        | 0.9235294 |\n",
       "\n"
      ],
      "text/plain": [
       "   i  accuracy \n",
       "1   1 0.9647059\n",
       "2   3 0.9705882\n",
       "3   5 0.9764706\n",
       "4   7 0.9705882\n",
       "5   9 0.9647059\n",
       "6  11 0.9588235\n",
       "7  13 0.9647059\n",
       "8  15 0.9647059\n",
       "9  17 0.9705882\n",
       "10 19 0.9705882\n",
       "11 21 0.9705882\n",
       "12 23 0.9705882\n",
       "13 25 0.9705882\n",
       "14 27 0.9647059\n",
       "15 29 0.9529412\n",
       "16 31 0.9529412\n",
       "17 33 0.9529412\n",
       "18 35 0.9529412\n",
       "19 37 0.9470588\n",
       "20 39 0.9470588\n",
       "21 41 0.9470588\n",
       "22 43 0.9470588\n",
       "23 45 0.9470588\n",
       "24 47 0.9411765\n",
       "25 49 0.9411765\n",
       "26 51 0.9470588\n",
       "27 53 0.9470588\n",
       "28 55 0.9411765\n",
       "29 57 0.9411765\n",
       "30 59 0.9352941\n",
       "31 61 0.9470588\n",
       "32 63 0.9470588\n",
       "33 65 0.9470588\n",
       "34 67 0.9529412\n",
       "35 69 0.9529412\n",
       "36 71 0.9470588\n",
       "37 73 0.9470588\n",
       "38 75 0.9470588\n",
       "39 77 0.9470588\n",
       "40 79 0.9411765\n",
       "41 81 0.9294118\n",
       "42 83 0.9294118\n",
       "43 85 0.9294118\n",
       "44 87 0.9294118\n",
       "45 89 0.9294118\n",
       "46 91 0.9235294\n",
       "47 93 0.9235294\n",
       "48 95 0.9235294\n",
       "49 97 0.9235294\n",
       "50 99 0.9235294"
      ]
     },
     "metadata": {},
     "output_type": "display_data"
    }
   ],
   "source": [
    "result"
   ]
  },
  {
   "cell_type": "code",
   "execution_count": 69,
   "metadata": {},
   "outputs": [
    {
     "data": {
      "image/png": "[encoded data removed]",
      "text/plain": [
       "plot without title"
      ]
     },
     "metadata": {},
     "output_type": "display_data"
    }
   ],
   "source": [
    "library(ggplot2)\n",
    "\n",
    "ggplot(result, aes(x=i, y=accuracy))+\n",
    "    geom_line(aes(color=accuracy))+\n",
    "    scale_x_continuous(breaks = seq(1,100,4))"
   ]
  },
  {
   "cell_type": "markdown",
   "metadata": {},
   "source": [
    "### [문제17]\n",
    "모델의 정밀도, 재현율, F1점수 계산해주세요."
   ]
  },
  {
   "cell_type": "code",
   "execution_count": 70,
   "metadata": {},
   "outputs": [
    {
     "name": "stdout",
     "output_type": "stream",
     "text": [
      "\n",
      " \n",
      "   Cell Contents\n",
      "|-------------------------|\n",
      "|                       N |\n",
      "|           N / Row Total |\n",
      "|           N / Col Total |\n",
      "|         N / Table Total |\n",
      "|-------------------------|\n",
      "\n",
      " \n",
      "Total Observations in Table:  170 \n",
      "\n",
      " \n",
      "                 | wbcd_test_pred \n",
      "wbcd_test_labels |         B |         M | Row Total | \n",
      "-----------------|-----------|-----------|-----------|\n",
      "               B |       105 |         2 |       107 | \n",
      "                 |     0.981 |     0.019 |     0.629 | \n",
      "                 |     0.905 |     0.037 |           | \n",
      "                 |     0.618 |     0.012 |           | \n",
      "-----------------|-----------|-----------|-----------|\n",
      "               M |        11 |        52 |        63 | \n",
      "                 |     0.175 |     0.825 |     0.371 | \n",
      "                 |     0.095 |     0.963 |           | \n",
      "                 |     0.065 |     0.306 |           | \n",
      "-----------------|-----------|-----------|-----------|\n",
      "    Column Total |       116 |        54 |       170 | \n",
      "                 |     0.682 |     0.318 |           | \n",
      "-----------------|-----------|-----------|-----------|\n",
      "\n",
      " \n"
     ]
    }
   ],
   "source": [
    "CrossTable(x=wbcd_test_labels, y = wbcd_test_pred, prop.chisq = F)"
   ]
  },
  {
   "cell_type": "code",
   "execution_count": 71,
   "metadata": {},
   "outputs": [
    {
     "data": {
      "text/html": [
       "0.923529411764706"
      ],
      "text/latex": [
       "0.923529411764706"
      ],
      "text/markdown": [
       "0.923529411764706"
      ],
      "text/plain": [
       "[1] 0.9235294"
      ]
     },
     "metadata": {},
     "output_type": "display_data"
    }
   ],
   "source": [
    "# 정확도 (accuracy)\n",
    "(105 + 52) / 170"
   ]
  },
  {
   "cell_type": "code",
   "execution_count": 72,
   "metadata": {},
   "outputs": [
    {
     "data": {
      "text/html": [
       "0.905172413793103"
      ],
      "text/latex": [
       "0.905172413793103"
      ],
      "text/markdown": [
       "0.905172413793103"
      ],
      "text/plain": [
       "[1] 0.9051724"
      ]
     },
     "metadata": {},
     "output_type": "display_data"
    }
   ],
   "source": [
    "# Benign 정밀도 (precision)\n",
    "105 / (105 + 11)"
   ]
  },
  {
   "cell_type": "code",
   "execution_count": 73,
   "metadata": {},
   "outputs": [
    {
     "data": {
      "text/html": [
       "0.962962962962963"
      ],
      "text/latex": [
       "0.962962962962963"
      ],
      "text/markdown": [
       "0.962962962962963"
      ],
      "text/plain": [
       "[1] 0.962963"
      ]
     },
     "metadata": {},
     "output_type": "display_data"
    }
   ],
   "source": [
    "# Malignant 정밀도 (precision)\n",
    "52 / (52 + 2)"
   ]
  },
  {
   "cell_type": "code",
   "execution_count": 74,
   "metadata": {},
   "outputs": [
    {
     "data": {
      "text/html": [
       "0.981308411214953"
      ],
      "text/latex": [
       "0.981308411214953"
      ],
      "text/markdown": [
       "0.981308411214953"
      ],
      "text/plain": [
       "[1] 0.9813084"
      ]
     },
     "metadata": {},
     "output_type": "display_data"
    }
   ],
   "source": [
    "# Benign 재현율 (recall)\n",
    "105 / (105 + 2)"
   ]
  },
  {
   "cell_type": "code",
   "execution_count": 94,
   "metadata": {},
   "outputs": [
    {
     "data": {
      "text/html": [
       "0.825396825396825"
      ],
      "text/latex": [
       "0.825396825396825"
      ],
      "text/markdown": [
       "0.825396825396825"
      ],
      "text/plain": [
       "[1] 0.8253968"
      ]
     },
     "metadata": {},
     "output_type": "display_data"
    }
   ],
   "source": [
    "# Malignant 재현율 (recall)\n",
    "52 / (52 + 11)"
   ]
  },
  {
   "cell_type": "code",
   "execution_count": 76,
   "metadata": {},
   "outputs": [
    {
     "data": {
      "text/html": [
       "0.943703703703704"
      ],
      "text/latex": [
       "0.943703703703704"
      ],
      "text/markdown": [
       "0.943703703703704"
      ],
      "text/plain": [
       "[1] 0.9437037"
      ]
     },
     "metadata": {},
     "output_type": "display_data"
    }
   ],
   "source": [
    "# Benign F1 점수\n",
    "2 * 0.91 * 0.98 / (0.91 + 0.98)"
   ]
  },
  {
   "cell_type": "code",
   "execution_count": 96,
   "metadata": {},
   "outputs": [
    {
     "data": {
      "text/html": [
       "0.890279329608939"
      ],
      "text/latex": [
       "0.890279329608939"
      ],
      "text/markdown": [
       "0.890279329608939"
      ],
      "text/plain": [
       "[1] 0.8902793"
      ]
     },
     "metadata": {},
     "output_type": "display_data"
    }
   ],
   "source": [
    "# Malignant F1 점수\n",
    "2 * 0.96 * 0.83 / (0.96 + 0.83)"
   ]
  },
  {
   "cell_type": "code",
   "execution_count": 79,
   "metadata": {},
   "outputs": [],
   "source": [
    "library(caret)"
   ]
  },
  {
   "cell_type": "code",
   "execution_count": 90,
   "metadata": {},
   "outputs": [
    {
     "data": {
      "text/html": [
       "0.905172413793103"
      ],
      "text/latex": [
       "0.905172413793103"
      ],
      "text/markdown": [
       "0.905172413793103"
      ],
      "text/plain": [
       "[1] 0.9051724"
      ]
     },
     "metadata": {},
     "output_type": "display_data"
    }
   ],
   "source": [
    "# Benign 정밀도\n",
    "posPredValue(wbcd_test_pred, as.factor(wbcd_test_labels), positive = \"B\")"
   ]
  },
  {
   "cell_type": "code",
   "execution_count": 89,
   "metadata": {},
   "outputs": [
    {
     "data": {
      "text/html": [
       "0.962962962962963"
      ],
      "text/latex": [
       "0.962962962962963"
      ],
      "text/markdown": [
       "0.962962962962963"
      ],
      "text/plain": [
       "[1] 0.962963"
      ]
     },
     "metadata": {},
     "output_type": "display_data"
    }
   ],
   "source": [
    "# Malignant 정밀도\n",
    "posPredValue(wbcd_test_pred, as.factor(wbcd_test_labels), positive = \"M\")"
   ]
  },
  {
   "cell_type": "code",
   "execution_count": 91,
   "metadata": {},
   "outputs": [
    {
     "data": {
      "text/html": [
       "0.981308411214953"
      ],
      "text/latex": [
       "0.981308411214953"
      ],
      "text/markdown": [
       "0.981308411214953"
      ],
      "text/plain": [
       "[1] 0.9813084"
      ]
     },
     "metadata": {},
     "output_type": "display_data"
    }
   ],
   "source": [
    "# Benign 민감도, 재현율\n",
    "sensitivity(wbcd_test_pred, as.factor(wbcd_test_labels), positive = \"B\")"
   ]
  },
  {
   "cell_type": "code",
   "execution_count": 92,
   "metadata": {},
   "outputs": [
    {
     "data": {
      "text/html": [
       "0.825396825396825"
      ],
      "text/latex": [
       "0.825396825396825"
      ],
      "text/markdown": [
       "0.825396825396825"
      ],
      "text/plain": [
       "[1] 0.8253968"
      ]
     },
     "metadata": {},
     "output_type": "display_data"
    }
   ],
   "source": [
    "# Malignant 민감도, 재현율\n",
    "sensitivity(wbcd_test_pred, as.factor(wbcd_test_labels), positive = \"M\")"
   ]
  }
 ],
 "metadata": {
  "celltoolbar": "Edit Metadata",
  "kernelspec": {
   "display_name": "R",
   "language": "R",
   "name": "ir"
  },
  "language_info": {
   "codemirror_mode": "r",
   "file_extension": ".r",
   "mimetype": "text/x-r-source",
   "name": "R",
   "pygments_lexer": "r",
   "version": "4.1.0"
  },
  "toc": {
   "base_numbering": 1,
   "nav_menu": {
    "height": "444px",
    "width": "546px"
   },
   "number_sections": false,
   "sideBar": false,
   "skip_h1_title": false,
   "title_cell": "Table of Contents",
   "title_sidebar": "Contents",
   "toc_cell": false,
   "toc_position": {
    "height": "343px",
    "left": "42px",
    "top": "208px",
    "width": "253px"
   },
   "toc_section_display": true,
   "toc_window_display": true
  },
  "varInspector": {
   "cols": {
    "lenName": 16,
    "lenType": 16,
    "lenVar": 40
   },
   "kernels_config": {
    "python": {
     "delete_cmd_postfix": "",
     "delete_cmd_prefix": "del ",
     "library": "var_list.py",
     "varRefreshCmd": "print(var_dic_list())"
    },
    "r": {
     "delete_cmd_postfix": ") ",
     "delete_cmd_prefix": "rm(",
     "library": "var_list.r",
     "varRefreshCmd": "cat(var_dic_list()) "
    }
   },
   "types_to_exclude": [
    "module",
    "function",
    "builtin_function_or_method",
    "instance",
    "_Feature"
   ],
   "window_display": false
  }
 },
 "nbformat": 4,
 "nbformat_minor": 4
}
